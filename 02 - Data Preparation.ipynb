{
 "cells": [
  {
   "cell_type": "markdown",
   "id": "1d978bd4",
   "metadata": {},
   "source": [
    "## Data Preparation\n",
    "***"
   ]
  },
  {
   "cell_type": "code",
   "execution_count": 1,
   "id": "6fc1c1f6",
   "metadata": {
    "ExecuteTime": {
     "end_time": "2023-08-25T13:51:01.655183Z",
     "start_time": "2023-08-25T13:51:00.063246Z"
    }
   },
   "outputs": [],
   "source": [
    "import matplotlib.pyplot as plt\n",
    "import pandas as pd\n",
    "\n",
    "from imblearn.over_sampling import SMOTE\n",
    "from imblearn.pipeline import Pipeline as ImPipeline\n",
    "import seaborn as sns\n",
    "from sklearn.compose import ColumnTransformer\n",
    "from sklearn.dummy import DummyClassifier\n",
    "from sklearn.ensemble import AdaBoostClassifier, GradientBoostingClassifier, RandomForestClassifier\n",
    "from sklearn.linear_model import LogisticRegression\n",
    "from sklearn.metrics import confusion_matrix, ConfusionMatrixDisplay, f1_score, recall_score, log_loss, roc_auc_score\n",
    "from sklearn.model_selection import cross_val_score, cross_validate, GridSearchCV, train_test_split, RepeatedStratifiedKFold, StratifiedKFold\n",
    "from sklearn.naive_bayes import GaussianNB\n",
    "from sklearn.neighbors import KNeighborsClassifier\n",
    "from sklearn.pipeline import Pipeline\n",
    "from sklearn.preprocessing import LabelEncoder, OrdinalEncoder, OneHotEncoder, StandardScaler\n",
    "from sklearn.tree import DecisionTreeClassifier\n",
    "from xgboost import XGBClassifier\n",
    "\n",
    "df = pd.read_csv('data/Cardiovascular_Diseases_Risk_Prediction_Dataset.csv')\n",
    "ordinal = ['General_Health', 'Checkup', 'Age_Category']\n",
    "numeric = list(df.select_dtypes(exclude=object).columns)\n",
    "categorical = list(df.select_dtypes(object).columns)\n",
    "for i in ordinal:\n",
    "    categorical.remove(i)\n",
    "categorical.remove('Heart_Disease')"
   ]
  },
  {
   "cell_type": "code",
   "execution_count": 2,
   "id": "ae1c6bdd",
   "metadata": {
    "ExecuteTime": {
     "end_time": "2023-08-25T13:51:01.907914Z",
     "start_time": "2023-08-25T13:51:01.655183Z"
    }
   },
   "outputs": [],
   "source": [
    "# Splitting the training from the validation data\n",
    "# Making sure the split is stratefied given teh imbalance of our target variable\n",
    "y = df['Heart_Disease']\n",
    "X = df.drop('Heart_Disease',axis=1)\n",
    "X_train, X_test, y_train, y_test = train_test_split(\n",
    "    X, y, random_state=12, stratify= y)"
   ]
  },
  {
   "cell_type": "code",
   "execution_count": 3,
   "id": "c550454e",
   "metadata": {
    "ExecuteTime": {
     "end_time": "2023-08-25T13:51:01.926133Z",
     "start_time": "2023-08-25T13:51:01.908926Z"
    }
   },
   "outputs": [
    {
     "name": "stdout",
     "output_type": "stream",
     "text": [
      "Training Target Distribution\n",
      "No     0.91915\n",
      "Yes    0.08085\n",
      "Name: Heart_Disease, dtype: float64\n",
      "\n",
      "Validation Target Distribution\n",
      "No     0.919147\n",
      "Yes    0.080853\n",
      "Name: Heart_Disease, dtype: float64\n"
     ]
    }
   ],
   "source": [
    "print('Training Target Distribution')\n",
    "print(y_train.value_counts(normalize=True))\n",
    "print('')\n",
    "print('Validation Target Distribution')\n",
    "print(y_test.value_counts(normalize=True))"
   ]
  },
  {
   "cell_type": "code",
   "execution_count": 4,
   "id": "f4459ce6",
   "metadata": {
    "ExecuteTime": {
     "end_time": "2023-08-25T13:51:01.959008Z",
     "start_time": "2023-08-25T13:51:01.928139Z"
    }
   },
   "outputs": [],
   "source": [
    "# Transforming the target variable into 1's and 0's\n",
    "le = LabelEncoder()\n",
    "y_train = le.fit_transform(y_train)\n",
    "y_test = le.transform(y_test)"
   ]
  },
  {
   "cell_type": "code",
   "execution_count": 5,
   "id": "7a4cef94",
   "metadata": {
    "ExecuteTime": {
     "end_time": "2023-08-25T13:51:01.963926Z",
     "start_time": "2023-08-25T13:51:01.960017Z"
    }
   },
   "outputs": [],
   "source": [
    "# Listing categories in order for each ordinal variable.\n",
    "health = ['Poor', 'Fair', 'Good', 'Very Good', 'Excellent']\n",
    "check = [\n",
    "    'Never', '5 or more years ago', 'Within the past 5 years',\n",
    "    'Within the past 2 years', 'Within the past year'\n",
    "]\n",
    "age = [\n",
    "    '18-24', '25-29', '30-34', '35-39', '40-44', '45-49', '50-54', '55-59',\n",
    "    '60-64', '65-69', '70-74', '75-79', '80+'\n",
    "]\n",
    "\n",
    "# Instantiating an OrdinalEncoder transformer to encode ordinal variables. \n",
    "oe = OrdinalEncoder(categories=[health, check, age])\n"
   ]
  },
  {
   "cell_type": "code",
   "execution_count": 6,
   "id": "95f63fd9",
   "metadata": {
    "ExecuteTime": {
     "end_time": "2023-08-25T13:51:01.967811Z",
     "start_time": "2023-08-25T13:51:01.964931Z"
    }
   },
   "outputs": [],
   "source": [
    "# Instantiating a OneHotEncoder transformer to be used on the categorical varaibles. \n",
    "ohe = OneHotEncoder()"
   ]
  },
  {
   "cell_type": "code",
   "execution_count": 7,
   "id": "d69db46a",
   "metadata": {
    "ExecuteTime": {
     "end_time": "2023-08-25T13:51:01.972040Z",
     "start_time": "2023-08-25T13:51:01.968817Z"
    }
   },
   "outputs": [],
   "source": [
    "# Creating a column transformer to be used in a pipeline\n",
    "col_transformer = ColumnTransformer(transformers=[\n",
    "    ('oe', OrdinalEncoder(categories=[health, check, age]), ordinal),\n",
    "    ('ohe', OneHotEncoder(), categorical)\n",
    "], remainder=\"passthrough\")"
   ]
  },
  {
   "cell_type": "code",
   "execution_count": null,
   "id": "3567fbd9",
   "metadata": {},
   "outputs": [],
   "source": []
  }
 ],
 "metadata": {
  "kernelspec": {
   "display_name": "Python 3 (ipykernel)",
   "language": "python",
   "name": "python3"
  },
  "language_info": {
   "codemirror_mode": {
    "name": "ipython",
    "version": 3
   },
   "file_extension": ".py",
   "mimetype": "text/x-python",
   "name": "python",
   "nbconvert_exporter": "python",
   "pygments_lexer": "ipython3",
   "version": "3.11.4"
  },
  "varInspector": {
   "cols": {
    "lenName": 16,
    "lenType": 16,
    "lenVar": 40
   },
   "kernels_config": {
    "python": {
     "delete_cmd_postfix": "",
     "delete_cmd_prefix": "del ",
     "library": "var_list.py",
     "varRefreshCmd": "print(var_dic_list())"
    },
    "r": {
     "delete_cmd_postfix": ") ",
     "delete_cmd_prefix": "rm(",
     "library": "var_list.r",
     "varRefreshCmd": "cat(var_dic_list()) "
    }
   },
   "types_to_exclude": [
    "module",
    "function",
    "builtin_function_or_method",
    "instance",
    "_Feature"
   ],
   "window_display": false
  }
 },
 "nbformat": 4,
 "nbformat_minor": 5
}
