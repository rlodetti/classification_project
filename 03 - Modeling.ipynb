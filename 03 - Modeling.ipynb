{
 "cells": [
  {
   "cell_type": "markdown",
   "id": "4a77dbee",
   "metadata": {},
   "source": [
    "## Data Modeling\n",
    "***"
   ]
  },
  {
   "cell_type": "markdown",
   "id": "8d4cf25e",
   "metadata": {},
   "source": [
    "Notes\n",
    "1. Dummy\n",
    "2. Logreg\n",
    "\n",
    "XGBClassifier, RandomForest\n",
    "\n",
    "3. XGBClassifier, f2\n",
    "3. XGBClassifier, f2-weighted\n",
    "3. XGBClassifier, f2-SMOTE\n",
    "3. XGBClassifier, f2-ADASYN\n",
    "\n",
    "Randomize winner?\n",
    "\n",
    "Gridsearch from there?\n",
    "\n",
    "3. XGBClassifier, f2 - randomizedcv\n",
    "3. XGBClassifier, f2-weighted - randomizedcv\n",
    "3. XGBClassifier, f2-SMOTE - randomizedcv\n",
    "3. XGBClassifier, f2, randomizedcv\n",
    "3. XGBClassifier, f2-weighted, randomizedcv\n",
    "3. XGBClassifier, f2, randomizedcv"
   ]
  },
  {
   "cell_type": "code",
   "execution_count": 38,
   "id": "91e0e461",
   "metadata": {
    "ExecuteTime": {
     "end_time": "2023-08-27T14:36:28.318705Z",
     "start_time": "2023-08-27T14:36:27.524275Z"
    }
   },
   "outputs": [],
   "source": [
    "import matplotlib.pyplot as plt\n",
    "import pandas as pd\n",
    "import numpy as np\n",
    "\n",
    "from imblearn.over_sampling import SMOTE, ADASYN\n",
    "from imblearn.pipeline import Pipeline as ImPipeline\n",
    "import seaborn as sns\n",
    "from sklearn.compose import ColumnTransformer\n",
    "from sklearn.dummy import DummyClassifier\n",
    "from sklearn.ensemble import AdaBoostClassifier, GradientBoostingClassifier, RandomForestClassifier\n",
    "from sklearn.linear_model import LogisticRegression\n",
    "from sklearn.metrics import confusion_matrix, ConfusionMatrixDisplay, f1_score, recall_score, log_loss, roc_auc_score, make_scorer, fbeta_score\n",
    "from sklearn.model_selection import cross_val_score, cross_validate, GridSearchCV, train_test_split, RepeatedStratifiedKFold, StratifiedKFold, RandomizedSearchCV\n",
    "from sklearn.naive_bayes import GaussianNB\n",
    "from sklearn.neighbors import KNeighborsClassifier\n",
    "from sklearn.pipeline import Pipeline\n",
    "from sklearn.preprocessing import LabelEncoder, OrdinalEncoder, OneHotEncoder, StandardScaler\n",
    "from sklearn.tree import DecisionTreeClassifier\n",
    "from xgboost import XGBClassifier\n",
    "import matplotlib.pyplot as plt\n",
    "import pandas as pd\n",
    "\n",
    "from imblearn.over_sampling import SMOTE\n",
    "from imblearn.pipeline import Pipeline as ImPipeline\n",
    "import seaborn as sns\n",
    "from sklearn.compose import ColumnTransformer\n",
    "from sklearn.dummy import DummyClassifier\n",
    "from sklearn.ensemble import AdaBoostClassifier, GradientBoostingClassifier, RandomForestClassifier\n",
    "from sklearn.linear_model import LogisticRegression\n",
    "from sklearn.metrics import confusion_matrix, ConfusionMatrixDisplay, f1_score, recall_score, log_loss, roc_auc_score\n",
    "from sklearn.model_selection import cross_val_score, cross_validate, GridSearchCV, train_test_split, RepeatedStratifiedKFold, StratifiedKFold\n",
    "from sklearn.naive_bayes import GaussianNB\n",
    "from sklearn.neighbors import KNeighborsClassifier\n",
    "from sklearn.pipeline import Pipeline\n",
    "from sklearn.preprocessing import LabelEncoder, OrdinalEncoder, OneHotEncoder, StandardScaler\n",
    "from sklearn.tree import DecisionTreeClassifier\n",
    "from xgboost import XGBClassifier\n",
    "\n",
    "df = pd.read_csv('data/Cardiovascular_Diseases_Risk_Prediction_Dataset.csv')\n",
    "ordinal = ['General_Health', 'Checkup', 'Age_Category']\n",
    "numeric = list(df.select_dtypes(exclude=object).columns)\n",
    "categorical = list(df.select_dtypes(object).columns)\n",
    "for i in ordinal:\n",
    "    categorical.remove(i)\n",
    "categorical.remove('Heart_Disease')\n",
    "\n",
    "# Splitting the training from the validation data\n",
    "# Making sure the split is stratefied given teh imbalance of our target variable\n",
    "y = df['Heart_Disease']\n",
    "X = df.drop('Heart_Disease',axis=1)\n",
    "X_train, X_test, y_train, y_test = train_test_split(\n",
    "    X, y, random_state=12, stratify= y)\n",
    "\n",
    "# Transforming the target variable into 1's and 0's\n",
    "le = LabelEncoder()\n",
    "y_train = le.fit_transform(y_train)\n",
    "y_test = le.transform(y_test)\n",
    "\n",
    "\n",
    "# Listing categories in order for each ordinal variable.\n",
    "health = ['Poor', 'Fair', 'Good', 'Very Good', 'Excellent']\n",
    "check = [\n",
    "    'Never', '5 or more years ago', 'Within the past 5 years',\n",
    "    'Within the past 2 years', 'Within the past year'\n",
    "]\n",
    "age = [\n",
    "    '18-24', '25-29', '30-34', '35-39', '40-44', '45-49', '50-54', '55-59',\n",
    "    '60-64', '65-69', '70-74', '75-79', '80+'\n",
    "]\n",
    "\n",
    "# Instantiating an OrdinalEncoder transformer to encode ordinal variables. \n",
    "oe = OrdinalEncoder(categories=[health, check, age])\n",
    "\n",
    "\n",
    "# Instantiating a OneHotEncoder transformer to be used on the categorical varaibles. \n",
    "ohe = OneHotEncoder()\n",
    "\n",
    "# Creating a column transformer to be used in a pipeline\n",
    "col_transformer = ColumnTransformer(transformers=[\n",
    "    ('oe', OrdinalEncoder(categories=[health, check, age]), ordinal),\n",
    "    ('ohe', OneHotEncoder(), categorical)\n",
    "], remainder=\"passthrough\")\n",
    "\n",
    "def model_scores(model_name, model, X_train, y_train, model_list= [], notes = ''):\n",
    "    skf = StratifiedKFold(n_splits=5, shuffle=True, random_state=12)\n",
    "    scoring = {'f2': make_scorer(fbeta_score, beta=2),\n",
    "               'recall': 'recall',\n",
    "               'accuracy':'accuracy',\n",
    "               'f1':'f1',\n",
    "               'roc_auc':'roc_auc',\n",
    "               'precision': 'precision'}\n",
    "    scores = cross_validate(model,\n",
    "                           X_train,\n",
    "                           y_train,\n",
    "                           scoring = scoring,\n",
    "                           cv=skf,\n",
    "                           n_jobs=-1)\n",
    "    time = round(scores['fit_time'].mean() + scores['score_time'].mean(),0)\n",
    "    f2 = round(scores['test_f2'].mean(),4)*100\n",
    "    recall = round(scores['test_recall'].mean(),4)*100\n",
    "    accuracy = round(scores['test_accuracy'].mean(),4)*100\n",
    "    f1 = round(scores['test_f1'].mean(),4)*100\n",
    "    roc_auc = round(scores['test_roc_auc'].mean(),4)*100\n",
    "    precision = round(scores['test_precision'].mean(),4)*100\n",
    "    model_list.append([model_name, time, f2, recall, accuracy, f1, roc_auc, precision, notes])\n",
    "    df = pd.DataFrame(model_list, columns=['model', 'time (in s)', 'f2', 'recall', 'accuracy', 'f1', 'roc_auc', 'precision', 'notes'])\n",
    "    return model_list, df\n"
   ]
  },
  {
   "cell_type": "code",
   "execution_count": 51,
   "id": "4c3041be",
   "metadata": {
    "ExecuteTime": {
     "end_time": "2023-08-27T14:50:21.608835Z",
     "start_time": "2023-08-27T14:50:21.600931Z"
    }
   },
   "outputs": [],
   "source": [
    "def model_scores(model, X, y, model_list= [], cv= 5, model_name = ''):\n",
    "    if cv>1:\n",
    "        skf = StratifiedKFold(n_splits=cv, shuffle=True, random_state=12)\n",
    "        scoring = {'f2': make_scorer(fbeta_score, beta=2),\n",
    "                   'accuracy':'accuracy',\n",
    "                   'precision': 'precision',\n",
    "                   'recall': 'recall',\n",
    "                   'roc_auc':'roc_auc',\n",
    "                   'log_loss': 'neg_log_loss'}\n",
    "        scores = cross_validate(model,\n",
    "                               X,\n",
    "                               y,\n",
    "                               scoring = scoring,\n",
    "                               cv=skf,\n",
    "                               n_jobs=-1)\n",
    "        f2 = round(scores['test_f2'].mean(),4)*100\n",
    "        accuracy = round(scores['test_accuracy'].mean(),4)*100\n",
    "        precision = round(scores['test_precision'].mean(),4)*100\n",
    "        recall = round(scores['test_recall'].mean(),4)*100\n",
    "        roc_auc = round(scores['test_roc_auc'].mean(),4)*100\n",
    "        lg_loss = round(scores['test_log_loss'].mean(),4)*100\n",
    "    else:\n",
    "        y_preds = model.predict(X)\n",
    "        f2 = round(fbeta_score(y,y_preds,beta=2),4)*100\n",
    "        recall = round(recall_score(y,y_preds),4)*100\n",
    "        accuracy = round(accuracy_score(y,y_preds),4)*100\n",
    "        roc_auc = round(roc_auc_score(y,y_preds),4)*100\n",
    "        precision = round(precision_score(y,y_preds, zero_division=0.0),4)*100\n",
    "        lg_loss = round(log_loss(y,model.predict_proba(X)),4)*100\n",
    "    model_list.append([model_name, f2, accuracy, precision, recall, roc_auc, lg_loss])\n",
    "    df = pd.DataFrame(model_list, columns=['name', 'f2', 'accuracy', 'precision', 'recall',  'roc_auc', 'log_loss'])\n",
    "    return model_list, df"
   ]
  },
  {
   "cell_type": "markdown",
   "id": "427d0c9d",
   "metadata": {},
   "source": [
    "### Dummy Model"
   ]
  },
  {
   "cell_type": "code",
   "execution_count": 52,
   "id": "a27d2d18",
   "metadata": {
    "ExecuteTime": {
     "end_time": "2023-08-27T14:50:25.600503Z",
     "start_time": "2023-08-27T14:50:23.524998Z"
    }
   },
   "outputs": [
    {
     "data": {
      "text/html": [
       "<div>\n",
       "<style scoped>\n",
       "    .dataframe tbody tr th:only-of-type {\n",
       "        vertical-align: middle;\n",
       "    }\n",
       "\n",
       "    .dataframe tbody tr th {\n",
       "        vertical-align: top;\n",
       "    }\n",
       "\n",
       "    .dataframe thead th {\n",
       "        text-align: right;\n",
       "    }\n",
       "</style>\n",
       "<table border=\"1\" class=\"dataframe\">\n",
       "  <thead>\n",
       "    <tr style=\"text-align: right;\">\n",
       "      <th></th>\n",
       "      <th>name</th>\n",
       "      <th>f2</th>\n",
       "      <th>accuracy</th>\n",
       "      <th>precision</th>\n",
       "      <th>recall</th>\n",
       "      <th>roc_auc</th>\n",
       "      <th>log_loss</th>\n",
       "    </tr>\n",
       "  </thead>\n",
       "  <tbody>\n",
       "    <tr>\n",
       "      <th>0</th>\n",
       "      <td>Dummy Model</td>\n",
       "      <td>0.0</td>\n",
       "      <td>91.92</td>\n",
       "      <td>0.0</td>\n",
       "      <td>0.0</td>\n",
       "      <td>50.0</td>\n",
       "      <td>-291.41</td>\n",
       "    </tr>\n",
       "  </tbody>\n",
       "</table>\n",
       "</div>"
      ],
      "text/plain": [
       "          name   f2  accuracy  precision  recall  roc_auc  log_loss\n",
       "0  Dummy Model  0.0     91.92        0.0     0.0     50.0   -291.41"
      ]
     },
     "execution_count": 52,
     "metadata": {},
     "output_type": "execute_result"
    }
   ],
   "source": [
    "pipe = Pipeline(steps=[('ct', col_transformer),\n",
    "                      ('dm', DummyClassifier(strategy='most_frequent'))])\n",
    "dummy_model = pipe.fit(X_train, y_train)\n",
    "ml, mdf = model_scores(dummy_model, X_train, y_train, model_list= [], cv= 5, model_name = 'Dummy Model')\n",
    "mdf"
   ]
  },
  {
   "cell_type": "markdown",
   "id": "981d6ed0",
   "metadata": {},
   "source": [
    "### Baseline Model"
   ]
  },
  {
   "cell_type": "code",
   "execution_count": 53,
   "id": "80311f4e",
   "metadata": {
    "ExecuteTime": {
     "end_time": "2023-08-27T14:51:26.287343Z",
     "start_time": "2023-08-27T14:51:23.390178Z"
    }
   },
   "outputs": [
    {
     "data": {
      "text/html": [
       "<div>\n",
       "<style scoped>\n",
       "    .dataframe tbody tr th:only-of-type {\n",
       "        vertical-align: middle;\n",
       "    }\n",
       "\n",
       "    .dataframe tbody tr th {\n",
       "        vertical-align: top;\n",
       "    }\n",
       "\n",
       "    .dataframe thead th {\n",
       "        text-align: right;\n",
       "    }\n",
       "</style>\n",
       "<table border=\"1\" class=\"dataframe\">\n",
       "  <thead>\n",
       "    <tr style=\"text-align: right;\">\n",
       "      <th></th>\n",
       "      <th>name</th>\n",
       "      <th>f2</th>\n",
       "      <th>accuracy</th>\n",
       "      <th>precision</th>\n",
       "      <th>recall</th>\n",
       "      <th>roc_auc</th>\n",
       "      <th>log_loss</th>\n",
       "    </tr>\n",
       "  </thead>\n",
       "  <tbody>\n",
       "    <tr>\n",
       "      <th>0</th>\n",
       "      <td>Dummy Model</td>\n",
       "      <td>0.0</td>\n",
       "      <td>91.92</td>\n",
       "      <td>0.00</td>\n",
       "      <td>0.00</td>\n",
       "      <td>50.00</td>\n",
       "      <td>-291.41</td>\n",
       "    </tr>\n",
       "    <tr>\n",
       "      <th>1</th>\n",
       "      <td>Baseline Model</td>\n",
       "      <td>7.5</td>\n",
       "      <td>91.94</td>\n",
       "      <td>51.39</td>\n",
       "      <td>6.18</td>\n",
       "      <td>83.41</td>\n",
       "      <td>-22.23</td>\n",
       "    </tr>\n",
       "  </tbody>\n",
       "</table>\n",
       "</div>"
      ],
      "text/plain": [
       "             name   f2  accuracy  precision  recall  roc_auc  log_loss\n",
       "0     Dummy Model  0.0     91.92       0.00    0.00    50.00   -291.41\n",
       "1  Baseline Model  7.5     91.94      51.39    6.18    83.41    -22.23"
      ]
     },
     "execution_count": 53,
     "metadata": {},
     "output_type": "execute_result"
    }
   ],
   "source": [
    "pipe = Pipeline(steps=[('ct', col_transformer),\n",
    "                       ('ss', StandardScaler()),\n",
    "                      ('log_reg', LogisticRegression(solver='lbfgs', max_iter=1000, random_state=12))])\n",
    "logreg_model = pipe.fit(X_train, y_train)\n",
    "ml, mdf = model_scores(logreg_model, X_train, y_train, model_list= ml, cv= 5, model_name = 'Baseline Model')\n",
    "mdf"
   ]
  },
  {
   "cell_type": "markdown",
   "id": "22470ecc",
   "metadata": {},
   "source": [
    "### Model Iteration\n"
   ]
  },
  {
   "cell_type": "code",
   "execution_count": 58,
   "id": "a8ca786e",
   "metadata": {
    "ExecuteTime": {
     "end_time": "2023-08-27T23:43:20.460451Z",
     "start_time": "2023-08-27T23:42:13.052517Z"
    }
   },
   "outputs": [
    {
     "data": {
      "text/html": [
       "<div>\n",
       "<style scoped>\n",
       "    .dataframe tbody tr th:only-of-type {\n",
       "        vertical-align: middle;\n",
       "    }\n",
       "\n",
       "    .dataframe tbody tr th {\n",
       "        vertical-align: top;\n",
       "    }\n",
       "\n",
       "    .dataframe thead th {\n",
       "        text-align: right;\n",
       "    }\n",
       "</style>\n",
       "<table border=\"1\" class=\"dataframe\">\n",
       "  <thead>\n",
       "    <tr style=\"text-align: right;\">\n",
       "      <th></th>\n",
       "      <th>name</th>\n",
       "      <th>f2</th>\n",
       "      <th>accuracy</th>\n",
       "      <th>precision</th>\n",
       "      <th>recall</th>\n",
       "      <th>roc_auc</th>\n",
       "      <th>log_loss</th>\n",
       "    </tr>\n",
       "  </thead>\n",
       "  <tbody>\n",
       "    <tr>\n",
       "      <th>0</th>\n",
       "      <td>Basic RandomForestClassifier</td>\n",
       "      <td>5.34</td>\n",
       "      <td>91.81</td>\n",
       "      <td>43.76</td>\n",
       "      <td>4.38</td>\n",
       "      <td>80.85</td>\n",
       "      <td>-29.00</td>\n",
       "    </tr>\n",
       "    <tr>\n",
       "      <th>1</th>\n",
       "      <td>Basic XGBClassifier</td>\n",
       "      <td>6.54</td>\n",
       "      <td>91.87</td>\n",
       "      <td>47.73</td>\n",
       "      <td>5.38</td>\n",
       "      <td>82.94</td>\n",
       "      <td>-22.47</td>\n",
       "    </tr>\n",
       "  </tbody>\n",
       "</table>\n",
       "</div>"
      ],
      "text/plain": [
       "                           name    f2  accuracy  precision  recall  roc_auc  \\\n",
       "0  Basic RandomForestClassifier  5.34     91.81      43.76    4.38    80.85   \n",
       "1           Basic XGBClassifier  6.54     91.87      47.73    5.38    82.94   \n",
       "\n",
       "   log_loss  \n",
       "0    -29.00  \n",
       "1    -22.47  "
      ]
     },
     "execution_count": 58,
     "metadata": {},
     "output_type": "execute_result"
    }
   ],
   "source": [
    "pipe_rfc = Pipeline(steps=[('ct', col_transformer),\n",
    "                       ('rfc', RandomForestClassifier(random_state=12))])\n",
    "rfc_model = pipe_rfc.fit(X_train, y_train)\n",
    "compare_list, compare_df = model_scores(rfc_model, X_train, y_train, model_list= [], model_name= 'Basic RandomForestClassifier')\n",
    "\n",
    "pipe_xgb = Pipeline(steps=[('ct', col_transformer),\n",
    "                       ('xgb', XGBClassifier(random_state=12, tree_method= 'hist'))])\n",
    "xgb_model = pipe_xgb.fit(X_train, y_train)\n",
    "compare_list, compare_df = model_scores(xgb_model, X_train, y_train, model_list= compare_list, model_name= 'Basic XGBClassifier')\n",
    "compare_df\n"
   ]
  },
  {
   "cell_type": "code",
   "execution_count": 59,
   "id": "af69ffbe",
   "metadata": {
    "ExecuteTime": {
     "end_time": "2023-08-27T23:46:32.209471Z",
     "start_time": "2023-08-27T23:43:20.462259Z"
    }
   },
   "outputs": [
    {
     "data": {
      "text/html": [
       "<div>\n",
       "<style scoped>\n",
       "    .dataframe tbody tr th:only-of-type {\n",
       "        vertical-align: middle;\n",
       "    }\n",
       "\n",
       "    .dataframe tbody tr th {\n",
       "        vertical-align: top;\n",
       "    }\n",
       "\n",
       "    .dataframe thead th {\n",
       "        text-align: right;\n",
       "    }\n",
       "</style>\n",
       "<table border=\"1\" class=\"dataframe\">\n",
       "  <thead>\n",
       "    <tr style=\"text-align: right;\">\n",
       "      <th></th>\n",
       "      <th>name</th>\n",
       "      <th>f2</th>\n",
       "      <th>accuracy</th>\n",
       "      <th>precision</th>\n",
       "      <th>recall</th>\n",
       "      <th>roc_auc</th>\n",
       "      <th>log_loss</th>\n",
       "    </tr>\n",
       "  </thead>\n",
       "  <tbody>\n",
       "    <tr>\n",
       "      <th>0</th>\n",
       "      <td>Basic XGB</td>\n",
       "      <td>6.54</td>\n",
       "      <td>91.87</td>\n",
       "      <td>47.73</td>\n",
       "      <td>5.38</td>\n",
       "      <td>82.94</td>\n",
       "      <td>-22.47</td>\n",
       "    </tr>\n",
       "    <tr>\n",
       "      <th>1</th>\n",
       "      <td>Weighted XGB</td>\n",
       "      <td>49.27</td>\n",
       "      <td>74.52</td>\n",
       "      <td>20.62</td>\n",
       "      <td>75.49</td>\n",
       "      <td>82.41</td>\n",
       "      <td>-47.16</td>\n",
       "    </tr>\n",
       "    <tr>\n",
       "      <th>2</th>\n",
       "      <td>SMOTE XGB</td>\n",
       "      <td>6.75</td>\n",
       "      <td>91.81</td>\n",
       "      <td>44.54</td>\n",
       "      <td>5.57</td>\n",
       "      <td>82.81</td>\n",
       "      <td>-22.56</td>\n",
       "    </tr>\n",
       "    <tr>\n",
       "      <th>3</th>\n",
       "      <td>ADASYN XGB</td>\n",
       "      <td>5.84</td>\n",
       "      <td>91.78</td>\n",
       "      <td>42.56</td>\n",
       "      <td>4.81</td>\n",
       "      <td>82.82</td>\n",
       "      <td>-22.55</td>\n",
       "    </tr>\n",
       "  </tbody>\n",
       "</table>\n",
       "</div>"
      ],
      "text/plain": [
       "           name     f2  accuracy  precision  recall  roc_auc  log_loss\n",
       "0     Basic XGB   6.54     91.87      47.73    5.38    82.94    -22.47\n",
       "1  Weighted XGB  49.27     74.52      20.62   75.49    82.41    -47.16\n",
       "2     SMOTE XGB   6.75     91.81      44.54    5.57    82.81    -22.56\n",
       "3    ADASYN XGB   5.84     91.78      42.56    4.81    82.82    -22.55"
      ]
     },
     "execution_count": 59,
     "metadata": {},
     "output_type": "execute_result"
    }
   ],
   "source": [
    "# Choose between XGBClassifier Variants\n",
    "\n",
    "# Basic\n",
    "ml_xgb, df_xgb = model_scores(xgb_model, X_train, y_train, model_list = [], model_name= \"Basic XGB\")\n",
    "\n",
    "# Weighted\n",
    "pipe = Pipeline(steps=[('ct', col_transformer),\n",
    "                       ('xgb', XGBClassifier(random_state=12,scale_pos_weight=283883/24971))])\n",
    "xgb_weighted = pipe.fit(X_train, y_train)\n",
    "ml_xgb, df_xgb = model_scores(xgb_weighted, X_train, y_train, model_list = ml_xgb, model_name= \"Weighted XGB\")\n",
    "\n",
    "# SMOTE\n",
    "pipe = ImPipeline(steps=[('ct', col_transformer),\n",
    "                       ('ss', StandardScaler()),\n",
    "                       ('sm',SMOTE(random_state=12)),\n",
    "                       ('xgb', XGBClassifier(random_state=12))])\n",
    "xgb_smote = pipe.fit(X_train, y_train)\n",
    "ml_xgb, df_xgb = model_scores(xgb_smote, X_train, y_train, model_list = ml_xgb, model_name= \"SMOTE XGB\")\n",
    "\n",
    "# ADASYN\n",
    "pipe = ImPipeline(steps=[('ct', col_transformer),\n",
    "                       ('ss', StandardScaler()),\n",
    "                       ('sm',ADASYN(random_state=12)),\n",
    "                       ('xgb', XGBClassifier(random_state=12))])\n",
    "xgb_adasyn = pipe.fit(X_train, y_train)\n",
    "ml_xgb, df_xgb = model_scores(xgb_adasyn, X_train, y_train, model_list = ml_xgb, model_name= \"ADASYN XGB\")\n",
    "df_xgb\n"
   ]
  },
  {
   "cell_type": "code",
   "execution_count": 14,
   "id": "c2155e65",
   "metadata": {
    "ExecuteTime": {
     "end_time": "2023-08-26T22:45:49.708981Z",
     "start_time": "2023-08-26T21:09:50.736520Z"
    }
   },
   "outputs": [
    {
     "name": "stdout",
     "output_type": "stream",
     "text": [
      "{'xbg__reg_lambda': 10, 'xbg__reg_alpha': 0.1, 'xbg__n_estimators': 650, 'xbg__min_child_weight': 1, 'xbg__max_depth': 4, 'xbg__gamma': 10, 'xbg__eta': 0.15, 'xbg__colsample_bytree': 0.42857142857142855}\n"
     ]
    },
    {
     "data": {
      "text/html": [
       "<div>\n",
       "<style scoped>\n",
       "    .dataframe tbody tr th:only-of-type {\n",
       "        vertical-align: middle;\n",
       "    }\n",
       "\n",
       "    .dataframe tbody tr th {\n",
       "        vertical-align: top;\n",
       "    }\n",
       "\n",
       "    .dataframe thead th {\n",
       "        text-align: right;\n",
       "    }\n",
       "</style>\n",
       "<table border=\"1\" class=\"dataframe\">\n",
       "  <thead>\n",
       "    <tr style=\"text-align: right;\">\n",
       "      <th></th>\n",
       "      <th>model</th>\n",
       "      <th>time (in s)</th>\n",
       "      <th>f2</th>\n",
       "      <th>recall</th>\n",
       "      <th>accuracy</th>\n",
       "      <th>f1</th>\n",
       "      <th>roc_auc</th>\n",
       "      <th>precision</th>\n",
       "      <th>notes</th>\n",
       "    </tr>\n",
       "  </thead>\n",
       "  <tbody>\n",
       "    <tr>\n",
       "      <th>0</th>\n",
       "      <td>XGBClassifier</td>\n",
       "      <td>7.0</td>\n",
       "      <td>50.32</td>\n",
       "      <td>80.33</td>\n",
       "      <td>72.72</td>\n",
       "      <td>32.25</td>\n",
       "      <td>83.63</td>\n",
       "      <td>20.18</td>\n",
       "      <td>Best Estimator from RS</td>\n",
       "    </tr>\n",
       "  </tbody>\n",
       "</table>\n",
       "</div>"
      ],
      "text/plain": [
       "           model  time (in s)     f2  recall  accuracy     f1  roc_auc  \\\n",
       "0  XGBClassifier          7.0  50.32   80.33     72.72  32.25    83.63   \n",
       "\n",
       "   precision                   notes  \n",
       "0      20.18  Best Estimator from RS  "
      ]
     },
     "execution_count": 14,
     "metadata": {},
     "output_type": "execute_result"
    }
   ],
   "source": [
    "# Randomize the Weighted\n",
    "pipe = Pipeline(steps=[('ct', col_transformer),\n",
    "                       ('xbg', XGBClassifier(random_state=12, tree_method='hist', scale_pos_weight= 283883/24971))])\n",
    "\n",
    "params = {\n",
    "    'xbg__n_estimators': range(50,1000,50),\n",
    "    'xbg__max_depth': range(1,15),\n",
    "    'xbg__eta': [0.001, 0.005, 0.01, 0.05, 0.1, 0.15, 0.2, 0.25, 0.3],\n",
    "    'xbg__colsample_bytree': np.linspace(0,1,50),\n",
    "    'xbg__min_child_weight': range(1,10),\n",
    "    'xbg__gamma': [0, 0.1, 1, 10, 100, 1000],\n",
    "    'xbg__reg_alpha': [0, 0.01, 0.1, 1, 10],\n",
    "    'xbg__reg_lambda':[0, 0.01, 0.1, 1, 10]\n",
    "}\n",
    "ftwo_scorer = make_scorer(fbeta_score, beta=2)\n",
    "\n",
    "rs = RandomizedSearchCV(estimator= pipe, param_distributions= params,\n",
    "                       n_iter=500, scoring=ftwo_scorer, n_jobs=-1, cv=5, random_state=12)\n",
    "rand_search = rs.fit(X_train, y_train)\n",
    "rand_model = rand_search.best_estimator_\n",
    "ml, df1 = model_scores('XGBClassifier', rand_model, X_train, y_train, model_list= [], notes = 'Best Estimator from RS')\n",
    "print(rand_search.best_params_)\n",
    "df1\n"
   ]
  },
  {
   "cell_type": "code",
   "execution_count": 16,
   "id": "ae7d56a8",
   "metadata": {
    "ExecuteTime": {
     "end_time": "2023-08-27T02:25:11.952092Z",
     "start_time": "2023-08-27T01:34:17.085447Z"
    }
   },
   "outputs": [
    {
     "name": "stdout",
     "output_type": "stream",
     "text": [
      "Fitting 5 folds for each of 600 candidates, totalling 3000 fits\n",
      "{'xbg__eta': 0.1, 'xbg__max_depth': 2, 'xbg__n_estimators': 400}\n"
     ]
    },
    {
     "data": {
      "text/html": [
       "<div>\n",
       "<style scoped>\n",
       "    .dataframe tbody tr th:only-of-type {\n",
       "        vertical-align: middle;\n",
       "    }\n",
       "\n",
       "    .dataframe tbody tr th {\n",
       "        vertical-align: top;\n",
       "    }\n",
       "\n",
       "    .dataframe thead th {\n",
       "        text-align: right;\n",
       "    }\n",
       "</style>\n",
       "<table border=\"1\" class=\"dataframe\">\n",
       "  <thead>\n",
       "    <tr style=\"text-align: right;\">\n",
       "      <th></th>\n",
       "      <th>model</th>\n",
       "      <th>time (in s)</th>\n",
       "      <th>f2</th>\n",
       "      <th>recall</th>\n",
       "      <th>accuracy</th>\n",
       "      <th>f1</th>\n",
       "      <th>roc_auc</th>\n",
       "      <th>precision</th>\n",
       "      <th>notes</th>\n",
       "    </tr>\n",
       "  </thead>\n",
       "  <tbody>\n",
       "    <tr>\n",
       "      <th>0</th>\n",
       "      <td>XGBClassifier</td>\n",
       "      <td>5.0</td>\n",
       "      <td>50.46</td>\n",
       "      <td>80.44</td>\n",
       "      <td>72.82</td>\n",
       "      <td>32.37</td>\n",
       "      <td>83.65</td>\n",
       "      <td>20.26</td>\n",
       "      <td>Best Estimator from GS</td>\n",
       "    </tr>\n",
       "  </tbody>\n",
       "</table>\n",
       "</div>"
      ],
      "text/plain": [
       "           model  time (in s)     f2  recall  accuracy     f1  roc_auc  \\\n",
       "0  XGBClassifier          5.0  50.46   80.44     72.82  32.37    83.65   \n",
       "\n",
       "   precision                   notes  \n",
       "0      20.26  Best Estimator from GS  "
      ]
     },
     "execution_count": 16,
     "metadata": {},
     "output_type": "execute_result"
    }
   ],
   "source": [
    "# GridSearching the winnfer for the final\n",
    "xgb = XGBClassifier(reg_lambda= 10, \n",
    "              reg_alpha= 0.1,\n",
    "              min_child_weight= 1,\n",
    "              gamma= 10,\n",
    "              colsample_bytree= 0.42857142857142855,\n",
    "              tree_method= \"hist\",\n",
    "              scale_pos_weight=283883/24971,\n",
    "              random_state=12)\n",
    "\n",
    "pipe = Pipeline(steps=[('ct', col_transformer),\n",
    "                       ('xbg', xgb)])\n",
    "\n",
    "params = {'xbg__n_estimators': np.linspace(400,800,10,dtype=int),\n",
    "          'xbg__max_depth': [2,3,4,5,6,7],\n",
    "          'xbg__eta': np.linspace(0.1,0.2,10)\n",
    "         }\n",
    "\n",
    "gs = GridSearchCV(pipe, param_grid= params, scoring=ftwo_scorer, n_jobs=-1, cv=5, verbose= 3)\n",
    "\n",
    "g_search = gs.fit(X_train, y_train)\n",
    "gs_model = g_search.best_estimator_\n",
    "ml, df1 = model_scores('XGBClassifier', gs_model, X_train, y_train, model_list= [], notes = 'Best Estimator from GS')\n",
    "print(g_search.best_params_)\n",
    "df1\n"
   ]
  },
  {
   "cell_type": "markdown",
   "id": "f4914b29",
   "metadata": {},
   "source": [
    "### Final Model\n"
   ]
  },
  {
   "cell_type": "code",
   "execution_count": 55,
   "id": "05a4638f",
   "metadata": {
    "ExecuteTime": {
     "end_time": "2023-08-27T14:57:01.331097Z",
     "start_time": "2023-08-27T14:57:00.321204Z"
    }
   },
   "outputs": [
    {
     "data": {
      "text/html": [
       "<div>\n",
       "<style scoped>\n",
       "    .dataframe tbody tr th:only-of-type {\n",
       "        vertical-align: middle;\n",
       "    }\n",
       "\n",
       "    .dataframe tbody tr th {\n",
       "        vertical-align: top;\n",
       "    }\n",
       "\n",
       "    .dataframe thead th {\n",
       "        text-align: right;\n",
       "    }\n",
       "</style>\n",
       "<table border=\"1\" class=\"dataframe\">\n",
       "  <thead>\n",
       "    <tr style=\"text-align: right;\">\n",
       "      <th></th>\n",
       "      <th>name</th>\n",
       "      <th>f2</th>\n",
       "      <th>accuracy</th>\n",
       "      <th>precision</th>\n",
       "      <th>recall</th>\n",
       "      <th>roc_auc</th>\n",
       "      <th>log_loss</th>\n",
       "    </tr>\n",
       "  </thead>\n",
       "  <tbody>\n",
       "    <tr>\n",
       "      <th>0</th>\n",
       "      <td>Dummy Model</td>\n",
       "      <td>0.00</td>\n",
       "      <td>91.91</td>\n",
       "      <td>0.00</td>\n",
       "      <td>0.00</td>\n",
       "      <td>50.00</td>\n",
       "      <td>291.42</td>\n",
       "    </tr>\n",
       "    <tr>\n",
       "      <th>1</th>\n",
       "      <td>Baseline Model</td>\n",
       "      <td>7.70</td>\n",
       "      <td>91.89</td>\n",
       "      <td>48.65</td>\n",
       "      <td>6.36</td>\n",
       "      <td>52.88</td>\n",
       "      <td>22.09</td>\n",
       "    </tr>\n",
       "    <tr>\n",
       "      <th>2</th>\n",
       "      <td>Final Model</td>\n",
       "      <td>50.59</td>\n",
       "      <td>72.71</td>\n",
       "      <td>20.26</td>\n",
       "      <td>80.87</td>\n",
       "      <td>76.43</td>\n",
       "      <td>50.70</td>\n",
       "    </tr>\n",
       "  </tbody>\n",
       "</table>\n",
       "</div>"
      ],
      "text/plain": [
       "             name     f2  accuracy  precision  recall  roc_auc  log_loss\n",
       "0     Dummy Model   0.00     91.91       0.00    0.00    50.00    291.42\n",
       "1  Baseline Model   7.70     91.89      48.65    6.36    52.88     22.09\n",
       "2     Final Model  50.59     72.71      20.26   80.87    76.43     50.70"
      ]
     },
     "execution_count": 55,
     "metadata": {},
     "output_type": "execute_result"
    }
   ],
   "source": [
    "from sklearn.metrics import accuracy_score, precision_score, log_loss\n",
    "models_dic = {'Dummy Model': dummy_model,\n",
    "             'Baseline Model': logreg_model,\n",
    "             'Final Model':gs_model}\n",
    "ml=[]\n",
    "for key in models_dic:\n",
    "    model = models_dic[key]\n",
    "    ml, mdf = model_scores(model, X_test, y_test, model_list= ml, cv= 0, model_name = key)\n",
    "mdf"
   ]
  },
  {
   "cell_type": "code",
   "execution_count": null,
   "id": "a6837501",
   "metadata": {},
   "outputs": [],
   "source": []
  }
 ],
 "metadata": {
  "kernelspec": {
   "display_name": "Python 3 (ipykernel)",
   "language": "python",
   "name": "python3"
  },
  "language_info": {
   "codemirror_mode": {
    "name": "ipython",
    "version": 3
   },
   "file_extension": ".py",
   "mimetype": "text/x-python",
   "name": "python",
   "nbconvert_exporter": "python",
   "pygments_lexer": "ipython3",
   "version": "3.11.4"
  },
  "notify_time": "30",
  "varInspector": {
   "cols": {
    "lenName": 16,
    "lenType": 16,
    "lenVar": 40
   },
   "kernels_config": {
    "python": {
     "delete_cmd_postfix": "",
     "delete_cmd_prefix": "del ",
     "library": "var_list.py",
     "varRefreshCmd": "print(var_dic_list())"
    },
    "r": {
     "delete_cmd_postfix": ") ",
     "delete_cmd_prefix": "rm(",
     "library": "var_list.r",
     "varRefreshCmd": "cat(var_dic_list()) "
    }
   },
   "types_to_exclude": [
    "module",
    "function",
    "builtin_function_or_method",
    "instance",
    "_Feature"
   ],
   "window_display": false
  }
 },
 "nbformat": 4,
 "nbformat_minor": 5
}
