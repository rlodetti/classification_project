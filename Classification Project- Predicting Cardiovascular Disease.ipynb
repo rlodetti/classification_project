{
 "cells": [
  {
   "cell_type": "markdown",
   "id": "a291b233",
   "metadata": {},
   "source": [
    "# Classification Project: Predicting Cardiovascular Disease\n",
    "***\n",
    "\n",
    "**Author:** Ron Lodetti Jr.\n",
    "![Heart](./images/heart.jpeg)"
   ]
  },
  {
   "cell_type": "markdown",
   "id": "450bbbc3",
   "metadata": {},
   "source": [
    "## Overview\n",
    "***\n",
    "This project uses machine learning and data from the CDC's [2021 Behavioral Risk Factor Surveillance System (BRFSS)](https://www.cdc.gov/brfss/annual_data/annual_2021.html) to help a hospital target patience who would benefit from an educational program about heart health. After model iteration and hyperparameter tuning, our final model can correctly predict about 81% of the people with a heart condition, while only mislabeling about 28% of negative cases as positive. "
   ]
  },
  {
   "cell_type": "markdown",
   "id": "48889bb2",
   "metadata": {},
   "source": [
    "## Business Problem\n",
    "***\n",
    "Cardiovascular diseases are the [leading cause of death](https://en.wikipedia.org/wiki/List_of_causes_of_death_by_rate) worldwide except Africa. A hospital wants to be able to identify patients who are at risk of Cardiovascular disease (CVD) to begin taking preventative measures as early as possible. The hospital has developed a new online educational program and would like to recommend it to any patience at risk. "
   ]
  },
  {
   "cell_type": "markdown",
   "id": "a783dd65",
   "metadata": {},
   "source": [
    "## Data Understanding\n",
    "***\n",
    "This dataset, [from kaggle](https://www.kaggle.com/datasets/alphiree/cardiovascular-diseases-risk-prediction-dataset), is a cleaned version of the responses from the CDC's [2021 Behavioral Risk Factor Surveillance System (BRFSS)](https://www.cdc.gov/brfss/annual_data/annual_2021.html)"
   ]
  },
  {
   "cell_type": "code",
   "execution_count": 1,
   "id": "105bd684",
   "metadata": {
    "ExecuteTime": {
     "end_time": "2023-09-19T15:49:37.217389Z",
     "start_time": "2023-09-19T15:49:35.196828Z"
    }
   },
   "outputs": [],
   "source": [
    "# Importing packages\n",
    "import pandas as pd\n",
    "import numpy as np\n",
    "from imblearn.over_sampling import SMOTE, ADASYN\n",
    "from imblearn.pipeline import Pipeline as ImPipeline\n",
    "from sklearn.compose import ColumnTransformer\n",
    "from sklearn.dummy import DummyClassifier\n",
    "from sklearn.ensemble import RandomForestClassifier\n",
    "from sklearn.linear_model import LogisticRegression\n",
    "from sklearn.metrics import ConfusionMatrixDisplay, RocCurveDisplay, roc_curve \n",
    "from sklearn.model_selection import train_test_split\n",
    "from sklearn.naive_bayes import GaussianNB\n",
    "from sklearn.neighbors import KNeighborsClassifier\n",
    "from sklearn.pipeline import Pipeline\n",
    "from sklearn.preprocessing import LabelEncoder, OrdinalEncoder, OneHotEncoder, StandardScaler\n",
    "from sklearn.tree import DecisionTreeClassifier\n",
    "from xgboost import XGBClassifier\n",
    "from sklearn.metrics import make_scorer, fbeta_score\n",
    "import joblib\n",
    "import pickle\n",
    "import matplotlib.pyplot as plt\n",
    "import seaborn as sns"
   ]
  },
  {
   "cell_type": "code",
   "execution_count": 2,
   "id": "b2155227",
   "metadata": {
    "ExecuteTime": {
     "end_time": "2023-09-19T15:49:37.863463Z",
     "start_time": "2023-09-19T15:49:37.222484Z"
    }
   },
   "outputs": [
    {
     "name": "stdout",
     "output_type": "stream",
     "text": [
      "(308854, 19)\n"
     ]
    },
    {
     "data": {
      "text/html": [
       "<div>\n",
       "<style scoped>\n",
       "    .dataframe tbody tr th:only-of-type {\n",
       "        vertical-align: middle;\n",
       "    }\n",
       "\n",
       "    .dataframe tbody tr th {\n",
       "        vertical-align: top;\n",
       "    }\n",
       "\n",
       "    .dataframe thead th {\n",
       "        text-align: right;\n",
       "    }\n",
       "</style>\n",
       "<table border=\"1\" class=\"dataframe\">\n",
       "  <thead>\n",
       "    <tr style=\"text-align: right;\">\n",
       "      <th></th>\n",
       "      <th>General_Health</th>\n",
       "      <th>Checkup</th>\n",
       "      <th>Exercise</th>\n",
       "      <th>Heart_Disease</th>\n",
       "      <th>Skin_Cancer</th>\n",
       "      <th>Other_Cancer</th>\n",
       "      <th>Depression</th>\n",
       "      <th>Diabetes</th>\n",
       "      <th>Arthritis</th>\n",
       "      <th>Sex</th>\n",
       "      <th>Age_Category</th>\n",
       "      <th>Height_(cm)</th>\n",
       "      <th>Weight_(kg)</th>\n",
       "      <th>BMI</th>\n",
       "      <th>Smoking_History</th>\n",
       "      <th>Alcohol_Consumption</th>\n",
       "      <th>Fruit_Consumption</th>\n",
       "      <th>Green_Vegetables_Consumption</th>\n",
       "      <th>FriedPotato_Consumption</th>\n",
       "    </tr>\n",
       "  </thead>\n",
       "  <tbody>\n",
       "    <tr>\n",
       "      <th>0</th>\n",
       "      <td>Poor</td>\n",
       "      <td>Within the past 2 years</td>\n",
       "      <td>No</td>\n",
       "      <td>No</td>\n",
       "      <td>No</td>\n",
       "      <td>No</td>\n",
       "      <td>No</td>\n",
       "      <td>No</td>\n",
       "      <td>Yes</td>\n",
       "      <td>Female</td>\n",
       "      <td>70-74</td>\n",
       "      <td>150.0</td>\n",
       "      <td>32.66</td>\n",
       "      <td>14.54</td>\n",
       "      <td>Yes</td>\n",
       "      <td>0.0</td>\n",
       "      <td>30.0</td>\n",
       "      <td>16.0</td>\n",
       "      <td>12.0</td>\n",
       "    </tr>\n",
       "    <tr>\n",
       "      <th>1</th>\n",
       "      <td>Very Good</td>\n",
       "      <td>Within the past year</td>\n",
       "      <td>No</td>\n",
       "      <td>Yes</td>\n",
       "      <td>No</td>\n",
       "      <td>No</td>\n",
       "      <td>No</td>\n",
       "      <td>Yes</td>\n",
       "      <td>No</td>\n",
       "      <td>Female</td>\n",
       "      <td>70-74</td>\n",
       "      <td>165.0</td>\n",
       "      <td>77.11</td>\n",
       "      <td>28.29</td>\n",
       "      <td>No</td>\n",
       "      <td>0.0</td>\n",
       "      <td>30.0</td>\n",
       "      <td>0.0</td>\n",
       "      <td>4.0</td>\n",
       "    </tr>\n",
       "    <tr>\n",
       "      <th>2</th>\n",
       "      <td>Very Good</td>\n",
       "      <td>Within the past year</td>\n",
       "      <td>Yes</td>\n",
       "      <td>No</td>\n",
       "      <td>No</td>\n",
       "      <td>No</td>\n",
       "      <td>No</td>\n",
       "      <td>Yes</td>\n",
       "      <td>No</td>\n",
       "      <td>Female</td>\n",
       "      <td>60-64</td>\n",
       "      <td>163.0</td>\n",
       "      <td>88.45</td>\n",
       "      <td>33.47</td>\n",
       "      <td>No</td>\n",
       "      <td>4.0</td>\n",
       "      <td>12.0</td>\n",
       "      <td>3.0</td>\n",
       "      <td>16.0</td>\n",
       "    </tr>\n",
       "    <tr>\n",
       "      <th>3</th>\n",
       "      <td>Poor</td>\n",
       "      <td>Within the past year</td>\n",
       "      <td>Yes</td>\n",
       "      <td>Yes</td>\n",
       "      <td>No</td>\n",
       "      <td>No</td>\n",
       "      <td>No</td>\n",
       "      <td>Yes</td>\n",
       "      <td>No</td>\n",
       "      <td>Male</td>\n",
       "      <td>75-79</td>\n",
       "      <td>180.0</td>\n",
       "      <td>93.44</td>\n",
       "      <td>28.73</td>\n",
       "      <td>No</td>\n",
       "      <td>0.0</td>\n",
       "      <td>30.0</td>\n",
       "      <td>30.0</td>\n",
       "      <td>8.0</td>\n",
       "    </tr>\n",
       "    <tr>\n",
       "      <th>4</th>\n",
       "      <td>Good</td>\n",
       "      <td>Within the past year</td>\n",
       "      <td>No</td>\n",
       "      <td>No</td>\n",
       "      <td>No</td>\n",
       "      <td>No</td>\n",
       "      <td>No</td>\n",
       "      <td>No</td>\n",
       "      <td>No</td>\n",
       "      <td>Male</td>\n",
       "      <td>80+</td>\n",
       "      <td>191.0</td>\n",
       "      <td>88.45</td>\n",
       "      <td>24.37</td>\n",
       "      <td>Yes</td>\n",
       "      <td>0.0</td>\n",
       "      <td>8.0</td>\n",
       "      <td>4.0</td>\n",
       "      <td>0.0</td>\n",
       "    </tr>\n",
       "  </tbody>\n",
       "</table>\n",
       "</div>"
      ],
      "text/plain": [
       "  General_Health                  Checkup Exercise Heart_Disease Skin_Cancer  \\\n",
       "0           Poor  Within the past 2 years       No            No          No   \n",
       "1      Very Good     Within the past year       No           Yes          No   \n",
       "2      Very Good     Within the past year      Yes            No          No   \n",
       "3           Poor     Within the past year      Yes           Yes          No   \n",
       "4           Good     Within the past year       No            No          No   \n",
       "\n",
       "  Other_Cancer Depression Diabetes Arthritis     Sex Age_Category  \\\n",
       "0           No         No       No       Yes  Female        70-74   \n",
       "1           No         No      Yes        No  Female        70-74   \n",
       "2           No         No      Yes        No  Female        60-64   \n",
       "3           No         No      Yes        No    Male        75-79   \n",
       "4           No         No       No        No    Male          80+   \n",
       "\n",
       "   Height_(cm)  Weight_(kg)    BMI Smoking_History  Alcohol_Consumption  \\\n",
       "0        150.0        32.66  14.54             Yes                  0.0   \n",
       "1        165.0        77.11  28.29              No                  0.0   \n",
       "2        163.0        88.45  33.47              No                  4.0   \n",
       "3        180.0        93.44  28.73              No                  0.0   \n",
       "4        191.0        88.45  24.37             Yes                  0.0   \n",
       "\n",
       "   Fruit_Consumption  Green_Vegetables_Consumption  FriedPotato_Consumption  \n",
       "0               30.0                          16.0                     12.0  \n",
       "1               30.0                           0.0                      4.0  \n",
       "2               12.0                           3.0                     16.0  \n",
       "3               30.0                          30.0                      8.0  \n",
       "4                8.0                           4.0                      0.0  "
      ]
     },
     "execution_count": 2,
     "metadata": {},
     "output_type": "execute_result"
    }
   ],
   "source": [
    "# Loading the datasets.\n",
    "df = pd.read_csv('data/Cardiovascular_Diseases_Risk_Prediction_Dataset.csv')\n",
    "print(df.shape)\n",
    "df.head()"
   ]
  },
  {
   "cell_type": "markdown",
   "id": "c8479c04",
   "metadata": {},
   "source": [
    "As you can see, we have 308,854 rows, each with 18 feature columns and 1 target column:\n",
    "\n",
    "* `General_Health`: Respondent's reported general health\n",
    "* `Checkup`: Time since respondent's last routine checkup\n",
    "* `Exercise`: Participation in any physical activities or exercises in the past month\n",
    "* `Heart_Disease`: **(Target)** Respondents that reported having coronary heart disease or myocardial infarction\n",
    "* `Skin_Cancer`: Respondents that reported having skin cancer\n",
    "* `Other_Cancer`: Respondents that reported having any other types of cancer\n",
    "* `Depression`: Respondents that reported having a depressive disorder\n",
    "* `Diabetes`: Respondents that reported having a diabetes\n",
    "* `Arthritis`: Respondents that reported having an Arthritis\n",
    "* `Sex`: Respondent's Gender\n",
    "* `Age_Category`: Respondent's Age, by category\n",
    "* `Height_(cm)`: Respondent's Height in centimeters\n",
    "* `Weight_(kg)`: Respondent's Weight in kilograms\n",
    "* `BMI`: Body Mass Index\n",
    "* `Smoking_History`: Respondents that reported having a history of smoking cigarettes\n",
    "* `Alcohol_Consumption`: Number of days, in the past 30 days, where respondent has had at least one alcoholic beverage\n",
    "* `Fruit_Consumption`: Number of servings of fruit during the past 30 days\n",
    "* `Green_Vegetables_Consumption`: Number of servings of vegetables during the past 30 days\n",
    "* `FriedPotato_Consumption`: Number of servings of fruit during the past 30 days"
   ]
  },
  {
   "cell_type": "code",
   "execution_count": 3,
   "id": "91a7eda7",
   "metadata": {
    "ExecuteTime": {
     "end_time": "2023-09-19T15:49:38.253019Z",
     "start_time": "2023-09-19T15:49:37.868684Z"
    }
   },
   "outputs": [
    {
     "name": "stdout",
     "output_type": "stream",
     "text": [
      "<class 'pandas.core.frame.DataFrame'>\n",
      "RangeIndex: 308854 entries, 0 to 308853\n",
      "Data columns (total 19 columns):\n",
      " #   Column                        Non-Null Count   Dtype  \n",
      "---  ------                        --------------   -----  \n",
      " 0   General_Health                308854 non-null  object \n",
      " 1   Checkup                       308854 non-null  object \n",
      " 2   Exercise                      308854 non-null  object \n",
      " 3   Heart_Disease                 308854 non-null  object \n",
      " 4   Skin_Cancer                   308854 non-null  object \n",
      " 5   Other_Cancer                  308854 non-null  object \n",
      " 6   Depression                    308854 non-null  object \n",
      " 7   Diabetes                      308854 non-null  object \n",
      " 8   Arthritis                     308854 non-null  object \n",
      " 9   Sex                           308854 non-null  object \n",
      " 10  Age_Category                  308854 non-null  object \n",
      " 11  Height_(cm)                   308854 non-null  float64\n",
      " 12  Weight_(kg)                   308854 non-null  float64\n",
      " 13  BMI                           308854 non-null  float64\n",
      " 14  Smoking_History               308854 non-null  object \n",
      " 15  Alcohol_Consumption           308854 non-null  float64\n",
      " 16  Fruit_Consumption             308854 non-null  float64\n",
      " 17  Green_Vegetables_Consumption  308854 non-null  float64\n",
      " 18  FriedPotato_Consumption       308854 non-null  float64\n",
      "dtypes: float64(7), object(12)\n",
      "memory usage: 44.8+ MB\n"
     ]
    }
   ],
   "source": [
    "# There are no missing values. \n",
    "# There are 12 features which are object types, \n",
    "# we will need to convert these to numeric types.\n",
    "df.info()"
   ]
  },
  {
   "cell_type": "markdown",
   "id": "456b922f",
   "metadata": {},
   "source": [
    "This data set includes 12 categorical variables (including the target `Heart_Disease`) and 7 numeric variables."
   ]
  },
  {
   "cell_type": "code",
   "execution_count": 4,
   "id": "e668b58e",
   "metadata": {
    "ExecuteTime": {
     "end_time": "2023-09-19T15:49:38.472573Z",
     "start_time": "2023-09-19T15:49:38.255133Z"
    }
   },
   "outputs": [
    {
     "name": "stdout",
     "output_type": "stream",
     "text": [
      "General_Health\n",
      "Very Good    110395\n",
      "Good          95364\n",
      "Excellent     55954\n",
      "Fair          35810\n",
      "Poor          11331\n",
      "Name: General_Health, dtype: int64\n",
      "----------\n",
      "\n",
      "Checkup\n",
      "Within the past year       239371\n",
      "Within the past 2 years     37213\n",
      "Within the past 5 years     17442\n",
      "5 or more years ago         13421\n",
      "Never                        1407\n",
      "Name: Checkup, dtype: int64\n",
      "----------\n",
      "\n",
      "Exercise\n",
      "Yes    239381\n",
      "No      69473\n",
      "Name: Exercise, dtype: int64\n",
      "----------\n",
      "\n",
      "Heart_Disease\n",
      "No     283883\n",
      "Yes     24971\n",
      "Name: Heart_Disease, dtype: int64\n",
      "----------\n",
      "\n",
      "Skin_Cancer\n",
      "No     278860\n",
      "Yes     29994\n",
      "Name: Skin_Cancer, dtype: int64\n",
      "----------\n",
      "\n",
      "Other_Cancer\n",
      "No     278976\n",
      "Yes     29878\n",
      "Name: Other_Cancer, dtype: int64\n",
      "----------\n",
      "\n",
      "Depression\n",
      "No     246953\n",
      "Yes     61901\n",
      "Name: Depression, dtype: int64\n",
      "----------\n",
      "\n",
      "Diabetes\n",
      "No                                            259141\n",
      "Yes                                            40171\n",
      "No, pre-diabetes or borderline diabetes         6896\n",
      "Yes, but female told only during pregnancy      2646\n",
      "Name: Diabetes, dtype: int64\n",
      "----------\n",
      "\n",
      "Arthritis\n",
      "No     207783\n",
      "Yes    101071\n",
      "Name: Arthritis, dtype: int64\n",
      "----------\n",
      "\n",
      "Sex\n",
      "Female    160196\n",
      "Male      148658\n",
      "Name: Sex, dtype: int64\n",
      "----------\n",
      "\n",
      "Age_Category\n",
      "65-69    33434\n",
      "60-64    32418\n",
      "70-74    31103\n",
      "55-59    28054\n",
      "50-54    25097\n",
      "80+      22271\n",
      "40-44    21595\n",
      "45-49    20968\n",
      "75-79    20705\n",
      "35-39    20606\n",
      "18-24    18681\n",
      "30-34    18428\n",
      "25-29    15494\n",
      "Name: Age_Category, dtype: int64\n",
      "----------\n",
      "\n",
      "Smoking_History\n",
      "No     183590\n",
      "Yes    125264\n",
      "Name: Smoking_History, dtype: int64\n",
      "----------\n",
      "\n"
     ]
    }
   ],
   "source": [
    "categorical = list(df.select_dtypes(object).columns)\n",
    "for i in categorical:\n",
    "    print(i)\n",
    "    print(df[i].value_counts())\n",
    "    print('----------\\n')"
   ]
  },
  {
   "cell_type": "markdown",
   "id": "a4a48e21",
   "metadata": {},
   "source": [
    "Of our 12 categorical variables:\n",
    "* There are 8 variables that have no order to them and will need to be OneHotEncoded.\n",
    "* There are 3 ordinal variables, that is, categories which have an order. These include `General_Health`, `Checkup`, and `Age_Category`.\n",
    "\n",
    "I also notice that over 2/3 of the people (although not necesarily the same people) exercise and do not have a heart disease, skin cancer, other cancer, diabetes, depression, nor arthritis."
   ]
  },
  {
   "cell_type": "code",
   "execution_count": 5,
   "id": "8e936054",
   "metadata": {
    "ExecuteTime": {
     "end_time": "2023-09-19T15:49:38.477317Z",
     "start_time": "2023-09-19T15:49:38.474270Z"
    }
   },
   "outputs": [],
   "source": [
    "# Identifying ordinal variables and removing them from categorical\n",
    "ordinal = ['General_Health', 'Checkup', 'Age_Category']\n",
    "for i in ordinal:\n",
    "    categorical.remove(i)\n",
    "categorical.remove('Heart_Disease')"
   ]
  },
  {
   "cell_type": "code",
   "execution_count": 6,
   "id": "a2b39f12",
   "metadata": {
    "ExecuteTime": {
     "end_time": "2023-09-19T15:49:38.588562Z",
     "start_time": "2023-09-19T15:49:38.479805Z"
    }
   },
   "outputs": [
    {
     "data": {
      "text/html": [
       "<div>\n",
       "<style scoped>\n",
       "    .dataframe tbody tr th:only-of-type {\n",
       "        vertical-align: middle;\n",
       "    }\n",
       "\n",
       "    .dataframe tbody tr th {\n",
       "        vertical-align: top;\n",
       "    }\n",
       "\n",
       "    .dataframe thead th {\n",
       "        text-align: right;\n",
       "    }\n",
       "</style>\n",
       "<table border=\"1\" class=\"dataframe\">\n",
       "  <thead>\n",
       "    <tr style=\"text-align: right;\">\n",
       "      <th></th>\n",
       "      <th>Height_(cm)</th>\n",
       "      <th>Weight_(kg)</th>\n",
       "      <th>BMI</th>\n",
       "      <th>Alcohol_Consumption</th>\n",
       "      <th>Fruit_Consumption</th>\n",
       "      <th>Green_Vegetables_Consumption</th>\n",
       "      <th>FriedPotato_Consumption</th>\n",
       "    </tr>\n",
       "  </thead>\n",
       "  <tbody>\n",
       "    <tr>\n",
       "      <th>count</th>\n",
       "      <td>308854.000000</td>\n",
       "      <td>308854.000000</td>\n",
       "      <td>308854.000000</td>\n",
       "      <td>308854.000000</td>\n",
       "      <td>308854.000000</td>\n",
       "      <td>308854.000000</td>\n",
       "      <td>308854.000000</td>\n",
       "    </tr>\n",
       "    <tr>\n",
       "      <th>mean</th>\n",
       "      <td>170.615249</td>\n",
       "      <td>83.588655</td>\n",
       "      <td>28.626211</td>\n",
       "      <td>5.096366</td>\n",
       "      <td>29.835200</td>\n",
       "      <td>15.110441</td>\n",
       "      <td>6.296616</td>\n",
       "    </tr>\n",
       "    <tr>\n",
       "      <th>std</th>\n",
       "      <td>10.658026</td>\n",
       "      <td>21.343210</td>\n",
       "      <td>6.522323</td>\n",
       "      <td>8.199763</td>\n",
       "      <td>24.875735</td>\n",
       "      <td>14.926238</td>\n",
       "      <td>8.582954</td>\n",
       "    </tr>\n",
       "    <tr>\n",
       "      <th>min</th>\n",
       "      <td>91.000000</td>\n",
       "      <td>24.950000</td>\n",
       "      <td>12.020000</td>\n",
       "      <td>0.000000</td>\n",
       "      <td>0.000000</td>\n",
       "      <td>0.000000</td>\n",
       "      <td>0.000000</td>\n",
       "    </tr>\n",
       "    <tr>\n",
       "      <th>25%</th>\n",
       "      <td>163.000000</td>\n",
       "      <td>68.040000</td>\n",
       "      <td>24.210000</td>\n",
       "      <td>0.000000</td>\n",
       "      <td>12.000000</td>\n",
       "      <td>4.000000</td>\n",
       "      <td>2.000000</td>\n",
       "    </tr>\n",
       "    <tr>\n",
       "      <th>50%</th>\n",
       "      <td>170.000000</td>\n",
       "      <td>81.650000</td>\n",
       "      <td>27.440000</td>\n",
       "      <td>1.000000</td>\n",
       "      <td>30.000000</td>\n",
       "      <td>12.000000</td>\n",
       "      <td>4.000000</td>\n",
       "    </tr>\n",
       "    <tr>\n",
       "      <th>75%</th>\n",
       "      <td>178.000000</td>\n",
       "      <td>95.250000</td>\n",
       "      <td>31.850000</td>\n",
       "      <td>6.000000</td>\n",
       "      <td>30.000000</td>\n",
       "      <td>20.000000</td>\n",
       "      <td>8.000000</td>\n",
       "    </tr>\n",
       "    <tr>\n",
       "      <th>max</th>\n",
       "      <td>241.000000</td>\n",
       "      <td>293.020000</td>\n",
       "      <td>99.330000</td>\n",
       "      <td>30.000000</td>\n",
       "      <td>120.000000</td>\n",
       "      <td>128.000000</td>\n",
       "      <td>128.000000</td>\n",
       "    </tr>\n",
       "  </tbody>\n",
       "</table>\n",
       "</div>"
      ],
      "text/plain": [
       "         Height_(cm)    Weight_(kg)            BMI  Alcohol_Consumption  \\\n",
       "count  308854.000000  308854.000000  308854.000000        308854.000000   \n",
       "mean      170.615249      83.588655      28.626211             5.096366   \n",
       "std        10.658026      21.343210       6.522323             8.199763   \n",
       "min        91.000000      24.950000      12.020000             0.000000   \n",
       "25%       163.000000      68.040000      24.210000             0.000000   \n",
       "50%       170.000000      81.650000      27.440000             1.000000   \n",
       "75%       178.000000      95.250000      31.850000             6.000000   \n",
       "max       241.000000     293.020000      99.330000            30.000000   \n",
       "\n",
       "       Fruit_Consumption  Green_Vegetables_Consumption  \\\n",
       "count      308854.000000                 308854.000000   \n",
       "mean           29.835200                     15.110441   \n",
       "std            24.875735                     14.926238   \n",
       "min             0.000000                      0.000000   \n",
       "25%            12.000000                      4.000000   \n",
       "50%            30.000000                     12.000000   \n",
       "75%            30.000000                     20.000000   \n",
       "max           120.000000                    128.000000   \n",
       "\n",
       "       FriedPotato_Consumption  \n",
       "count            308854.000000  \n",
       "mean                  6.296616  \n",
       "std                   8.582954  \n",
       "min                   0.000000  \n",
       "25%                   2.000000  \n",
       "50%                   4.000000  \n",
       "75%                   8.000000  \n",
       "max                 128.000000  "
      ]
     },
     "execution_count": 6,
     "metadata": {},
     "output_type": "execute_result"
    }
   ],
   "source": [
    "# These numeric variables are scaled differently and will need to be \n",
    "# normalized before including them in specific models\n",
    "\n",
    "numeric = list(df.select_dtypes(exclude=object).columns)\n",
    "df[numeric].describe()"
   ]
  },
  {
   "cell_type": "markdown",
   "id": "7e1befe9",
   "metadata": {},
   "source": [
    "- Max and min values seem reasonable given context. \n",
    "- Based on the quartiles and the mean, it appears that `Alcohol_Consumption` might be positively skewed."
   ]
  },
  {
   "cell_type": "code",
   "execution_count": 7,
   "id": "2665cd1b",
   "metadata": {
    "ExecuteTime": {
     "end_time": "2023-09-19T15:49:38.928718Z",
     "start_time": "2023-09-19T15:49:38.590749Z"
    }
   },
   "outputs": [
    {
     "data": {
      "image/png": "[encoded data removed]",
      "text/plain": [
       "<Figure size 600x600 with 1 Axes>"
      ]
     },
     "metadata": {},
     "output_type": "display_data"
    }
   ],
   "source": [
    "# importing code from as module\n",
    "from code.my_module import viz_1\n",
    "viz_1(df)"
   ]
  },
  {
   "cell_type": "markdown",
   "id": "bc70ecb3",
   "metadata": {},
   "source": [
    "Our target variable is very imbalanced. We'll need to be sure to address this during data prep, modeling and evaluation.\n",
    "\n",
    "Here is a visual representation illustrating the disparity in heart disease rates between individuals with a specific feature and those without it. For instance, approximately 6.06% of individuals without diabetes report experiencing a heart condition, whereas the rate is approximately 20.85% for those with diabetes, resulting in a substantial difference of approximately 14.79%."
   ]
  },
  {
   "cell_type": "code",
   "execution_count": 8,
   "id": "68303b23",
   "metadata": {
    "ExecuteTime": {
     "end_time": "2023-09-19T15:49:39.924896Z",
     "start_time": "2023-09-19T15:49:38.940023Z"
    }
   },
   "outputs": [
    {
     "data": {
      "image/png": "[encoded data removed]",
      "text/plain": [
       "<Figure size 800x600 with 1 Axes>"
      ]
     },
     "metadata": {},
     "output_type": "display_data"
    }
   ],
   "source": [
    "from code.my_module import viz_2\n",
    "viz_2(df, categorical)"
   ]
  },
  {
   "cell_type": "markdown",
   "id": "4e379a3e",
   "metadata": {},
   "source": [
    "- People with most of these features are more likely to also have Heart Disease\n",
    "- Men are more likely to report having Heart Disease than women\n",
    "- Exercise is the only feature listed that has a negative relationship with Heart Disease."
   ]
  },
  {
   "cell_type": "markdown",
   "id": "6ea7a7ce",
   "metadata": {},
   "source": [
    "## Data Preparation\n",
    "***\n",
    "The first step in our data preparation is to split the data in to test and train sets. We need to be careful to only use the test data as the last step in the evaluation process to avoid data leakage. "
   ]
  },
  {
   "cell_type": "code",
   "execution_count": 9,
   "id": "fbaec285",
   "metadata": {
    "ExecuteTime": {
     "end_time": "2023-09-19T15:49:40.248471Z",
     "start_time": "2023-09-19T15:49:39.926771Z"
    }
   },
   "outputs": [
    {
     "name": "stdout",
     "output_type": "stream",
     "text": [
      "Training Target Distribution\n",
      "No     0.91915\n",
      "Yes    0.08085\n",
      "Name: Heart_Disease, dtype: float64\n",
      "\n",
      "Validation Target Distribution\n",
      "No     0.919147\n",
      "Yes    0.080853\n",
      "Name: Heart_Disease, dtype: float64\n"
     ]
    }
   ],
   "source": [
    "# Splitting the training from the validation data\n",
    "# Making sure the split is stratefied given the imbalance of our target variable\n",
    "y = df['Heart_Disease']\n",
    "X = df.drop('Heart_Disease', axis=1)\n",
    "X_train, X_test, y_train, y_test = train_test_split(X, y, random_state=12,stratify=y)\n",
    "\n",
    "print('Training Target Distribution')\n",
    "print(y_train.value_counts(normalize=True))\n",
    "print('')\n",
    "print('Validation Target Distribution')\n",
    "print(y_test.value_counts(normalize=True))"
   ]
  },
  {
   "cell_type": "code",
   "execution_count": 10,
   "id": "103db132",
   "metadata": {
    "ExecuteTime": {
     "end_time": "2023-09-19T15:49:40.293256Z",
     "start_time": "2023-09-19T15:49:40.250237Z"
    }
   },
   "outputs": [],
   "source": [
    "# Transforming the target variable into 1's and 0's\n",
    "le = LabelEncoder()\n",
    "y_train = le.fit_transform(y_train)\n",
    "y_test = le.transform(y_test)"
   ]
  },
  {
   "cell_type": "code",
   "execution_count": 11,
   "id": "d7d855bb",
   "metadata": {
    "ExecuteTime": {
     "end_time": "2023-09-19T15:49:40.298970Z",
     "start_time": "2023-09-19T15:49:40.295873Z"
    }
   },
   "outputs": [],
   "source": [
    "# Listing categories in order for each ordinal variable.\n",
    "health = ['Poor', 'Fair', 'Good', 'Very Good', 'Excellent']\n",
    "check = [\n",
    "    'Never', '5 or more years ago', 'Within the past 5 years',\n",
    "    'Within the past 2 years', 'Within the past year'\n",
    "]\n",
    "age = [\n",
    "    '18-24', '25-29', '30-34', '35-39', '40-44', '45-49', '50-54', '55-59',\n",
    "    '60-64', '65-69', '70-74', '75-79', '80+'\n",
    "]\n",
    "\n",
    "# Instantiating an OrdinalEncoder transformer to encode ordinal variables.\n",
    "oe = OrdinalEncoder(categories=[health, check, age])"
   ]
  },
  {
   "cell_type": "code",
   "execution_count": 12,
   "id": "544cebe2",
   "metadata": {
    "ExecuteTime": {
     "end_time": "2023-09-19T15:49:40.303706Z",
     "start_time": "2023-09-19T15:49:40.301258Z"
    }
   },
   "outputs": [],
   "source": [
    "# Instantiating a OneHotEncoder transformer to be used on the categorical varaibles. \n",
    "ohe = OneHotEncoder(handle_unknown='ignore')"
   ]
  },
  {
   "cell_type": "code",
   "execution_count": 13,
   "id": "cb7ec368",
   "metadata": {
    "ExecuteTime": {
     "end_time": "2023-09-19T15:49:40.309377Z",
     "start_time": "2023-09-19T15:49:40.305451Z"
    }
   },
   "outputs": [],
   "source": [
    "# Instantiating a StandardScaler transformer for models which need scaling. \n",
    "ss = StandardScaler()"
   ]
  },
  {
   "cell_type": "code",
   "execution_count": 14,
   "id": "89446b5f",
   "metadata": {
    "ExecuteTime": {
     "end_time": "2023-09-19T15:49:40.319879Z",
     "start_time": "2023-09-19T15:49:40.315161Z"
    }
   },
   "outputs": [],
   "source": [
    "# Creating a column transformer to be used in a pipeline\n",
    "ct = ColumnTransformer(transformers=[('oe', oe, ordinal),\n",
    "                                     ('ohe', ohe, categorical)],\n",
    "                       remainder=\"passthrough\")"
   ]
  },
  {
   "cell_type": "markdown",
   "id": "d548fbd0",
   "metadata": {},
   "source": [
    "## Data Modeling\n",
    "***\n",
    "Since our stakeholder wants to identify as many people as possible who could have a heart condition and the cost of a false positive (identifying a person as likely to have a heart condition when they will not) is low, then we should prioritize the true positive rate, or recall. Given the imbalance in our dataset, I will use the f2-score as my evaluation metric. This is a weighted harmonic mean between precision and recall which gives more weight to recall.\n",
    "\n",
    "Additionally, I will use pipelines when cross-validating and scoring my data as to avoid data leakage. "
   ]
  },
  {
   "cell_type": "markdown",
   "id": "08883f6f",
   "metadata": {},
   "source": [
    "### Dummy Model\n",
    "We will start with a dummy model which always predicts the most frequent target value. In this case it will predict everyone **does not** have a heart condition."
   ]
  },
  {
   "cell_type": "code",
   "execution_count": 15,
   "id": "43cece0e",
   "metadata": {
    "ExecuteTime": {
     "end_time": "2023-09-19T15:49:44.090653Z",
     "start_time": "2023-09-19T15:49:40.322200Z"
    }
   },
   "outputs": [
    {
     "data": {
      "text/html": [
       "<div>\n",
       "<style scoped>\n",
       "    .dataframe tbody tr th:only-of-type {\n",
       "        vertical-align: middle;\n",
       "    }\n",
       "\n",
       "    .dataframe tbody tr th {\n",
       "        vertical-align: top;\n",
       "    }\n",
       "\n",
       "    .dataframe thead th {\n",
       "        text-align: right;\n",
       "    }\n",
       "</style>\n",
       "<table border=\"1\" class=\"dataframe\">\n",
       "  <thead>\n",
       "    <tr style=\"text-align: right;\">\n",
       "      <th></th>\n",
       "      <th>name</th>\n",
       "      <th>f2</th>\n",
       "      <th>accuracy</th>\n",
       "      <th>precision</th>\n",
       "      <th>recall</th>\n",
       "      <th>roc_auc</th>\n",
       "    </tr>\n",
       "  </thead>\n",
       "  <tbody>\n",
       "    <tr>\n",
       "      <th>0</th>\n",
       "      <td>Dummy Model</td>\n",
       "      <td>0.0</td>\n",
       "      <td>91.92</td>\n",
       "      <td>0.0</td>\n",
       "      <td>0.0</td>\n",
       "      <td>50.0</td>\n",
       "    </tr>\n",
       "  </tbody>\n",
       "</table>\n",
       "</div>"
      ],
      "text/plain": [
       "          name   f2  accuracy  precision  recall  roc_auc\n",
       "0  Dummy Model  0.0     91.92        0.0     0.0     50.0"
      ]
     },
     "execution_count": 15,
     "metadata": {},
     "output_type": "execute_result"
    }
   ],
   "source": [
    "# Importing a helper code that takes in a fitted model, cross-validates, scores, and outputs a summary.\n",
    "from code.my_module import model_scores\n",
    "\n",
    "dummy_pipe = Pipeline(steps=[\n",
    "    ('ct', ct),  # transforming ordinal and categorical variables\n",
    "    ('dm', DummyClassifier(strategy='most_frequent'))\n",
    "])\n",
    "\n",
    "dummy_model = dummy_pipe.fit(X_train, y_train)\n",
    "\n",
    "ml, mdf = model_scores(dummy_model, X_train, y_train, model_list=[], model_name='Dummy Model')\n",
    "mdf"
   ]
  },
  {
   "cell_type": "markdown",
   "id": "8c6f11ef",
   "metadata": {},
   "source": [
    "No surprise the accuracy is so high given the imbalance in the dataset. The ROC AUC score is also at 50 which is expected. "
   ]
  },
  {
   "cell_type": "markdown",
   "id": "4c33fbc1",
   "metadata": {},
   "source": [
    "### Baseline Model\n",
    "\n",
    "I will use Logisitic Regression as a baseline model to compare future models to. "
   ]
  },
  {
   "cell_type": "code",
   "execution_count": 16,
   "id": "953fc049",
   "metadata": {
    "ExecuteTime": {
     "end_time": "2023-09-19T15:49:47.661456Z",
     "start_time": "2023-09-19T15:49:44.094846Z"
    }
   },
   "outputs": [
    {
     "data": {
      "text/html": [
       "<div>\n",
       "<style scoped>\n",
       "    .dataframe tbody tr th:only-of-type {\n",
       "        vertical-align: middle;\n",
       "    }\n",
       "\n",
       "    .dataframe tbody tr th {\n",
       "        vertical-align: top;\n",
       "    }\n",
       "\n",
       "    .dataframe thead th {\n",
       "        text-align: right;\n",
       "    }\n",
       "</style>\n",
       "<table border=\"1\" class=\"dataframe\">\n",
       "  <thead>\n",
       "    <tr style=\"text-align: right;\">\n",
       "      <th></th>\n",
       "      <th>name</th>\n",
       "      <th>f2</th>\n",
       "      <th>accuracy</th>\n",
       "      <th>precision</th>\n",
       "      <th>recall</th>\n",
       "      <th>roc_auc</th>\n",
       "    </tr>\n",
       "  </thead>\n",
       "  <tbody>\n",
       "    <tr>\n",
       "      <th>0</th>\n",
       "      <td>Dummy Model</td>\n",
       "      <td>0.0</td>\n",
       "      <td>91.92</td>\n",
       "      <td>0.00</td>\n",
       "      <td>0.00</td>\n",
       "      <td>50.00</td>\n",
       "    </tr>\n",
       "    <tr>\n",
       "      <th>1</th>\n",
       "      <td>Baseline Model</td>\n",
       "      <td>7.5</td>\n",
       "      <td>91.94</td>\n",
       "      <td>51.39</td>\n",
       "      <td>6.18</td>\n",
       "      <td>83.41</td>\n",
       "    </tr>\n",
       "  </tbody>\n",
       "</table>\n",
       "</div>"
      ],
      "text/plain": [
       "             name   f2  accuracy  precision  recall  roc_auc\n",
       "0     Dummy Model  0.0     91.92       0.00    0.00    50.00\n",
       "1  Baseline Model  7.5     91.94      51.39    6.18    83.41"
      ]
     },
     "execution_count": 16,
     "metadata": {},
     "output_type": "execute_result"
    }
   ],
   "source": [
    "# Creating and scoring our baseline model.\n",
    "base_pipe = Pipeline(steps=[('ct', ct),\n",
    "                       ('ss', ss),  # LogisticRegression needs data to be scaled\n",
    "                       (\"logreg\", LogisticRegression(random_state=12))])\n",
    "baseline_model = base_pipe.fit(X_train, y_train)\n",
    "ml, mdf = model_scores(baseline_model, X_train, y_train, model_list=ml, model_name='Baseline Model')\n",
    "mdf"
   ]
  },
  {
   "cell_type": "markdown",
   "id": "6038cbdc",
   "metadata": {},
   "source": [
    "It performed slightly better than our dummy model, but not by much. It is still only capturing about 6.2% of the true positives. I think this model is having difficulties with the imbalance of the target variable. "
   ]
  },
  {
   "cell_type": "markdown",
   "id": "0b20ae3b",
   "metadata": {},
   "source": [
    "### Model Iteration\n",
    "\n",
    "Next, I want to look two ensemble methods to help me which to use for our final model."
   ]
  },
  {
   "cell_type": "code",
   "execution_count": 17,
   "id": "e782234c",
   "metadata": {
    "ExecuteTime": {
     "end_time": "2023-09-19T15:51:44.512242Z",
     "start_time": "2023-09-19T15:49:47.665553Z"
    }
   },
   "outputs": [
    {
     "data": {
      "text/html": [
       "<div>\n",
       "<style scoped>\n",
       "    .dataframe tbody tr th:only-of-type {\n",
       "        vertical-align: middle;\n",
       "    }\n",
       "\n",
       "    .dataframe tbody tr th {\n",
       "        vertical-align: top;\n",
       "    }\n",
       "\n",
       "    .dataframe thead th {\n",
       "        text-align: right;\n",
       "    }\n",
       "</style>\n",
       "<table border=\"1\" class=\"dataframe\">\n",
       "  <thead>\n",
       "    <tr style=\"text-align: right;\">\n",
       "      <th></th>\n",
       "      <th>name</th>\n",
       "      <th>f2</th>\n",
       "      <th>accuracy</th>\n",
       "      <th>precision</th>\n",
       "      <th>recall</th>\n",
       "      <th>roc_auc</th>\n",
       "    </tr>\n",
       "  </thead>\n",
       "  <tbody>\n",
       "    <tr>\n",
       "      <th>0</th>\n",
       "      <td>RandomForestClassifier</td>\n",
       "      <td>5.34</td>\n",
       "      <td>91.81</td>\n",
       "      <td>43.76</td>\n",
       "      <td>4.38</td>\n",
       "      <td>80.85</td>\n",
       "    </tr>\n",
       "    <tr>\n",
       "      <th>1</th>\n",
       "      <td>XGBClassifier</td>\n",
       "      <td>6.22</td>\n",
       "      <td>91.89</td>\n",
       "      <td>48.57</td>\n",
       "      <td>5.10</td>\n",
       "      <td>82.99</td>\n",
       "    </tr>\n",
       "  </tbody>\n",
       "</table>\n",
       "</div>"
      ],
      "text/plain": [
       "                     name    f2  accuracy  precision  recall  roc_auc\n",
       "0  RandomForestClassifier  5.34     91.81      43.76    4.38    80.85\n",
       "1           XGBClassifier  6.22     91.89      48.57    5.10    82.99"
      ]
     },
     "execution_count": 17,
     "metadata": {},
     "output_type": "execute_result"
    }
   ],
   "source": [
    "classifiers = {\n",
    "    'RandomForestClassifier': RandomForestClassifier(random_state=12),\n",
    "    'XGBClassifier': XGBClassifier(random_state=12)\n",
    "}\n",
    "ensemble_ml = []\n",
    "for key in classifiers:\n",
    "    classifier = classifiers[key]\n",
    "    ensemble_pipe = Pipeline(steps=[('ct', ct), (key, classifier)])\n",
    "    ensemble_model = ensemble_pipe.fit(X_train, y_train)\n",
    "    ensemble_ml, ensemble_df = model_scores(ensemble_model, X_train, y_train, model_list=ensemble_ml, model_name=key)\n",
    "ensemble_df"
   ]
  },
  {
   "cell_type": "markdown",
   "id": "f0513ea9",
   "metadata": {},
   "source": [
    "XGBClassifier has slightly better metrics. Additionally it ran much more quickly, which will be helpful when hypertuning.\n",
    "\n",
    "Next, I want to try three different methods for handling our target imbalance and compare them to a basic model. "
   ]
  },
  {
   "cell_type": "code",
   "execution_count": 18,
   "id": "3ea43d9a",
   "metadata": {
    "ExecuteTime": {
     "end_time": "2023-09-19T15:52:51.985541Z",
     "start_time": "2023-09-19T15:51:44.515202Z"
    }
   },
   "outputs": [],
   "source": [
    "# Choose between XGBClassifier Variants\n",
    "\n",
    "# Basic model for comparison\n",
    "xgb_pipe = Pipeline(steps=[('ct', ct), ('xgb', XGBClassifier(random_state=12))])\n",
    "xgb_model = xgb_pipe.fit(X_train, y_train)\n",
    "\n",
    "\n",
    "# Using the scale_pos_weight parameter to add weight to the minority class.\n",
    "# The specific number used is the ratio of negative class to the positive class.\n",
    "num_negatives = (y_train == 0).sum()\n",
    "num_positives = (y_train == 1).sum()\n",
    "neg_pos_ratio = num_negatives / num_positives\n",
    "\n",
    "weighted_pipe = Pipeline(\n",
    "    steps=[('ct',ct),\n",
    "           ('xgb',XGBClassifier(random_state=12, scale_pos_weight=neg_pos_ratio))])\n",
    "xgb_weighted = weighted_pipe.fit(X_train, y_train)\n",
    "\n",
    "# Using SMOTE to oversample the positive class.\n",
    "smote_pipe = ImPipeline(steps=[('ct', ct), ('ss', StandardScaler()), ('sm', SMOTE(\n",
    "        random_state=12)), ('xgb', XGBClassifier(random_state=12))])\n",
    "xgb_smote = smote_pipe.fit(X_train, y_train)\n",
    "\n",
    "# Using ADASYN to oversample the positive class.\n",
    "adasyn_pipe = ImPipeline(\n",
    "    steps=[('ct', ct), ('ss', StandardScaler()), ('sm', ADASYN(\n",
    "        random_state=12)), ('xgb', XGBClassifier(random_state=12))])\n",
    "xgb_adasyn = adasyn_pipe.fit(X_train, y_train)"
   ]
  },
  {
   "cell_type": "code",
   "execution_count": 19,
   "id": "c96365ef",
   "metadata": {
    "ExecuteTime": {
     "end_time": "2023-09-19T15:57:55.282452Z",
     "start_time": "2023-09-19T15:52:51.987544Z"
    }
   },
   "outputs": [
    {
     "data": {
      "text/html": [
       "<div>\n",
       "<style scoped>\n",
       "    .dataframe tbody tr th:only-of-type {\n",
       "        vertical-align: middle;\n",
       "    }\n",
       "\n",
       "    .dataframe tbody tr th {\n",
       "        vertical-align: top;\n",
       "    }\n",
       "\n",
       "    .dataframe thead th {\n",
       "        text-align: right;\n",
       "    }\n",
       "</style>\n",
       "<table border=\"1\" class=\"dataframe\">\n",
       "  <thead>\n",
       "    <tr style=\"text-align: right;\">\n",
       "      <th></th>\n",
       "      <th>name</th>\n",
       "      <th>f2</th>\n",
       "      <th>accuracy</th>\n",
       "      <th>precision</th>\n",
       "      <th>recall</th>\n",
       "      <th>roc_auc</th>\n",
       "    </tr>\n",
       "  </thead>\n",
       "  <tbody>\n",
       "    <tr>\n",
       "      <th>0</th>\n",
       "      <td>Basic XGB</td>\n",
       "      <td>6.22</td>\n",
       "      <td>91.89</td>\n",
       "      <td>48.57</td>\n",
       "      <td>5.10</td>\n",
       "      <td>82.99</td>\n",
       "    </tr>\n",
       "    <tr>\n",
       "      <th>1</th>\n",
       "      <td>Weighted XGB</td>\n",
       "      <td>49.27</td>\n",
       "      <td>74.52</td>\n",
       "      <td>20.62</td>\n",
       "      <td>75.49</td>\n",
       "      <td>82.41</td>\n",
       "    </tr>\n",
       "    <tr>\n",
       "      <th>2</th>\n",
       "      <td>SMOTE XGB</td>\n",
       "      <td>6.75</td>\n",
       "      <td>91.81</td>\n",
       "      <td>44.54</td>\n",
       "      <td>5.57</td>\n",
       "      <td>82.81</td>\n",
       "    </tr>\n",
       "    <tr>\n",
       "      <th>3</th>\n",
       "      <td>ADASYN XGB</td>\n",
       "      <td>6.03</td>\n",
       "      <td>91.79</td>\n",
       "      <td>43.35</td>\n",
       "      <td>4.97</td>\n",
       "      <td>82.85</td>\n",
       "    </tr>\n",
       "  </tbody>\n",
       "</table>\n",
       "</div>"
      ],
      "text/plain": [
       "           name     f2  accuracy  precision  recall  roc_auc\n",
       "0     Basic XGB   6.22     91.89      48.57    5.10    82.99\n",
       "1  Weighted XGB  49.27     74.52      20.62   75.49    82.41\n",
       "2     SMOTE XGB   6.75     91.81      44.54    5.57    82.81\n",
       "3    ADASYN XGB   6.03     91.79      43.35    4.97    82.85"
      ]
     },
     "execution_count": 19,
     "metadata": {},
     "output_type": "execute_result"
    }
   ],
   "source": [
    "# Score XGB variant models\n",
    "variant_dic = {\n",
    "    'Basic XGB': xgb_model,\n",
    "    'Weighted XGB': xgb_weighted,\n",
    "    'SMOTE XGB': xgb_smote,\n",
    "    'ADASYN XGB': xgb_adasyn\n",
    "}\n",
    "variant_ml = []\n",
    "for num, key in enumerate(variant_dic):\n",
    "    model = variant_dic[key]\n",
    "    variant_ml, variant_df = model_scores(model, X_train, y_train, model_list=variant_ml, cv=5, model_name=key)\n",
    "variant_df"
   ]
  },
  {
   "cell_type": "markdown",
   "id": "4e7f0e93",
   "metadata": {},
   "source": [
    "The Weighted XGBClassifier siginicantly outperformed the others in both metrics and speed. "
   ]
  },
  {
   "cell_type": "markdown",
   "id": "14be91cf",
   "metadata": {},
   "source": [
    "#### Hyperparameter Tuning\n",
    "I will start by using RandomizedSearchCV to randomly select parameters within ranges, scoring them, then searching for the parameters which produce the best f2-score. \n",
    "\n",
    "To save computation time I've pickled the results from the best model the search found. For more information, you can find the [code here.](./code/my_module.py)"
   ]
  },
  {
   "cell_type": "code",
   "execution_count": 20,
   "id": "ee520cdb",
   "metadata": {
    "ExecuteTime": {
     "end_time": "2023-09-19T15:57:55.306601Z",
     "start_time": "2023-09-19T15:57:55.286278Z"
    }
   },
   "outputs": [
    {
     "name": "stdout",
     "output_type": "stream",
     "text": [
      "Parameters for Best Model:\n"
     ]
    },
    {
     "data": {
      "text/plain": [
       "xbg__reg_lambda           10.000000\n",
       "xbg__reg_alpha             0.100000\n",
       "xbg__n_estimators        650.000000\n",
       "xbg__min_child_weight      1.000000\n",
       "xbg__max_depth             4.000000\n",
       "xbg__gamma                10.000000\n",
       "xbg__eta                   0.150000\n",
       "xbg__colsample_bytree      0.428571\n",
       "dtype: float64"
      ]
     },
     "metadata": {},
     "output_type": "display_data"
    },
    {
     "name": "stdout",
     "output_type": "stream",
     "text": [
      "\n",
      "Best Model Scores:\n"
     ]
    },
    {
     "data": {
      "text/html": [
       "<div>\n",
       "<style scoped>\n",
       "    .dataframe tbody tr th:only-of-type {\n",
       "        vertical-align: middle;\n",
       "    }\n",
       "\n",
       "    .dataframe tbody tr th {\n",
       "        vertical-align: top;\n",
       "    }\n",
       "\n",
       "    .dataframe thead th {\n",
       "        text-align: right;\n",
       "    }\n",
       "</style>\n",
       "<table border=\"1\" class=\"dataframe\">\n",
       "  <thead>\n",
       "    <tr style=\"text-align: right;\">\n",
       "      <th></th>\n",
       "      <th>name</th>\n",
       "      <th>f2</th>\n",
       "      <th>accuracy</th>\n",
       "      <th>precision</th>\n",
       "      <th>recall</th>\n",
       "      <th>roc_auc</th>\n",
       "    </tr>\n",
       "  </thead>\n",
       "  <tbody>\n",
       "    <tr>\n",
       "      <th>0</th>\n",
       "      <td>Best Estimator from RS</td>\n",
       "      <td>50.32</td>\n",
       "      <td>72.72</td>\n",
       "      <td>20.18</td>\n",
       "      <td>80.33</td>\n",
       "      <td>83.63</td>\n",
       "    </tr>\n",
       "  </tbody>\n",
       "</table>\n",
       "</div>"
      ],
      "text/plain": [
       "                     name     f2  accuracy  precision  recall  roc_auc\n",
       "0  Best Estimator from RS  50.32     72.72      20.18   80.33    83.63"
      ]
     },
     "metadata": {},
     "output_type": "display_data"
    }
   ],
   "source": [
    "# pipe and parameter ranges used in RandomizedSearchCV\n",
    "rs_pipe = Pipeline(steps=[('ct', ct),\n",
    "                       ('xbg',\n",
    "                        XGBClassifier(random_state=12,\n",
    "                                      tree_method='hist', \n",
    "                                      scale_pos_weight=neg_pos_ratio))])\n",
    "\n",
    "params = {\n",
    "    'xbg__n_estimators': range(50, 1000, 50),\n",
    "    'xbg__max_depth': range(1, 15),\n",
    "    'xbg__eta': [0.001, 0.005, 0.01, 0.05, 0.1, 0.15, 0.2, 0.25, 0.3],\n",
    "    'xbg__colsample_bytree': np.linspace(0, 1, 50),\n",
    "    'xbg__min_child_weight': range(1, 10),\n",
    "    'xbg__gamma': [0, 0.1, 1, 10, 100, 1000],\n",
    "    'xbg__reg_alpha': [0, 0.01, 0.1, 1, 10],\n",
    "    'xbg__reg_lambda': [0, 0.01, 0.1, 1, 10]\n",
    "}\n",
    "\n",
    "# parameters for best estimator\n",
    "with open('pickles/rs_params.pkl', 'rb') as h:\n",
    "    rs_params = pickle.load(h)\n",
    "\n",
    "# scores best estimators from searches\n",
    "with open('pickles/df5.pkl', 'rb') as g:\n",
    "    search_scores_df = pickle.load(g)\n",
    "\n",
    "print('Parameters for Best Model:')\n",
    "display(pd.Series(rs_params))\n",
    "print('')\n",
    "print('Best Model Scores:')\n",
    "display(search_scores_df.head(1))"
   ]
  },
  {
   "cell_type": "markdown",
   "id": "90f4c8d5",
   "metadata": {
    "ExecuteTime": {
     "end_time": "2023-09-14T16:37:36.395404Z",
     "start_time": "2023-09-14T16:37:36.318642Z"
    }
   },
   "source": [
    "Now I will use these parameters and see if I can improve the f2-score by manipulating n_estimators, max_depth, and learning rate parameters and using GridSearchCV to score every combination of parameters from the options given. \n",
    "\n",
    "Once again, I've pickled the results from the best model the search found. For more information, you can find the [code here.](./code/my_module.py)"
   ]
  },
  {
   "cell_type": "code",
   "execution_count": 21,
   "id": "d1595a09",
   "metadata": {
    "ExecuteTime": {
     "end_time": "2023-09-19T15:57:55.349645Z",
     "start_time": "2023-09-19T15:57:55.319121Z"
    }
   },
   "outputs": [
    {
     "name": "stdout",
     "output_type": "stream",
     "text": [
      "Parameters for Best Model:\n"
     ]
    },
    {
     "data": {
      "text/plain": [
       "xbg__eta               0.1\n",
       "xbg__max_depth         2.0\n",
       "xbg__n_estimators    400.0\n",
       "dtype: float64"
      ]
     },
     "metadata": {},
     "output_type": "display_data"
    },
    {
     "name": "stdout",
     "output_type": "stream",
     "text": [
      "\n",
      "Best Model Scores:\n"
     ]
    },
    {
     "data": {
      "text/html": [
       "<div>\n",
       "<style scoped>\n",
       "    .dataframe tbody tr th:only-of-type {\n",
       "        vertical-align: middle;\n",
       "    }\n",
       "\n",
       "    .dataframe tbody tr th {\n",
       "        vertical-align: top;\n",
       "    }\n",
       "\n",
       "    .dataframe thead th {\n",
       "        text-align: right;\n",
       "    }\n",
       "</style>\n",
       "<table border=\"1\" class=\"dataframe\">\n",
       "  <thead>\n",
       "    <tr style=\"text-align: right;\">\n",
       "      <th></th>\n",
       "      <th>name</th>\n",
       "      <th>f2</th>\n",
       "      <th>accuracy</th>\n",
       "      <th>precision</th>\n",
       "      <th>recall</th>\n",
       "      <th>roc_auc</th>\n",
       "    </tr>\n",
       "  </thead>\n",
       "  <tbody>\n",
       "    <tr>\n",
       "      <th>0</th>\n",
       "      <td>Best Estimator from RS</td>\n",
       "      <td>50.32</td>\n",
       "      <td>72.72</td>\n",
       "      <td>20.18</td>\n",
       "      <td>80.33</td>\n",
       "      <td>83.63</td>\n",
       "    </tr>\n",
       "    <tr>\n",
       "      <th>1</th>\n",
       "      <td>Best Estimator from GS</td>\n",
       "      <td>50.46</td>\n",
       "      <td>72.82</td>\n",
       "      <td>20.26</td>\n",
       "      <td>80.44</td>\n",
       "      <td>83.65</td>\n",
       "    </tr>\n",
       "  </tbody>\n",
       "</table>\n",
       "</div>"
      ],
      "text/plain": [
       "                     name     f2  accuracy  precision  recall  roc_auc\n",
       "0  Best Estimator from RS  50.32     72.72      20.18   80.33    83.63\n",
       "1  Best Estimator from GS  50.46     72.82      20.26   80.44    83.65"
      ]
     },
     "metadata": {},
     "output_type": "display_data"
    }
   ],
   "source": [
    "# Classifier, pipe, and parameter ranges used in the GridSearchCV\n",
    "xgb = XGBClassifier(reg_lambda=10,\n",
    "                    reg_alpha=0.1,\n",
    "                    min_child_weight=1,\n",
    "                    gamma=10,\n",
    "                    colsample_bytree=3 / 7,\n",
    "                    tree_method=\"hist\",\n",
    "                    scale_pos_weight=neg_pos_ratio,\n",
    "                    random_state=12)\n",
    "\n",
    "gs_pipe = Pipeline(steps=[('ct', ct), ('xbg', xgb)])\n",
    "\n",
    "params = {\n",
    "    'xbg__n_estimators': np.linspace(400, 800, 10, dtype=int),\n",
    "    'xbg__max_depth': [2, 3, 4, 5, 6, 7],\n",
    "    'xbg__eta': np.linspace(0.1, 0.2, 10)\n",
    "}\n",
    "\n",
    "# parameters for best estimator\n",
    "with open('pickles/gs_params.pkl', 'rb') as h:\n",
    "    gs_params = pickle.load(h)\n",
    "\n",
    "# loading the saved best model found during the grid search\n",
    "with open('pickles/gs_model.pkl', 'rb') as h:\n",
    "    gs_model = joblib.load(h)\n",
    "\n",
    "print('Parameters for Best Model:')\n",
    "display(pd.Series(gs_params))\n",
    "print('')\n",
    "print('Best Model Scores:')\n",
    "display(search_scores_df)"
   ]
  },
  {
   "cell_type": "markdown",
   "id": "2debd7a8",
   "metadata": {},
   "source": [
    "Grid searching helped improve metrics across the board!"
   ]
  },
  {
   "cell_type": "code",
   "execution_count": 22,
   "id": "63b8eb2e",
   "metadata": {
    "ExecuteTime": {
     "end_time": "2023-09-19T15:57:55.360230Z",
     "start_time": "2023-09-19T15:57:55.354534Z"
    }
   },
   "outputs": [],
   "source": [
    "# Saving optimal parameters for future use.\n",
    "xgb_final = XGBClassifier(eta=0.1,\n",
    "                          max_depth=2,\n",
    "                          n_estimators=400,\n",
    "                          reg_lambda=10,\n",
    "                          reg_alpha=0.1,\n",
    "                          min_child_weight=1,\n",
    "                          gamma=10,\n",
    "                          colsample_bytree=3 / 7,\n",
    "                          tree_method=\"hist\",\n",
    "                          scale_pos_weight=neg_pos_ratio,\n",
    "                          random_state=12)"
   ]
  },
  {
   "cell_type": "markdown",
   "id": "8e59821b",
   "metadata": {},
   "source": [
    "### Feature Importance\n",
    "\n",
    "Looking at feature importances could help the hospital determine which questions on the questionare to include, and which to omit. It is important to remember that these figures represent the importance of these features **to the specific** model."
   ]
  },
  {
   "cell_type": "code",
   "execution_count": 23,
   "id": "aacdda4a",
   "metadata": {
    "ExecuteTime": {
     "end_time": "2023-09-19T15:57:55.377958Z",
     "start_time": "2023-09-19T15:57:55.363530Z"
    }
   },
   "outputs": [
    {
     "data": {
      "text/html": [
       "<div>\n",
       "<style scoped>\n",
       "    .dataframe tbody tr th:only-of-type {\n",
       "        vertical-align: middle;\n",
       "    }\n",
       "\n",
       "    .dataframe tbody tr th {\n",
       "        vertical-align: top;\n",
       "    }\n",
       "\n",
       "    .dataframe thead th {\n",
       "        text-align: right;\n",
       "    }\n",
       "</style>\n",
       "<table border=\"1\" class=\"dataframe\">\n",
       "  <thead>\n",
       "    <tr style=\"text-align: right;\">\n",
       "      <th></th>\n",
       "      <th>Feature</th>\n",
       "      <th>Importance</th>\n",
       "    </tr>\n",
       "  </thead>\n",
       "  <tbody>\n",
       "    <tr>\n",
       "      <th>2</th>\n",
       "      <td>oe__Age_Category</td>\n",
       "      <td>0.194362</td>\n",
       "    </tr>\n",
       "    <tr>\n",
       "      <th>16</th>\n",
       "      <td>ohe__Arthritis_Yes</td>\n",
       "      <td>0.159462</td>\n",
       "    </tr>\n",
       "    <tr>\n",
       "      <th>0</th>\n",
       "      <td>oe__General_Health</td>\n",
       "      <td>0.153559</td>\n",
       "    </tr>\n",
       "    <tr>\n",
       "      <th>13</th>\n",
       "      <td>ohe__Diabetes_Yes</td>\n",
       "      <td>0.120359</td>\n",
       "    </tr>\n",
       "    <tr>\n",
       "      <th>11</th>\n",
       "      <td>ohe__Diabetes_No</td>\n",
       "      <td>0.077498</td>\n",
       "    </tr>\n",
       "    <tr>\n",
       "      <th>19</th>\n",
       "      <td>ohe__Smoking_History_No</td>\n",
       "      <td>0.051027</td>\n",
       "    </tr>\n",
       "    <tr>\n",
       "      <th>15</th>\n",
       "      <td>ohe__Arthritis_No</td>\n",
       "      <td>0.041956</td>\n",
       "    </tr>\n",
       "    <tr>\n",
       "      <th>18</th>\n",
       "      <td>ohe__Sex_Male</td>\n",
       "      <td>0.039063</td>\n",
       "    </tr>\n",
       "    <tr>\n",
       "      <th>17</th>\n",
       "      <td>ohe__Sex_Female</td>\n",
       "      <td>0.038595</td>\n",
       "    </tr>\n",
       "    <tr>\n",
       "      <th>1</th>\n",
       "      <td>oe__Checkup</td>\n",
       "      <td>0.026356</td>\n",
       "    </tr>\n",
       "    <tr>\n",
       "      <th>20</th>\n",
       "      <td>ohe__Smoking_History_Yes</td>\n",
       "      <td>0.024078</td>\n",
       "    </tr>\n",
       "    <tr>\n",
       "      <th>10</th>\n",
       "      <td>ohe__Depression_Yes</td>\n",
       "      <td>0.011612</td>\n",
       "    </tr>\n",
       "    <tr>\n",
       "      <th>24</th>\n",
       "      <td>remainder__Alcohol_Consumption</td>\n",
       "      <td>0.010720</td>\n",
       "    </tr>\n",
       "    <tr>\n",
       "      <th>9</th>\n",
       "      <td>ohe__Depression_No</td>\n",
       "      <td>0.008138</td>\n",
       "    </tr>\n",
       "    <tr>\n",
       "      <th>5</th>\n",
       "      <td>ohe__Skin_Cancer_No</td>\n",
       "      <td>0.007707</td>\n",
       "    </tr>\n",
       "    <tr>\n",
       "      <th>7</th>\n",
       "      <td>ohe__Other_Cancer_No</td>\n",
       "      <td>0.006962</td>\n",
       "    </tr>\n",
       "    <tr>\n",
       "      <th>8</th>\n",
       "      <td>ohe__Other_Cancer_Yes</td>\n",
       "      <td>0.005432</td>\n",
       "    </tr>\n",
       "    <tr>\n",
       "      <th>6</th>\n",
       "      <td>ohe__Skin_Cancer_Yes</td>\n",
       "      <td>0.004995</td>\n",
       "    </tr>\n",
       "    <tr>\n",
       "      <th>3</th>\n",
       "      <td>ohe__Exercise_No</td>\n",
       "      <td>0.002488</td>\n",
       "    </tr>\n",
       "    <tr>\n",
       "      <th>23</th>\n",
       "      <td>remainder__BMI</td>\n",
       "      <td>0.002348</td>\n",
       "    </tr>\n",
       "    <tr>\n",
       "      <th>26</th>\n",
       "      <td>remainder__Green_Vegetables_Consumption</td>\n",
       "      <td>0.002177</td>\n",
       "    </tr>\n",
       "    <tr>\n",
       "      <th>27</th>\n",
       "      <td>remainder__FriedPotato_Consumption</td>\n",
       "      <td>0.002060</td>\n",
       "    </tr>\n",
       "    <tr>\n",
       "      <th>12</th>\n",
       "      <td>ohe__Diabetes_No, pre-diabetes or borderline d...</td>\n",
       "      <td>0.001914</td>\n",
       "    </tr>\n",
       "    <tr>\n",
       "      <th>25</th>\n",
       "      <td>remainder__Fruit_Consumption</td>\n",
       "      <td>0.001874</td>\n",
       "    </tr>\n",
       "    <tr>\n",
       "      <th>21</th>\n",
       "      <td>remainder__Height_(cm)</td>\n",
       "      <td>0.001817</td>\n",
       "    </tr>\n",
       "    <tr>\n",
       "      <th>4</th>\n",
       "      <td>ohe__Exercise_Yes</td>\n",
       "      <td>0.001750</td>\n",
       "    </tr>\n",
       "    <tr>\n",
       "      <th>22</th>\n",
       "      <td>remainder__Weight_(kg)</td>\n",
       "      <td>0.001690</td>\n",
       "    </tr>\n",
       "    <tr>\n",
       "      <th>14</th>\n",
       "      <td>ohe__Diabetes_Yes, but female told only during...</td>\n",
       "      <td>0.000000</td>\n",
       "    </tr>\n",
       "  </tbody>\n",
       "</table>\n",
       "</div>"
      ],
      "text/plain": [
       "                                              Feature  Importance\n",
       "2                                    oe__Age_Category    0.194362\n",
       "16                                 ohe__Arthritis_Yes    0.159462\n",
       "0                                  oe__General_Health    0.153559\n",
       "13                                  ohe__Diabetes_Yes    0.120359\n",
       "11                                   ohe__Diabetes_No    0.077498\n",
       "19                            ohe__Smoking_History_No    0.051027\n",
       "15                                  ohe__Arthritis_No    0.041956\n",
       "18                                      ohe__Sex_Male    0.039063\n",
       "17                                    ohe__Sex_Female    0.038595\n",
       "1                                         oe__Checkup    0.026356\n",
       "20                           ohe__Smoking_History_Yes    0.024078\n",
       "10                                ohe__Depression_Yes    0.011612\n",
       "24                     remainder__Alcohol_Consumption    0.010720\n",
       "9                                  ohe__Depression_No    0.008138\n",
       "5                                 ohe__Skin_Cancer_No    0.007707\n",
       "7                                ohe__Other_Cancer_No    0.006962\n",
       "8                               ohe__Other_Cancer_Yes    0.005432\n",
       "6                                ohe__Skin_Cancer_Yes    0.004995\n",
       "3                                    ohe__Exercise_No    0.002488\n",
       "23                                     remainder__BMI    0.002348\n",
       "26            remainder__Green_Vegetables_Consumption    0.002177\n",
       "27                 remainder__FriedPotato_Consumption    0.002060\n",
       "12  ohe__Diabetes_No, pre-diabetes or borderline d...    0.001914\n",
       "25                       remainder__Fruit_Consumption    0.001874\n",
       "21                             remainder__Height_(cm)    0.001817\n",
       "4                                   ohe__Exercise_Yes    0.001750\n",
       "22                             remainder__Weight_(kg)    0.001690\n",
       "14  ohe__Diabetes_Yes, but female told only during...    0.000000"
      ]
     },
     "execution_count": 23,
     "metadata": {},
     "output_type": "execute_result"
    }
   ],
   "source": [
    "# Making a dataframe with the feature name and its importance.\n",
    "feature_importances = gs_model.named_steps['xbg'].feature_importances_\n",
    "feature_names = gs_model[:-1].get_feature_names_out()\n",
    "\n",
    "importance_df = pd.DataFrame({\n",
    "    'Feature': feature_names,\n",
    "    'Importance': feature_importances\n",
    "}).sort_values('Importance', ascending=False)\n",
    "importance_df"
   ]
  },
  {
   "cell_type": "markdown",
   "id": "f5bd599a",
   "metadata": {},
   "source": [
    "While we could make some conclusions about feature importance, it would be more helpful to have the original features as they correspond to questions on the questionaire. For example, instead of knowing `ohe__Arthritis__Yes` has an importance of about 0.159 and `ohe__Arthritis_No` has about 0.042, it would be easier to interpret and compare if these were combined into one feature, `Arthritis` with an importance of about 0.159 + 0.042 = 0.201. "
   ]
  },
  {
   "cell_type": "code",
   "execution_count": 24,
   "id": "102a30e4",
   "metadata": {
    "ExecuteTime": {
     "end_time": "2023-09-19T15:57:55.402476Z",
     "start_time": "2023-09-19T15:57:55.381001Z"
    }
   },
   "outputs": [
    {
     "data": {
      "text/html": [
       "<div>\n",
       "<style scoped>\n",
       "    .dataframe tbody tr th:only-of-type {\n",
       "        vertical-align: middle;\n",
       "    }\n",
       "\n",
       "    .dataframe tbody tr th {\n",
       "        vertical-align: top;\n",
       "    }\n",
       "\n",
       "    .dataframe thead th {\n",
       "        text-align: right;\n",
       "    }\n",
       "</style>\n",
       "<table border=\"1\" class=\"dataframe\">\n",
       "  <thead>\n",
       "    <tr style=\"text-align: right;\">\n",
       "      <th></th>\n",
       "      <th>Importance</th>\n",
       "    </tr>\n",
       "    <tr>\n",
       "      <th>Feature</th>\n",
       "      <th></th>\n",
       "    </tr>\n",
       "  </thead>\n",
       "  <tbody>\n",
       "    <tr>\n",
       "      <th>Arthritis</th>\n",
       "      <td>0.201418</td>\n",
       "    </tr>\n",
       "    <tr>\n",
       "      <th>Diabetes</th>\n",
       "      <td>0.199771</td>\n",
       "    </tr>\n",
       "    <tr>\n",
       "      <th>Age_Category</th>\n",
       "      <td>0.194362</td>\n",
       "    </tr>\n",
       "    <tr>\n",
       "      <th>General_Health</th>\n",
       "      <td>0.153559</td>\n",
       "    </tr>\n",
       "    <tr>\n",
       "      <th>Sex</th>\n",
       "      <td>0.077658</td>\n",
       "    </tr>\n",
       "    <tr>\n",
       "      <th>Smoking_History</th>\n",
       "      <td>0.075105</td>\n",
       "    </tr>\n",
       "    <tr>\n",
       "      <th>Checkup</th>\n",
       "      <td>0.026356</td>\n",
       "    </tr>\n",
       "    <tr>\n",
       "      <th>Depression</th>\n",
       "      <td>0.019750</td>\n",
       "    </tr>\n",
       "    <tr>\n",
       "      <th>Skin_Cancer</th>\n",
       "      <td>0.012702</td>\n",
       "    </tr>\n",
       "    <tr>\n",
       "      <th>Other_Cancer</th>\n",
       "      <td>0.012394</td>\n",
       "    </tr>\n",
       "    <tr>\n",
       "      <th>Alcohol_Consumption</th>\n",
       "      <td>0.010720</td>\n",
       "    </tr>\n",
       "    <tr>\n",
       "      <th>Exercise</th>\n",
       "      <td>0.004238</td>\n",
       "    </tr>\n",
       "    <tr>\n",
       "      <th>BMI</th>\n",
       "      <td>0.002348</td>\n",
       "    </tr>\n",
       "    <tr>\n",
       "      <th>Green_Vegetables_Consumption</th>\n",
       "      <td>0.002177</td>\n",
       "    </tr>\n",
       "    <tr>\n",
       "      <th>FriedPotato_Consumption</th>\n",
       "      <td>0.002060</td>\n",
       "    </tr>\n",
       "    <tr>\n",
       "      <th>Fruit_Consumption</th>\n",
       "      <td>0.001874</td>\n",
       "    </tr>\n",
       "    <tr>\n",
       "      <th>Height_(cm)</th>\n",
       "      <td>0.001817</td>\n",
       "    </tr>\n",
       "    <tr>\n",
       "      <th>Weight_(kg)</th>\n",
       "      <td>0.001690</td>\n",
       "    </tr>\n",
       "  </tbody>\n",
       "</table>\n",
       "</div>"
      ],
      "text/plain": [
       "                              Importance\n",
       "Feature                                 \n",
       "Arthritis                       0.201418\n",
       "Diabetes                        0.199771\n",
       "Age_Category                    0.194362\n",
       "General_Health                  0.153559\n",
       "Sex                             0.077658\n",
       "Smoking_History                 0.075105\n",
       "Checkup                         0.026356\n",
       "Depression                      0.019750\n",
       "Skin_Cancer                     0.012702\n",
       "Other_Cancer                    0.012394\n",
       "Alcohol_Consumption             0.010720\n",
       "Exercise                        0.004238\n",
       "BMI                             0.002348\n",
       "Green_Vegetables_Consumption    0.002177\n",
       "FriedPotato_Consumption         0.002060\n",
       "Fruit_Consumption               0.001874\n",
       "Height_(cm)                     0.001817\n",
       "Weight_(kg)                     0.001690"
      ]
     },
     "execution_count": 24,
     "metadata": {},
     "output_type": "execute_result"
    }
   ],
   "source": [
    "# This will clean the feature names back to the original feature names\n",
    "def clean_features(feature):\n",
    "    feats = df.columns\n",
    "    for i in feats:\n",
    "        if i in feature:\n",
    "            return i\n",
    "        else:\n",
    "            pass\n",
    "\n",
    "importance_df['Feature'] = importance_df['Feature'].apply(clean_features)\n",
    "\n",
    "# Combining the features and adding their importance\n",
    "importance_grouped_df = importance_df.groupby('Feature').sum().sort_values('Importance', ascending=False)\n",
    "importance_grouped_df"
   ]
  },
  {
   "cell_type": "markdown",
   "id": "e78fad74",
   "metadata": {},
   "source": [
    "Let's see this visually."
   ]
  },
  {
   "cell_type": "code",
   "execution_count": 25,
   "id": "1dac12af",
   "metadata": {
    "ExecuteTime": {
     "end_time": "2023-09-19T15:57:55.763050Z",
     "start_time": "2023-09-19T15:57:55.406803Z"
    }
   },
   "outputs": [
    {
     "data": {
      "image/png": "[encoded data removed]",
      "text/plain": [
       "<Figure size 640x480 with 1 Axes>"
      ]
     },
     "metadata": {},
     "output_type": "display_data"
    }
   ],
   "source": [
    "fig, ax = plt.subplots()\n",
    "ax = sns.barplot(x=importance_grouped_df['Importance'], y=importance_grouped_df.index);"
   ]
  },
  {
   "cell_type": "markdown",
   "id": "9b0e86c9",
   "metadata": {},
   "source": [
    "`Arthritis`, `Diabetes`, `Age`, `General_Health` are the most important features, with `Sex` and `Smoking_History` in the next tier of importance. \n",
    "\n",
    "Given that some features are significantly more important than others, let's construct and evaluate the model by initially considering the feature with the highest importance and subsequently incorporating additional features one at a time to assess their impact on the metrics."
   ]
  },
  {
   "cell_type": "code",
   "execution_count": 26,
   "id": "ff127598",
   "metadata": {
    "ExecuteTime": {
     "end_time": "2023-09-19T15:57:55.778893Z",
     "start_time": "2023-09-19T15:57:55.772159Z"
    }
   },
   "outputs": [],
   "source": [
    "def feature_selector(features, X_train, y_train, num, ml):\n",
    "    \"\"\"\n",
    "    This function constructs and evaluates the model by initially considering \n",
    "    the feature with the highest importance and subsequently incorporating \n",
    "    additional features one at a time to assess their impact on the metrics.\n",
    "    \"\"\"\n",
    "    ord_dic = {'General_Health': health, 'Checkup': check, 'Age_Category': age}\n",
    "    to_ohe = []\n",
    "    to_oe = []\n",
    "    categories = []\n",
    "    feats = features[:num]\n",
    "    X_alt = X_train[feats]\n",
    "\n",
    "    for c_feat in categorical:\n",
    "        if c_feat in feats:\n",
    "            to_ohe.append(c_feat)\n",
    "\n",
    "    for o_feat in ordinal:\n",
    "        if o_feat in feats:\n",
    "            to_oe.append(o_feat)\n",
    "            categories.append(ord_dic[o_feat])\n",
    "\n",
    "    if len(to_ohe) > 0 and len(to_oe) > 0:\n",
    "        ct = ColumnTransformer(transformers=[\n",
    "            ('oe', OrdinalEncoder(categories=categories), to_oe),\n",
    "            ('ohe', OneHotEncoder(), to_ohe)\n",
    "        ], remainder=\"passthrough\")\n",
    "    elif len(to_ohe) > 0:\n",
    "        ct = ColumnTransformer(transformers=[\n",
    "            ('ohe', OneHotEncoder(), to_ohe)], remainder=\"passthrough\")\n",
    "    else:\n",
    "        ct = ColumnTransformer(transformers=[\n",
    "            ('oe', OrdinalEncoder(categories=categories), to_oe)\n",
    "        ], remainder=\"passthrough\")\n",
    "\n",
    "    if len(to_ohe) > 0 or len(to_oe) > 0:\n",
    "        pipe = Pipeline(steps=[('ct', ct), ('xbg', xgb_final)])\n",
    "    else:\n",
    "        pipe = Pipeline(steps=[('xbg', xgb_final)])\n",
    "\n",
    "    model = pipe.fit(X_alt, y_train)\n",
    "    ml, mdf = model_scores(model, X_alt, y_train, model_list=ml, cv=10, model_name='Top ' + str(num) + ' ' + 'features')\n",
    "    return ml, mdf\n"
   ]
  },
  {
   "cell_type": "code",
   "execution_count": 27,
   "id": "fd65134b",
   "metadata": {
    "ExecuteTime": {
     "end_time": "2023-09-19T16:01:24.566209Z",
     "start_time": "2023-09-19T15:57:55.781319Z"
    },
    "scrolled": true
   },
   "outputs": [
    {
     "data": {
      "text/html": [
       "<div>\n",
       "<style scoped>\n",
       "    .dataframe tbody tr th:only-of-type {\n",
       "        vertical-align: middle;\n",
       "    }\n",
       "\n",
       "    .dataframe tbody tr th {\n",
       "        vertical-align: top;\n",
       "    }\n",
       "\n",
       "    .dataframe thead th {\n",
       "        text-align: right;\n",
       "    }\n",
       "</style>\n",
       "<table border=\"1\" class=\"dataframe\">\n",
       "  <thead>\n",
       "    <tr style=\"text-align: right;\">\n",
       "      <th></th>\n",
       "      <th>name</th>\n",
       "      <th>f2</th>\n",
       "      <th>accuracy</th>\n",
       "      <th>precision</th>\n",
       "      <th>recall</th>\n",
       "      <th>roc_auc</th>\n",
       "    </tr>\n",
       "  </thead>\n",
       "  <tbody>\n",
       "    <tr>\n",
       "      <th>16</th>\n",
       "      <td>Top 17 features</td>\n",
       "      <td>50.46</td>\n",
       "      <td>72.96</td>\n",
       "      <td>20.32</td>\n",
       "      <td>80.21</td>\n",
       "      <td>83.61</td>\n",
       "    </tr>\n",
       "    <tr>\n",
       "      <th>13</th>\n",
       "      <td>Top 14 features</td>\n",
       "      <td>50.45</td>\n",
       "      <td>72.85</td>\n",
       "      <td>20.27</td>\n",
       "      <td>80.38</td>\n",
       "      <td>83.61</td>\n",
       "    </tr>\n",
       "    <tr>\n",
       "      <th>17</th>\n",
       "      <td>Top 18 features</td>\n",
       "      <td>50.40</td>\n",
       "      <td>72.90</td>\n",
       "      <td>20.27</td>\n",
       "      <td>80.19</td>\n",
       "      <td>83.61</td>\n",
       "    </tr>\n",
       "    <tr>\n",
       "      <th>12</th>\n",
       "      <td>Top 13 features</td>\n",
       "      <td>50.37</td>\n",
       "      <td>72.75</td>\n",
       "      <td>20.21</td>\n",
       "      <td>80.37</td>\n",
       "      <td>83.60</td>\n",
       "    </tr>\n",
       "    <tr>\n",
       "      <th>15</th>\n",
       "      <td>Top 16 features</td>\n",
       "      <td>50.36</td>\n",
       "      <td>72.90</td>\n",
       "      <td>20.26</td>\n",
       "      <td>80.12</td>\n",
       "      <td>83.58</td>\n",
       "    </tr>\n",
       "    <tr>\n",
       "      <th>14</th>\n",
       "      <td>Top 15 features</td>\n",
       "      <td>50.34</td>\n",
       "      <td>72.80</td>\n",
       "      <td>20.22</td>\n",
       "      <td>80.24</td>\n",
       "      <td>83.59</td>\n",
       "    </tr>\n",
       "    <tr>\n",
       "      <th>11</th>\n",
       "      <td>Top 12 features</td>\n",
       "      <td>50.33</td>\n",
       "      <td>72.73</td>\n",
       "      <td>20.19</td>\n",
       "      <td>80.32</td>\n",
       "      <td>83.58</td>\n",
       "    </tr>\n",
       "    <tr>\n",
       "      <th>10</th>\n",
       "      <td>Top 11 features</td>\n",
       "      <td>50.31</td>\n",
       "      <td>72.65</td>\n",
       "      <td>20.15</td>\n",
       "      <td>80.40</td>\n",
       "      <td>83.58</td>\n",
       "    </tr>\n",
       "    <tr>\n",
       "      <th>9</th>\n",
       "      <td>Top 10 features</td>\n",
       "      <td>50.25</td>\n",
       "      <td>72.57</td>\n",
       "      <td>20.10</td>\n",
       "      <td>80.42</td>\n",
       "      <td>83.52</td>\n",
       "    </tr>\n",
       "    <tr>\n",
       "      <th>7</th>\n",
       "      <td>Top 8 features</td>\n",
       "      <td>50.17</td>\n",
       "      <td>72.57</td>\n",
       "      <td>20.07</td>\n",
       "      <td>80.25</td>\n",
       "      <td>83.46</td>\n",
       "    </tr>\n",
       "    <tr>\n",
       "      <th>6</th>\n",
       "      <td>Top 7 features</td>\n",
       "      <td>50.17</td>\n",
       "      <td>72.61</td>\n",
       "      <td>20.09</td>\n",
       "      <td>80.18</td>\n",
       "      <td>83.41</td>\n",
       "    </tr>\n",
       "    <tr>\n",
       "      <th>8</th>\n",
       "      <td>Top 9 features</td>\n",
       "      <td>50.16</td>\n",
       "      <td>72.43</td>\n",
       "      <td>20.02</td>\n",
       "      <td>80.46</td>\n",
       "      <td>83.51</td>\n",
       "    </tr>\n",
       "    <tr>\n",
       "      <th>5</th>\n",
       "      <td>Top 6 features</td>\n",
       "      <td>49.82</td>\n",
       "      <td>72.17</td>\n",
       "      <td>19.82</td>\n",
       "      <td>80.18</td>\n",
       "      <td>83.27</td>\n",
       "    </tr>\n",
       "    <tr>\n",
       "      <th>4</th>\n",
       "      <td>Top 5 features</td>\n",
       "      <td>49.62</td>\n",
       "      <td>72.15</td>\n",
       "      <td>19.75</td>\n",
       "      <td>79.79</td>\n",
       "      <td>83.01</td>\n",
       "    </tr>\n",
       "    <tr>\n",
       "      <th>3</th>\n",
       "      <td>Top 4 features</td>\n",
       "      <td>48.25</td>\n",
       "      <td>70.66</td>\n",
       "      <td>18.81</td>\n",
       "      <td>79.27</td>\n",
       "      <td>81.89</td>\n",
       "    </tr>\n",
       "    <tr>\n",
       "      <th>2</th>\n",
       "      <td>Top 3 features</td>\n",
       "      <td>44.48</td>\n",
       "      <td>65.80</td>\n",
       "      <td>16.32</td>\n",
       "      <td>78.24</td>\n",
       "      <td>78.15</td>\n",
       "    </tr>\n",
       "    <tr>\n",
       "      <th>1</th>\n",
       "      <td>Top 2 features</td>\n",
       "      <td>39.77</td>\n",
       "      <td>63.25</td>\n",
       "      <td>14.35</td>\n",
       "      <td>71.38</td>\n",
       "      <td>69.72</td>\n",
       "    </tr>\n",
       "    <tr>\n",
       "      <th>0</th>\n",
       "      <td>Top 1 features</td>\n",
       "      <td>35.43</td>\n",
       "      <td>68.43</td>\n",
       "      <td>14.09</td>\n",
       "      <td>57.01</td>\n",
       "      <td>63.22</td>\n",
       "    </tr>\n",
       "  </tbody>\n",
       "</table>\n",
       "</div>"
      ],
      "text/plain": [
       "               name     f2  accuracy  precision  recall  roc_auc\n",
       "16  Top 17 features  50.46     72.96      20.32   80.21    83.61\n",
       "13  Top 14 features  50.45     72.85      20.27   80.38    83.61\n",
       "17  Top 18 features  50.40     72.90      20.27   80.19    83.61\n",
       "12  Top 13 features  50.37     72.75      20.21   80.37    83.60\n",
       "15  Top 16 features  50.36     72.90      20.26   80.12    83.58\n",
       "14  Top 15 features  50.34     72.80      20.22   80.24    83.59\n",
       "11  Top 12 features  50.33     72.73      20.19   80.32    83.58\n",
       "10  Top 11 features  50.31     72.65      20.15   80.40    83.58\n",
       "9   Top 10 features  50.25     72.57      20.10   80.42    83.52\n",
       "7    Top 8 features  50.17     72.57      20.07   80.25    83.46\n",
       "6    Top 7 features  50.17     72.61      20.09   80.18    83.41\n",
       "8    Top 9 features  50.16     72.43      20.02   80.46    83.51\n",
       "5    Top 6 features  49.82     72.17      19.82   80.18    83.27\n",
       "4    Top 5 features  49.62     72.15      19.75   79.79    83.01\n",
       "3    Top 4 features  48.25     70.66      18.81   79.27    81.89\n",
       "2    Top 3 features  44.48     65.80      16.32   78.24    78.15\n",
       "1    Top 2 features  39.77     63.25      14.35   71.38    69.72\n",
       "0    Top 1 features  35.43     68.43      14.09   57.01    63.22"
      ]
     },
     "execution_count": 27,
     "metadata": {},
     "output_type": "execute_result"
    }
   ],
   "source": [
    "selector_ml = []\n",
    "for i in range(len(importance_grouped_df.index)):\n",
    "    selector_ml, selector_df = feature_selector(importance_grouped_df.index, X_train, y_train, num=i + 1, ml=selector_ml)\n",
    "selector_df.sort_values('f2', ascending=False)"
   ]
  },
  {
   "cell_type": "markdown",
   "id": "14c6757e",
   "metadata": {},
   "source": [
    "The model with 17 features (excluding `Weight_(kg)`) had the highest f2-score, so we'll make that our final model."
   ]
  },
  {
   "cell_type": "code",
   "execution_count": 28,
   "id": "3732b4b8",
   "metadata": {
    "ExecuteTime": {
     "end_time": "2023-09-19T16:01:26.845960Z",
     "start_time": "2023-09-19T16:01:24.568559Z"
    }
   },
   "outputs": [],
   "source": [
    "# Importing a custom transformer which will drop the Weight_(kg) column.\n",
    "from code.my_module import ColumnDropperTransformer\n",
    "\n",
    "# Making a new ColumnTransformer to incorporate the ColumnDropperTransformer\n",
    "ct2 = ColumnTransformer(transformers=[\n",
    "    ('cd',ColumnDropperTransformer(columns=['Weight_(kg)']),['Weight_(kg)']),\n",
    "    ('oe', oe, ordinal),\n",
    "    ('ohe', ohe, categorical)],\n",
    "    remainder=\"passthrough\")\n",
    "    \n",
    "final_pipe = Pipeline(steps=[('ct2', ct2), ('xgb', xgb_final)])\n",
    "final_model = final_pipe.fit(X_train, y_train)"
   ]
  },
  {
   "cell_type": "markdown",
   "id": "40b21103",
   "metadata": {},
   "source": [
    "## Evaluation\n",
    "***\n",
    "Now that we have found the final model, I will score each of our models on the test data. "
   ]
  },
  {
   "cell_type": "code",
   "execution_count": 29,
   "id": "5d3c04da",
   "metadata": {
    "ExecuteTime": {
     "end_time": "2023-09-19T16:01:27.751625Z",
     "start_time": "2023-09-19T16:01:26.848042Z"
    }
   },
   "outputs": [
    {
     "data": {
      "text/html": [
       "<div>\n",
       "<style scoped>\n",
       "    .dataframe tbody tr th:only-of-type {\n",
       "        vertical-align: middle;\n",
       "    }\n",
       "\n",
       "    .dataframe tbody tr th {\n",
       "        vertical-align: top;\n",
       "    }\n",
       "\n",
       "    .dataframe thead th {\n",
       "        text-align: right;\n",
       "    }\n",
       "</style>\n",
       "<table border=\"1\" class=\"dataframe\">\n",
       "  <thead>\n",
       "    <tr style=\"text-align: right;\">\n",
       "      <th></th>\n",
       "      <th>name</th>\n",
       "      <th>f2</th>\n",
       "      <th>accuracy</th>\n",
       "      <th>precision</th>\n",
       "      <th>recall</th>\n",
       "      <th>roc_auc</th>\n",
       "    </tr>\n",
       "  </thead>\n",
       "  <tbody>\n",
       "    <tr>\n",
       "      <th>0</th>\n",
       "      <td>Dummy Model</td>\n",
       "      <td>0.00</td>\n",
       "      <td>91.91</td>\n",
       "      <td>0.00</td>\n",
       "      <td>0.00</td>\n",
       "      <td>50.00</td>\n",
       "    </tr>\n",
       "    <tr>\n",
       "      <th>1</th>\n",
       "      <td>Baseline Model</td>\n",
       "      <td>7.70</td>\n",
       "      <td>91.89</td>\n",
       "      <td>48.65</td>\n",
       "      <td>6.36</td>\n",
       "      <td>52.88</td>\n",
       "    </tr>\n",
       "    <tr>\n",
       "      <th>2</th>\n",
       "      <td>Final Model</td>\n",
       "      <td>50.68</td>\n",
       "      <td>72.95</td>\n",
       "      <td>20.38</td>\n",
       "      <td>80.68</td>\n",
       "      <td>76.48</td>\n",
       "    </tr>\n",
       "  </tbody>\n",
       "</table>\n",
       "</div>"
      ],
      "text/plain": [
       "             name     f2  accuracy  precision  recall  roc_auc\n",
       "0     Dummy Model   0.00     91.91       0.00    0.00    50.00\n",
       "1  Baseline Model   7.70     91.89      48.65    6.36    52.88\n",
       "2     Final Model  50.68     72.95      20.38   80.68    76.48"
      ]
     },
     "execution_count": 29,
     "metadata": {},
     "output_type": "execute_result"
    }
   ],
   "source": [
    "models_dic = {\n",
    "    'Dummy Model': dummy_model,\n",
    "    'Baseline Model': baseline_model,\n",
    "    'Final Model': final_model\n",
    "}\n",
    "ml = []\n",
    "for num, key in enumerate(models_dic):\n",
    "    model = models_dic[key]\n",
    "    ml, mdf = model_scores(model, X_test, y_test, model_list=ml, cv=0, model_name=key)\n",
    "mdf"
   ]
  },
  {
   "cell_type": "markdown",
   "id": "cd5dbc54",
   "metadata": {},
   "source": [
    "The final model was the best performing model on the test data, capturing almost 81% of all of the positive cases. Given the over 300,000 data entries, lack of data leakage, and cross-validation done during training, I'm confident that this model would generalize. "
   ]
  },
  {
   "cell_type": "code",
   "execution_count": 30,
   "id": "07c94f17",
   "metadata": {
    "ExecuteTime": {
     "end_time": "2023-09-19T16:01:28.191885Z",
     "start_time": "2023-09-19T16:01:27.754324Z"
    }
   },
   "outputs": [
    {
     "data": {
      "image/png": "[encoded data removed]",
      "text/plain": [
       "<Figure size 640x480 with 2 Axes>"
      ]
     },
     "metadata": {},
     "output_type": "display_data"
    }
   ],
   "source": [
    "ConfusionMatrixDisplay.from_predictions(y_test,\n",
    "                                        final_model.predict(X_test),\n",
    "                                        normalize='true');"
   ]
  },
  {
   "cell_type": "markdown",
   "id": "d8e7db02",
   "metadata": {},
   "source": [
    "Based on this confusion matrix our model would correctly predict 81% of positive cases and 72% of negative cases. It would incorrectly predict 28% of negative cases as positive and 19% of positive cases as negative. \n",
    "\n",
    "Next we can look at the ROC curve to view the relationship between the true positive rate and false positve rate across all classification thresholds. "
   ]
  },
  {
   "cell_type": "code",
   "execution_count": 31,
   "id": "ee549eb0",
   "metadata": {
    "ExecuteTime": {
     "end_time": "2023-09-19T16:01:28.596741Z",
     "start_time": "2023-09-19T16:01:28.193971Z"
    }
   },
   "outputs": [
    {
     "data": {
      "text/plain": [
       "<sklearn.metrics._plot.roc_curve.RocCurveDisplay at 0x135f4be50>"
      ]
     },
     "execution_count": 31,
     "metadata": {},
     "output_type": "execute_result"
    },
    {
     "data": {
      "image/png": "[encoded data removed]",
      "text/plain": [
       "<Figure size 640x480 with 1 Axes>"
      ]
     },
     "metadata": {},
     "output_type": "display_data"
    }
   ],
   "source": [
    "RocCurveDisplay.from_estimator(final_model, X_test, y_test)"
   ]
  },
  {
   "cell_type": "markdown",
   "id": "036a194a",
   "metadata": {},
   "source": [
    "We may adjust the the classification threshold to meet the hospital's needs. \n",
    "\n",
    "For example, say we needed to correctly identify at least 90% of the positve cases. "
   ]
  },
  {
   "cell_type": "code",
   "execution_count": 32,
   "id": "b20baf89",
   "metadata": {
    "ExecuteTime": {
     "end_time": "2023-09-19T16:01:28.839909Z",
     "start_time": "2023-09-19T16:01:28.599027Z"
    }
   },
   "outputs": [
    {
     "data": {
      "text/plain": [
       "0.37404037"
      ]
     },
     "execution_count": 32,
     "metadata": {},
     "output_type": "execute_result"
    }
   ],
   "source": [
    "probabilities = final_model.predict_proba(X_test)[:, 1]\n",
    "fpr, tpr, thresholds = roc_curve(y_test, probabilities)\n",
    "desired_tpr = 0.9\n",
    "idx = np.argmax(tpr >= desired_tpr)\n",
    "threshold_at_desired_tpr = thresholds[idx]\n",
    "threshold_at_desired_tpr"
   ]
  },
  {
   "cell_type": "code",
   "execution_count": 33,
   "id": "ddb3801c",
   "metadata": {
    "ExecuteTime": {
     "end_time": "2023-09-19T16:01:29.043760Z",
     "start_time": "2023-09-19T16:01:28.842274Z"
    }
   },
   "outputs": [
    {
     "data": {
      "image/png": "[encoded data removed]",
      "text/plain": [
       "<Figure size 640x480 with 2 Axes>"
      ]
     },
     "metadata": {},
     "output_type": "display_data"
    }
   ],
   "source": [
    "# setting classification threshold to 0.37404037\n",
    "predicted_labels = (probabilities > threshold_at_desired_tpr).astype(int)\n",
    "ConfusionMatrixDisplay.from_predictions(y_test,\n",
    "                                        predicted_labels,\n",
    "                                        normalize='true');"
   ]
  },
  {
   "cell_type": "markdown",
   "id": "5542da27",
   "metadata": {},
   "source": [
    "Now we are correctly predicting 90% of positive cases. This change decreased the rate that we correctly identify negative cases from 72% to 61% and increased the rate of incorrectly predicting negative cases as positive from 28% to 39%."
   ]
  },
  {
   "cell_type": "markdown",
   "id": "a304968d",
   "metadata": {},
   "source": [
    "## Conclusions\n",
    "***\n",
    "### Recommendations\n",
    "- Based on our final model I would recommend that the hospital develop a questionaire to get information about their patience for all features except weight. \n",
    "### Limitations\n",
    "- This model would not be as helpful in cases where the cost of a positve identification is increased, such as recommending a more invasive procedure, medication, or otherwise more expenive or cumbersome consequence.  \n",
    "- It may be difficult to gather 17 pieces of information about patients. \n",
    "### Next Steps\n",
    "- Determine with stakeholders which questions to include based on their feature importance, ease of retrieving that data, and cost of excluding that data from the model\n",
    "- Determine with stakeholders the appropriate threshold to balance out true positive rate and false positive rate.\n",
    "- Gather more data to see if there are other features which may help predict having a heart condition."
   ]
  }
 ],
 "metadata": {
  "kernelspec": {
   "display_name": "Python 3 (ipykernel)",
   "language": "python",
   "name": "python3"
  },
  "language_info": {
   "codemirror_mode": {
    "name": "ipython",
    "version": 3
   },
   "file_extension": ".py",
   "mimetype": "text/x-python",
   "name": "python",
   "nbconvert_exporter": "python",
   "pygments_lexer": "ipython3",
   "version": "3.11.3"
  },
  "notify_time": "5",
  "varInspector": {
   "cols": {
    "lenName": 16,
    "lenType": 16,
    "lenVar": 40
   },
   "kernels_config": {
    "python": {
     "delete_cmd_postfix": "",
     "delete_cmd_prefix": "del ",
     "library": "var_list.py",
     "varRefreshCmd": "print(var_dic_list())"
    },
    "r": {
     "delete_cmd_postfix": ") ",
     "delete_cmd_prefix": "rm(",
     "library": "var_list.r",
     "varRefreshCmd": "cat(var_dic_list()) "
    }
   },
   "types_to_exclude": [
    "module",
    "function",
    "builtin_function_or_method",
    "instance",
    "_Feature"
   ],
   "window_display": false
  }
 },
 "nbformat": 4,
 "nbformat_minor": 5
}
