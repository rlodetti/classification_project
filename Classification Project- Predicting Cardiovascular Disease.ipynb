{
 "cells": [
  {
   "cell_type": "markdown",
   "id": "2315486d",
   "metadata": {},
   "source": [
    "# Classification Project: Predicting Cardiovascular Disease\n",
    "***\n",
    "\n",
    "**Author:** Ron Lodetti Jr.\n",
    "![Heart](./images/heart.jpeg)"
   ]
  },
  {
   "cell_type": "markdown",
   "id": "003c7c9b",
   "metadata": {},
   "source": [
    "## Overview\n",
    "***\n",
    "This project uses machine learning and data from the CDC's [2021 Behavioral Risk Factor Surveillance System (BRFSS)](https://www.cdc.gov/brfss/annual_data/annual_2021.html) to help a hospital target patience who would benefit from an educational program about heart health. After model iteration and hyperparameter tuning, our final model can correctly predict 81% of people with a heart condition, while only incorrectly predicting 28% of negative cases as positive. "
   ]
  },
  {
   "cell_type": "markdown",
   "id": "b0c96caf",
   "metadata": {},
   "source": [
    "## Business Problem\n",
    "***\n",
    "Cardiovascular diseases are the [leading cause of death](https://en.wikipedia.org/wiki/List_of_causes_of_death_by_rate) worldwide except Africa. A hospital wants to be able to identify patients who are at risk of Cardiovascular disease (CVD) to begin taking preventative measures as early as possible. The hospital has developed a new online educational program and would like to reccommend it to any patience at risk. "
   ]
  },
  {
   "cell_type": "markdown",
   "id": "c9c20327",
   "metadata": {},
   "source": [
    "## Data Understanding\n",
    "***\n",
    "This dataset, [from kaggle](https://www.kaggle.com/datasets/alphiree/cardiovascular-diseases-risk-prediction-dataset), is a cleaned version of the responses from the CDC's [2021 Behavioral Risk Factor Surveillance System (BRFSS)](https://www.cdc.gov/brfss/annual_data/annual_2021.html)"
   ]
  },
  {
   "cell_type": "code",
   "execution_count": 5,
   "id": "343fce37",
   "metadata": {
    "ExecuteTime": {
     "end_time": "2023-09-14T20:16:26.713447Z",
     "start_time": "2023-09-14T20:16:26.706358Z"
    }
   },
   "outputs": [],
   "source": [
    "# Importing packages\n",
    "import pandas as pd\n",
    "import numpy as np\n",
    "from imblearn.over_sampling import SMOTE, ADASYN\n",
    "from imblearn.pipeline import Pipeline as ImPipeline\n",
    "from sklearn.compose import ColumnTransformer\n",
    "from sklearn.dummy import DummyClassifier\n",
    "from sklearn.ensemble import RandomForestClassifier\n",
    "from sklearn.linear_model import LogisticRegression\n",
    "from sklearn.metrics import ConfusionMatrixDisplay, RocCurveDisplay \n",
    "# recall_score, roc_auc_score, accuracy_score, precision_score\n",
    "from sklearn.model_selection import train_test_split\n",
    "from sklearn.naive_bayes import GaussianNB\n",
    "from sklearn.neighbors import KNeighborsClassifier\n",
    "from sklearn.pipeline import Pipeline\n",
    "from sklearn.preprocessing import LabelEncoder, OrdinalEncoder, OneHotEncoder, StandardScaler\n",
    "from sklearn.tree import DecisionTreeClassifier\n",
    "from xgboost import XGBClassifier\n",
    "from sklearn.metrics import make_scorer, fbeta_score\n",
    "import joblib\n",
    "import pickle"
   ]
  },
  {
   "cell_type": "code",
   "execution_count": 6,
   "id": "5a7dbbaa",
   "metadata": {
    "ExecuteTime": {
     "end_time": "2023-09-14T20:16:27.595279Z",
     "start_time": "2023-09-14T20:16:26.875918Z"
    }
   },
   "outputs": [
    {
     "name": "stdout",
     "output_type": "stream",
     "text": [
      "(308854, 19)\n"
     ]
    },
    {
     "data": {
      "text/html": [
       "<div>\n",
       "<style scoped>\n",
       "    .dataframe tbody tr th:only-of-type {\n",
       "        vertical-align: middle;\n",
       "    }\n",
       "\n",
       "    .dataframe tbody tr th {\n",
       "        vertical-align: top;\n",
       "    }\n",
       "\n",
       "    .dataframe thead th {\n",
       "        text-align: right;\n",
       "    }\n",
       "</style>\n",
       "<table border=\"1\" class=\"dataframe\">\n",
       "  <thead>\n",
       "    <tr style=\"text-align: right;\">\n",
       "      <th></th>\n",
       "      <th>General_Health</th>\n",
       "      <th>Checkup</th>\n",
       "      <th>Exercise</th>\n",
       "      <th>Heart_Disease</th>\n",
       "      <th>Skin_Cancer</th>\n",
       "      <th>Other_Cancer</th>\n",
       "      <th>Depression</th>\n",
       "      <th>Diabetes</th>\n",
       "      <th>Arthritis</th>\n",
       "      <th>Sex</th>\n",
       "      <th>Age_Category</th>\n",
       "      <th>Height_(cm)</th>\n",
       "      <th>Weight_(kg)</th>\n",
       "      <th>BMI</th>\n",
       "      <th>Smoking_History</th>\n",
       "      <th>Alcohol_Consumption</th>\n",
       "      <th>Fruit_Consumption</th>\n",
       "      <th>Green_Vegetables_Consumption</th>\n",
       "      <th>FriedPotato_Consumption</th>\n",
       "    </tr>\n",
       "  </thead>\n",
       "  <tbody>\n",
       "    <tr>\n",
       "      <th>0</th>\n",
       "      <td>Poor</td>\n",
       "      <td>Within the past 2 years</td>\n",
       "      <td>No</td>\n",
       "      <td>No</td>\n",
       "      <td>No</td>\n",
       "      <td>No</td>\n",
       "      <td>No</td>\n",
       "      <td>No</td>\n",
       "      <td>Yes</td>\n",
       "      <td>Female</td>\n",
       "      <td>70-74</td>\n",
       "      <td>150.0</td>\n",
       "      <td>32.66</td>\n",
       "      <td>14.54</td>\n",
       "      <td>Yes</td>\n",
       "      <td>0.0</td>\n",
       "      <td>30.0</td>\n",
       "      <td>16.0</td>\n",
       "      <td>12.0</td>\n",
       "    </tr>\n",
       "    <tr>\n",
       "      <th>1</th>\n",
       "      <td>Very Good</td>\n",
       "      <td>Within the past year</td>\n",
       "      <td>No</td>\n",
       "      <td>Yes</td>\n",
       "      <td>No</td>\n",
       "      <td>No</td>\n",
       "      <td>No</td>\n",
       "      <td>Yes</td>\n",
       "      <td>No</td>\n",
       "      <td>Female</td>\n",
       "      <td>70-74</td>\n",
       "      <td>165.0</td>\n",
       "      <td>77.11</td>\n",
       "      <td>28.29</td>\n",
       "      <td>No</td>\n",
       "      <td>0.0</td>\n",
       "      <td>30.0</td>\n",
       "      <td>0.0</td>\n",
       "      <td>4.0</td>\n",
       "    </tr>\n",
       "    <tr>\n",
       "      <th>2</th>\n",
       "      <td>Very Good</td>\n",
       "      <td>Within the past year</td>\n",
       "      <td>Yes</td>\n",
       "      <td>No</td>\n",
       "      <td>No</td>\n",
       "      <td>No</td>\n",
       "      <td>No</td>\n",
       "      <td>Yes</td>\n",
       "      <td>No</td>\n",
       "      <td>Female</td>\n",
       "      <td>60-64</td>\n",
       "      <td>163.0</td>\n",
       "      <td>88.45</td>\n",
       "      <td>33.47</td>\n",
       "      <td>No</td>\n",
       "      <td>4.0</td>\n",
       "      <td>12.0</td>\n",
       "      <td>3.0</td>\n",
       "      <td>16.0</td>\n",
       "    </tr>\n",
       "    <tr>\n",
       "      <th>3</th>\n",
       "      <td>Poor</td>\n",
       "      <td>Within the past year</td>\n",
       "      <td>Yes</td>\n",
       "      <td>Yes</td>\n",
       "      <td>No</td>\n",
       "      <td>No</td>\n",
       "      <td>No</td>\n",
       "      <td>Yes</td>\n",
       "      <td>No</td>\n",
       "      <td>Male</td>\n",
       "      <td>75-79</td>\n",
       "      <td>180.0</td>\n",
       "      <td>93.44</td>\n",
       "      <td>28.73</td>\n",
       "      <td>No</td>\n",
       "      <td>0.0</td>\n",
       "      <td>30.0</td>\n",
       "      <td>30.0</td>\n",
       "      <td>8.0</td>\n",
       "    </tr>\n",
       "    <tr>\n",
       "      <th>4</th>\n",
       "      <td>Good</td>\n",
       "      <td>Within the past year</td>\n",
       "      <td>No</td>\n",
       "      <td>No</td>\n",
       "      <td>No</td>\n",
       "      <td>No</td>\n",
       "      <td>No</td>\n",
       "      <td>No</td>\n",
       "      <td>No</td>\n",
       "      <td>Male</td>\n",
       "      <td>80+</td>\n",
       "      <td>191.0</td>\n",
       "      <td>88.45</td>\n",
       "      <td>24.37</td>\n",
       "      <td>Yes</td>\n",
       "      <td>0.0</td>\n",
       "      <td>8.0</td>\n",
       "      <td>4.0</td>\n",
       "      <td>0.0</td>\n",
       "    </tr>\n",
       "  </tbody>\n",
       "</table>\n",
       "</div>"
      ],
      "text/plain": [
       "  General_Health                  Checkup Exercise Heart_Disease Skin_Cancer  \\\n",
       "0           Poor  Within the past 2 years       No            No          No   \n",
       "1      Very Good     Within the past year       No           Yes          No   \n",
       "2      Very Good     Within the past year      Yes            No          No   \n",
       "3           Poor     Within the past year      Yes           Yes          No   \n",
       "4           Good     Within the past year       No            No          No   \n",
       "\n",
       "  Other_Cancer Depression Diabetes Arthritis     Sex Age_Category  \\\n",
       "0           No         No       No       Yes  Female        70-74   \n",
       "1           No         No      Yes        No  Female        70-74   \n",
       "2           No         No      Yes        No  Female        60-64   \n",
       "3           No         No      Yes        No    Male        75-79   \n",
       "4           No         No       No        No    Male          80+   \n",
       "\n",
       "   Height_(cm)  Weight_(kg)    BMI Smoking_History  Alcohol_Consumption  \\\n",
       "0        150.0        32.66  14.54             Yes                  0.0   \n",
       "1        165.0        77.11  28.29              No                  0.0   \n",
       "2        163.0        88.45  33.47              No                  4.0   \n",
       "3        180.0        93.44  28.73              No                  0.0   \n",
       "4        191.0        88.45  24.37             Yes                  0.0   \n",
       "\n",
       "   Fruit_Consumption  Green_Vegetables_Consumption  FriedPotato_Consumption  \n",
       "0               30.0                          16.0                     12.0  \n",
       "1               30.0                           0.0                      4.0  \n",
       "2               12.0                           3.0                     16.0  \n",
       "3               30.0                          30.0                      8.0  \n",
       "4                8.0                           4.0                      0.0  "
      ]
     },
     "execution_count": 6,
     "metadata": {},
     "output_type": "execute_result"
    }
   ],
   "source": [
    "# Loading the datasets.\n",
    "df = pd.read_csv('data/Cardiovascular_Diseases_Risk_Prediction_Dataset.csv')\n",
    "print(df.shape)\n",
    "df.head()"
   ]
  },
  {
   "cell_type": "markdown",
   "id": "052f6da2",
   "metadata": {},
   "source": [
    "As you can see, we have 308,854 rows, each with 18 feature columns and 1 target column:\n",
    "\n",
    "* `General_Health`: Respondent's reported general health\n",
    "* `Checkup`: Time since respondent's last routine checkup\n",
    "* `Exercise`: Participation in any physical activities or exercises in the past month\n",
    "* `Heart_Disease`: **(Target)** Respondents that reported having coronary heart disease or myocardial infarction\n",
    "* `Skin_Cancer`: Respondents that reported having skin cancer\n",
    "* `Other_Cancer`: Respondents that reported having any other types of cancer\n",
    "* `Depression`: Respondents that reported having a depressive disorder\n",
    "* `Diabetes`: Respondents that reported having a diabetes\n",
    "* `Arthritis`: Respondents that reported having an Arthritis\n",
    "* `Sex`: Respondent's Gender\n",
    "* `Age_Category`: Respondent's Age, by category\n",
    "* `Height_(cm)`: Respondent's Height in centimeters\n",
    "* `Weight_(kg)`: Respondent's Weight in kilograms\n",
    "* `BMI`: Body Mass Index\n",
    "* `Smoking_History`: Respondents that reported having a history of smoking cigarettes\n",
    "* `Alcohol_Consumption`: Number of days, in the past 30 days, where respondent has had at least one alcoholic beverage\n",
    "* `Fruit_Consumption`: Number of servings of fruit during the past 30 days\n",
    "* `Green_Vegetables_Consumption`: Number of servings of vegetables during the past 30 days\n",
    "* `FriedPotato_Consumption`: Number of servings of fruit during the past 30 days"
   ]
  },
  {
   "cell_type": "code",
   "execution_count": null,
   "id": "65988f18",
   "metadata": {
    "ExecuteTime": {
     "end_time": "2023-09-14T20:16:27.650362Z",
     "start_time": "2023-09-14T20:16:27.650341Z"
    }
   },
   "outputs": [],
   "source": [
    "# There are no missing values. \n",
    "# There are 12 features which are object types, \n",
    "# we will need to convert these to numeric types.\n",
    "df.info()"
   ]
  },
  {
   "cell_type": "markdown",
   "id": "7868eb1d",
   "metadata": {},
   "source": [
    "This data set includes 12 categorical variables (including the target `Heart_Disease`) and 7 numeric variables."
   ]
  },
  {
   "cell_type": "code",
   "execution_count": 7,
   "id": "606b20e0",
   "metadata": {
    "ExecuteTime": {
     "end_time": "2023-09-14T20:16:28.163861Z",
     "start_time": "2023-09-14T20:16:27.875909Z"
    }
   },
   "outputs": [
    {
     "name": "stdout",
     "output_type": "stream",
     "text": [
      "General_Health\n",
      "Very Good    110395\n",
      "Good          95364\n",
      "Excellent     55954\n",
      "Fair          35810\n",
      "Poor          11331\n",
      "Name: General_Health, dtype: int64\n",
      "----------\n",
      "\n",
      "Checkup\n",
      "Within the past year       239371\n",
      "Within the past 2 years     37213\n",
      "Within the past 5 years     17442\n",
      "5 or more years ago         13421\n",
      "Never                        1407\n",
      "Name: Checkup, dtype: int64\n",
      "----------\n",
      "\n",
      "Exercise\n",
      "Yes    239381\n",
      "No      69473\n",
      "Name: Exercise, dtype: int64\n",
      "----------\n",
      "\n",
      "Heart_Disease\n",
      "No     283883\n",
      "Yes     24971\n",
      "Name: Heart_Disease, dtype: int64\n",
      "----------\n",
      "\n",
      "Skin_Cancer\n",
      "No     278860\n",
      "Yes     29994\n",
      "Name: Skin_Cancer, dtype: int64\n",
      "----------\n",
      "\n",
      "Other_Cancer\n",
      "No     278976\n",
      "Yes     29878\n",
      "Name: Other_Cancer, dtype: int64\n",
      "----------\n",
      "\n",
      "Depression\n",
      "No     246953\n",
      "Yes     61901\n",
      "Name: Depression, dtype: int64\n",
      "----------\n",
      "\n",
      "Diabetes\n",
      "No                                            259141\n",
      "Yes                                            40171\n",
      "No, pre-diabetes or borderline diabetes         6896\n",
      "Yes, but female told only during pregnancy      2646\n",
      "Name: Diabetes, dtype: int64\n",
      "----------\n",
      "\n",
      "Arthritis\n",
      "No     207783\n",
      "Yes    101071\n",
      "Name: Arthritis, dtype: int64\n",
      "----------\n",
      "\n",
      "Sex\n",
      "Female    160196\n",
      "Male      148658\n",
      "Name: Sex, dtype: int64\n",
      "----------\n",
      "\n",
      "Age_Category\n",
      "65-69    33434\n",
      "60-64    32418\n",
      "70-74    31103\n",
      "55-59    28054\n",
      "50-54    25097\n",
      "80+      22271\n",
      "40-44    21595\n",
      "45-49    20968\n",
      "75-79    20705\n",
      "35-39    20606\n",
      "18-24    18681\n",
      "30-34    18428\n",
      "25-29    15494\n",
      "Name: Age_Category, dtype: int64\n",
      "----------\n",
      "\n",
      "Smoking_History\n",
      "No     183590\n",
      "Yes    125264\n",
      "Name: Smoking_History, dtype: int64\n",
      "----------\n",
      "\n"
     ]
    }
   ],
   "source": [
    "categorical = list(df.select_dtypes(object).columns)\n",
    "for i in categorical:\n",
    "    print(i)\n",
    "    print(df[i].value_counts())\n",
    "    print('----------\\n')"
   ]
  },
  {
   "cell_type": "markdown",
   "id": "5c9e4410",
   "metadata": {},
   "source": [
    "Of our 12 categorical variables:\n",
    "* There are 8 variables that have no order to them and will need to be OneHotEncoded.\n",
    "* There are 3 ordinal variables, that is, categories which have an order. These include `General_Health`, `Checkup`, and `Age_Category`."
   ]
  },
  {
   "cell_type": "code",
   "execution_count": 8,
   "id": "244dd2be",
   "metadata": {
    "ExecuteTime": {
     "end_time": "2023-09-14T20:16:28.482444Z",
     "start_time": "2023-09-14T20:16:28.477368Z"
    }
   },
   "outputs": [],
   "source": [
    "# Identifying ordinal variables and removing them from categorical\n",
    "ordinal = ['General_Health', 'Checkup', 'Age_Category']\n",
    "for i in ordinal:\n",
    "    categorical.remove(i)\n",
    "categorical.remove('Heart_Disease')"
   ]
  },
  {
   "cell_type": "code",
   "execution_count": 9,
   "id": "46bd5154",
   "metadata": {
    "ExecuteTime": {
     "end_time": "2023-09-14T20:16:28.850976Z",
     "start_time": "2023-09-14T20:16:28.709048Z"
    }
   },
   "outputs": [
    {
     "data": {
      "text/html": [
       "<div>\n",
       "<style scoped>\n",
       "    .dataframe tbody tr th:only-of-type {\n",
       "        vertical-align: middle;\n",
       "    }\n",
       "\n",
       "    .dataframe tbody tr th {\n",
       "        vertical-align: top;\n",
       "    }\n",
       "\n",
       "    .dataframe thead th {\n",
       "        text-align: right;\n",
       "    }\n",
       "</style>\n",
       "<table border=\"1\" class=\"dataframe\">\n",
       "  <thead>\n",
       "    <tr style=\"text-align: right;\">\n",
       "      <th></th>\n",
       "      <th>Height_(cm)</th>\n",
       "      <th>Weight_(kg)</th>\n",
       "      <th>BMI</th>\n",
       "      <th>Alcohol_Consumption</th>\n",
       "      <th>Fruit_Consumption</th>\n",
       "      <th>Green_Vegetables_Consumption</th>\n",
       "      <th>FriedPotato_Consumption</th>\n",
       "    </tr>\n",
       "  </thead>\n",
       "  <tbody>\n",
       "    <tr>\n",
       "      <th>count</th>\n",
       "      <td>308854.000000</td>\n",
       "      <td>308854.000000</td>\n",
       "      <td>308854.000000</td>\n",
       "      <td>308854.000000</td>\n",
       "      <td>308854.000000</td>\n",
       "      <td>308854.000000</td>\n",
       "      <td>308854.000000</td>\n",
       "    </tr>\n",
       "    <tr>\n",
       "      <th>mean</th>\n",
       "      <td>170.615249</td>\n",
       "      <td>83.588655</td>\n",
       "      <td>28.626211</td>\n",
       "      <td>5.096366</td>\n",
       "      <td>29.835200</td>\n",
       "      <td>15.110441</td>\n",
       "      <td>6.296616</td>\n",
       "    </tr>\n",
       "    <tr>\n",
       "      <th>std</th>\n",
       "      <td>10.658026</td>\n",
       "      <td>21.343210</td>\n",
       "      <td>6.522323</td>\n",
       "      <td>8.199763</td>\n",
       "      <td>24.875735</td>\n",
       "      <td>14.926238</td>\n",
       "      <td>8.582954</td>\n",
       "    </tr>\n",
       "    <tr>\n",
       "      <th>min</th>\n",
       "      <td>91.000000</td>\n",
       "      <td>24.950000</td>\n",
       "      <td>12.020000</td>\n",
       "      <td>0.000000</td>\n",
       "      <td>0.000000</td>\n",
       "      <td>0.000000</td>\n",
       "      <td>0.000000</td>\n",
       "    </tr>\n",
       "    <tr>\n",
       "      <th>25%</th>\n",
       "      <td>163.000000</td>\n",
       "      <td>68.040000</td>\n",
       "      <td>24.210000</td>\n",
       "      <td>0.000000</td>\n",
       "      <td>12.000000</td>\n",
       "      <td>4.000000</td>\n",
       "      <td>2.000000</td>\n",
       "    </tr>\n",
       "    <tr>\n",
       "      <th>50%</th>\n",
       "      <td>170.000000</td>\n",
       "      <td>81.650000</td>\n",
       "      <td>27.440000</td>\n",
       "      <td>1.000000</td>\n",
       "      <td>30.000000</td>\n",
       "      <td>12.000000</td>\n",
       "      <td>4.000000</td>\n",
       "    </tr>\n",
       "    <tr>\n",
       "      <th>75%</th>\n",
       "      <td>178.000000</td>\n",
       "      <td>95.250000</td>\n",
       "      <td>31.850000</td>\n",
       "      <td>6.000000</td>\n",
       "      <td>30.000000</td>\n",
       "      <td>20.000000</td>\n",
       "      <td>8.000000</td>\n",
       "    </tr>\n",
       "    <tr>\n",
       "      <th>max</th>\n",
       "      <td>241.000000</td>\n",
       "      <td>293.020000</td>\n",
       "      <td>99.330000</td>\n",
       "      <td>30.000000</td>\n",
       "      <td>120.000000</td>\n",
       "      <td>128.000000</td>\n",
       "      <td>128.000000</td>\n",
       "    </tr>\n",
       "  </tbody>\n",
       "</table>\n",
       "</div>"
      ],
      "text/plain": [
       "         Height_(cm)    Weight_(kg)            BMI  Alcohol_Consumption  \\\n",
       "count  308854.000000  308854.000000  308854.000000        308854.000000   \n",
       "mean      170.615249      83.588655      28.626211             5.096366   \n",
       "std        10.658026      21.343210       6.522323             8.199763   \n",
       "min        91.000000      24.950000      12.020000             0.000000   \n",
       "25%       163.000000      68.040000      24.210000             0.000000   \n",
       "50%       170.000000      81.650000      27.440000             1.000000   \n",
       "75%       178.000000      95.250000      31.850000             6.000000   \n",
       "max       241.000000     293.020000      99.330000            30.000000   \n",
       "\n",
       "       Fruit_Consumption  Green_Vegetables_Consumption  \\\n",
       "count      308854.000000                 308854.000000   \n",
       "mean           29.835200                     15.110441   \n",
       "std            24.875735                     14.926238   \n",
       "min             0.000000                      0.000000   \n",
       "25%            12.000000                      4.000000   \n",
       "50%            30.000000                     12.000000   \n",
       "75%            30.000000                     20.000000   \n",
       "max           120.000000                    128.000000   \n",
       "\n",
       "       FriedPotato_Consumption  \n",
       "count            308854.000000  \n",
       "mean                  6.296616  \n",
       "std                   8.582954  \n",
       "min                   0.000000  \n",
       "25%                   2.000000  \n",
       "50%                   4.000000  \n",
       "75%                   8.000000  \n",
       "max                 128.000000  "
      ]
     },
     "execution_count": 9,
     "metadata": {},
     "output_type": "execute_result"
    }
   ],
   "source": [
    "# These numeric variables are scaled differently and will need to be \n",
    "# normalized before including them in specific models\n",
    "\n",
    "# Max and min values seem reasonable given context. \n",
    "\n",
    "numeric = list(df.select_dtypes(exclude=object).columns)\n",
    "df[numeric].describe()"
   ]
  },
  {
   "cell_type": "code",
   "execution_count": 10,
   "id": "85c3e534",
   "metadata": {
    "ExecuteTime": {
     "end_time": "2023-09-14T20:16:30.598471Z",
     "start_time": "2023-09-14T20:16:29.243481Z"
    },
    "scrolled": true
   },
   "outputs": [
    {
     "data": {
      "image/png": "[encoded data removed]",
      "text/plain": [
       "<Figure size 600x600 with 1 Axes>"
      ]
     },
     "metadata": {},
     "output_type": "display_data"
    }
   ],
   "source": [
    "# importing code from as module\n",
    "from code.my_module import viz_1\n",
    "viz_1(df)"
   ]
  },
  {
   "cell_type": "markdown",
   "id": "b48d59a1",
   "metadata": {},
   "source": [
    "Our target variable is very imbalanced. We'll need to be sure to address this during data prep, modeling and evaluation."
   ]
  },
  {
   "cell_type": "code",
   "execution_count": 16,
   "id": "d742d6be",
   "metadata": {
    "ExecuteTime": {
     "end_time": "2023-09-14T20:16:58.477288Z",
     "start_time": "2023-09-14T20:16:55.202409Z"
    }
   },
   "outputs": [
    {
     "data": {
      "image/png": "[encoded data removed]",
      "text/plain": [
       "<Figure size 400x400 with 1 Axes>"
      ]
     },
     "metadata": {},
     "output_type": "display_data"
    },
    {
     "data": {
      "image/png": "[encoded data removed]",
      "text/plain": [
       "<Figure size 400x400 with 1 Axes>"
      ]
     },
     "metadata": {},
     "output_type": "display_data"
    },
    {
     "data": {
      "image/png": "[encoded data removed]",
      "text/plain": [
       "<Figure size 400x400 with 1 Axes>"
      ]
     },
     "metadata": {},
     "output_type": "display_data"
    },
    {
     "data": {
      "image/png": "[encoded data removed]",
      "text/plain": [
       "<Figure size 400x400 with 1 Axes>"
      ]
     },
     "metadata": {},
     "output_type": "display_data"
    },
    {
     "data": {
      "image/png": "[encoded data removed]",
      "text/plain": [
       "<Figure size 400x400 with 1 Axes>"
      ]
     },
     "metadata": {},
     "output_type": "display_data"
    },
    {
     "data": {
      "image/png": "[encoded data removed]",
      "text/plain": [
       "<Figure size 400x400 with 1 Axes>"
      ]
     },
     "metadata": {},
     "output_type": "display_data"
    },
    {
     "data": {
      "image/png": "[encoded data removed]",
      "text/plain": [
       "<Figure size 400x400 with 1 Axes>"
      ]
     },
     "metadata": {},
     "output_type": "display_data"
    },
    {
     "data": {
      "image/png": "[encoded data removed]",
      "text/plain": [
       "<Figure size 400x400 with 1 Axes>"
      ]
     },
     "metadata": {},
     "output_type": "display_data"
    }
   ],
   "source": [
    "from code.my_module import viz_2\n",
    "viz_2(df,categorical)"
   ]
  },
  {
   "cell_type": "markdown",
   "id": "5f018b69",
   "metadata": {},
   "source": [
    "## Data Preparation\n",
    "***\n",
    "The first step in our data preparation is to split the data in to test and train sets. We need to be careful to only use the test data as the last step in the evaluation process to avoid data leakage. "
   ]
  },
  {
   "cell_type": "code",
   "execution_count": null,
   "id": "1e011c93",
   "metadata": {
    "ExecuteTime": {
     "end_time": "2023-09-14T20:16:58.536420Z",
     "start_time": "2023-09-14T20:16:58.536399Z"
    }
   },
   "outputs": [],
   "source": [
    "# Splitting the training from the validation data\n",
    "# Making sure the split is stratefied given the imbalance of our target variable\n",
    "y = df['Heart_Disease']\n",
    "X = df.drop('Heart_Disease', axis=1)\n",
    "X_train, X_test, y_train, y_test = train_test_split(X, y, random_state=12,stratify=y)\n",
    "\n",
    "print('Training Target Distribution')\n",
    "print(y_train.value_counts(normalize=True))\n",
    "print('')\n",
    "print('Validation Target Distribution')\n",
    "print(y_test.value_counts(normalize=True))"
   ]
  },
  {
   "cell_type": "code",
   "execution_count": 17,
   "id": "e87b64f9",
   "metadata": {
    "ExecuteTime": {
     "end_time": "2023-09-14T20:16:59.045250Z",
     "start_time": "2023-09-14T20:16:58.978924Z"
    }
   },
   "outputs": [],
   "source": [
    "# Transforming the target variable into 1's and 0's\n",
    "le = LabelEncoder()\n",
    "y_train = le.fit_transform(y_train)\n",
    "y_test = le.transform(y_test)"
   ]
  },
  {
   "cell_type": "code",
   "execution_count": 18,
   "id": "dedc9051",
   "metadata": {
    "ExecuteTime": {
     "end_time": "2023-09-14T20:16:59.373617Z",
     "start_time": "2023-09-14T20:16:59.367399Z"
    }
   },
   "outputs": [],
   "source": [
    "# Instantiating an OrdinalEncoder transformer to encode ordinal variables.\n",
    "\n",
    "# Listing categories in order for each ordinal variable.\n",
    "health = ['Poor', 'Fair', 'Good', 'Very Good', 'Excellent']\n",
    "check = [\n",
    "    'Never', '5 or more years ago', 'Within the past 5 years',\n",
    "    'Within the past 2 years', 'Within the past year'\n",
    "]\n",
    "age = [\n",
    "    '18-24', '25-29', '30-34', '35-39', '40-44', '45-49', '50-54', '55-59',\n",
    "    '60-64', '65-69', '70-74', '75-79', '80+'\n",
    "]\n",
    "oe = OrdinalEncoder(categories=[health, check, age])"
   ]
  },
  {
   "cell_type": "code",
   "execution_count": 19,
   "id": "62c5e7b9",
   "metadata": {
    "ExecuteTime": {
     "end_time": "2023-09-14T20:16:59.749008Z",
     "start_time": "2023-09-14T20:16:59.744961Z"
    }
   },
   "outputs": [],
   "source": [
    "# Instantiating a OneHotEncoder transformer to be used on the categorical varaibles. \n",
    "ohe = OneHotEncoder()"
   ]
  },
  {
   "cell_type": "code",
   "execution_count": 20,
   "id": "a12d9abe",
   "metadata": {
    "ExecuteTime": {
     "end_time": "2023-09-14T20:17:00.168568Z",
     "start_time": "2023-09-14T20:17:00.163891Z"
    }
   },
   "outputs": [],
   "source": [
    "# Creating a column transformer to be used in a pipeline\n",
    "ct = ColumnTransformer(\n",
    "    transformers=[('oe', OrdinalEncoder(categories=[health, check, age]), ordinal),\n",
    "                  ('ohe', OneHotEncoder(), categorical)\n",
    "                 ],\n",
    "                       remainder=\"passthrough\")"
   ]
  },
  {
   "cell_type": "markdown",
   "id": "d5a1ef1d",
   "metadata": {},
   "source": [
    "## Data Modeling\n",
    "***\n",
    "Since our stakeholder wants to identify as many people as possible who could have a heart condition and the cost of a false positive (identifying a person as likely to have a heart condition when they will not) is low, then we should prioritize the true positive rate, or recall. Given the imbalance in our dataset, I will use the f2-score as my evaluation metric. This is a weighted harmonic mean between precision and recall which gives more weight to recall.\n",
    "\n",
    "Additionally, I will use pipelines when cross-validating and scoring my data as to avoid data leakage. "
   ]
  },
  {
   "cell_type": "markdown",
   "id": "edf4595f",
   "metadata": {},
   "source": [
    "### Dummy Model\n",
    "We will start with a dummy model which always predicts the most frequent target value. In this case it will predict everyone **does not** have a heart condition."
   ]
  },
  {
   "cell_type": "code",
   "execution_count": 21,
   "id": "32b540ae",
   "metadata": {
    "ExecuteTime": {
     "end_time": "2023-09-14T20:17:07.132153Z",
     "start_time": "2023-09-14T20:17:02.519751Z"
    }
   },
   "outputs": [
    {
     "data": {
      "text/html": [
       "<div>\n",
       "<style scoped>\n",
       "    .dataframe tbody tr th:only-of-type {\n",
       "        vertical-align: middle;\n",
       "    }\n",
       "\n",
       "    .dataframe tbody tr th {\n",
       "        vertical-align: top;\n",
       "    }\n",
       "\n",
       "    .dataframe thead th {\n",
       "        text-align: right;\n",
       "    }\n",
       "</style>\n",
       "<table border=\"1\" class=\"dataframe\">\n",
       "  <thead>\n",
       "    <tr style=\"text-align: right;\">\n",
       "      <th></th>\n",
       "      <th>name</th>\n",
       "      <th>f2</th>\n",
       "      <th>accuracy</th>\n",
       "      <th>precision</th>\n",
       "      <th>recall</th>\n",
       "      <th>roc_auc</th>\n",
       "    </tr>\n",
       "  </thead>\n",
       "  <tbody>\n",
       "    <tr>\n",
       "      <th>0</th>\n",
       "      <td>Dummy Model</td>\n",
       "      <td>0.0</td>\n",
       "      <td>91.92</td>\n",
       "      <td>0.0</td>\n",
       "      <td>0.0</td>\n",
       "      <td>50.0</td>\n",
       "    </tr>\n",
       "  </tbody>\n",
       "</table>\n",
       "</div>"
      ],
      "text/plain": [
       "          name   f2  accuracy  precision  recall  roc_auc\n",
       "0  Dummy Model  0.0     91.92        0.0     0.0     50.0"
      ]
     },
     "execution_count": 21,
     "metadata": {},
     "output_type": "execute_result"
    }
   ],
   "source": [
    "# Importing a helper code that takes in a fitted model, cross-validates, scores, and outputs a summary.\n",
    "from code.my_module import model_scores\n",
    "\n",
    "pipe = Pipeline(steps=[\n",
    "    ('ct', ct),  # transforming ordinal and categorical variables\n",
    "    ('dm', DummyClassifier(strategy='most_frequent'))\n",
    "])\n",
    "\n",
    "dummy_model = pipe.fit(X_train, y_train)\n",
    "\n",
    "ml, mdf = model_scores(dummy_model, X_train, y_train,model_name='Dummy Model')\n",
    "mdf"
   ]
  },
  {
   "cell_type": "markdown",
   "id": "42f525f0",
   "metadata": {},
   "source": [
    "No surprise the accuracy is so high given the imbalance in the dataset. The ROC AUC score is also at 50 which is expected. "
   ]
  },
  {
   "cell_type": "markdown",
   "id": "61f7cc07",
   "metadata": {},
   "source": [
    "### Baseline Model\n",
    "\n",
    "To choose a baseline model, I will first iterate through a couple modeling types and choose a baseline with the best metrics. "
   ]
  },
  {
   "cell_type": "code",
   "execution_count": 15,
   "id": "faff6324",
   "metadata": {
    "ExecuteTime": {
     "end_time": "2023-09-14T20:01:43.850495Z",
     "start_time": "2023-09-14T19:59:13.692096Z"
    }
   },
   "outputs": [
    {
     "data": {
      "text/html": [
       "<div>\n",
       "<style scoped>\n",
       "    .dataframe tbody tr th:only-of-type {\n",
       "        vertical-align: middle;\n",
       "    }\n",
       "\n",
       "    .dataframe tbody tr th {\n",
       "        vertical-align: top;\n",
       "    }\n",
       "\n",
       "    .dataframe thead th {\n",
       "        text-align: right;\n",
       "    }\n",
       "</style>\n",
       "<table border=\"1\" class=\"dataframe\">\n",
       "  <thead>\n",
       "    <tr style=\"text-align: right;\">\n",
       "      <th></th>\n",
       "      <th>name</th>\n",
       "      <th>f2</th>\n",
       "      <th>accuracy</th>\n",
       "      <th>precision</th>\n",
       "      <th>recall</th>\n",
       "      <th>roc_auc</th>\n",
       "    </tr>\n",
       "  </thead>\n",
       "  <tbody>\n",
       "    <tr>\n",
       "      <th>0</th>\n",
       "      <td>LogisticRegression</td>\n",
       "      <td>7.50</td>\n",
       "      <td>91.94</td>\n",
       "      <td>51.39</td>\n",
       "      <td>6.18</td>\n",
       "      <td>83.41</td>\n",
       "    </tr>\n",
       "    <tr>\n",
       "      <th>1</th>\n",
       "      <td>DecisionTreeClassifier</td>\n",
       "      <td>22.30</td>\n",
       "      <td>86.14</td>\n",
       "      <td>19.63</td>\n",
       "      <td>23.09</td>\n",
       "      <td>57.39</td>\n",
       "    </tr>\n",
       "    <tr>\n",
       "      <th>2</th>\n",
       "      <td>KNeighborsClassifier</td>\n",
       "      <td>10.67</td>\n",
       "      <td>91.02</td>\n",
       "      <td>31.21</td>\n",
       "      <td>9.16</td>\n",
       "      <td>68.49</td>\n",
       "    </tr>\n",
       "    <tr>\n",
       "      <th>3</th>\n",
       "      <td>GaussianNB</td>\n",
       "      <td>41.58</td>\n",
       "      <td>77.76</td>\n",
       "      <td>19.79</td>\n",
       "      <td>57.37</td>\n",
       "      <td>78.01</td>\n",
       "    </tr>\n",
       "  </tbody>\n",
       "</table>\n",
       "</div>"
      ],
      "text/plain": [
       "                     name     f2  accuracy  precision  recall  roc_auc\n",
       "0      LogisticRegression   7.50     91.94      51.39    6.18    83.41\n",
       "1  DecisionTreeClassifier  22.30     86.14      19.63   23.09    57.39\n",
       "2    KNeighborsClassifier  10.67     91.02      31.21    9.16    68.49\n",
       "3              GaussianNB  41.58     77.76      19.79   57.37    78.01"
      ]
     },
     "execution_count": 15,
     "metadata": {},
     "output_type": "execute_result"
    }
   ],
   "source": [
    "classifiers = {\n",
    "    \"LogisticRegression\": LogisticRegression(random_state=12),\n",
    "    \"DecisionTreeClassifier\": DecisionTreeClassifier(random_state=12),\n",
    "    \"KNeighborsClassifier\": KNeighborsClassifier(),\n",
    "    \"GaussianNB\": GaussianNB()\n",
    "}\n",
    "ml2 = []\n",
    "\n",
    "# Creating a pipeline for each classifier and scoring them.\n",
    "for key in classifiers:\n",
    "    classifier = classifiers[key]\n",
    "    pipe = Pipeline(steps=[\n",
    "        ('ct', ct),\n",
    "        ('ss', StandardScaler()),  # we need to scale the data for LogisticRegression and KNN\n",
    "        (key, classifier)\n",
    "    ])\n",
    "\n",
    "    model = pipe.fit(X_train, y_train)\n",
    "    ml2, mdf2 = model_scores(model, X_train, y_train, model_list=ml2, model_name=key)\n",
    "mdf2"
   ]
  },
  {
   "cell_type": "markdown",
   "id": "f99a0572",
   "metadata": {},
   "source": [
    "Our GaussianNB model has a significantly higher f2-score (and recall) so we will choose that as our baseline. Note that the lower scores for accuracy, precision and roc_auc are ok given our stakeholders aims."
   ]
  },
  {
   "cell_type": "code",
   "execution_count": 22,
   "id": "9aa56860",
   "metadata": {
    "ExecuteTime": {
     "end_time": "2023-09-14T20:17:15.237080Z",
     "start_time": "2023-09-14T20:17:11.162992Z"
    }
   },
   "outputs": [
    {
     "data": {
      "text/html": [
       "<div>\n",
       "<style scoped>\n",
       "    .dataframe tbody tr th:only-of-type {\n",
       "        vertical-align: middle;\n",
       "    }\n",
       "\n",
       "    .dataframe tbody tr th {\n",
       "        vertical-align: top;\n",
       "    }\n",
       "\n",
       "    .dataframe thead th {\n",
       "        text-align: right;\n",
       "    }\n",
       "</style>\n",
       "<table border=\"1\" class=\"dataframe\">\n",
       "  <thead>\n",
       "    <tr style=\"text-align: right;\">\n",
       "      <th></th>\n",
       "      <th>name</th>\n",
       "      <th>f2</th>\n",
       "      <th>accuracy</th>\n",
       "      <th>precision</th>\n",
       "      <th>recall</th>\n",
       "      <th>roc_auc</th>\n",
       "    </tr>\n",
       "  </thead>\n",
       "  <tbody>\n",
       "    <tr>\n",
       "      <th>0</th>\n",
       "      <td>Dummy Model</td>\n",
       "      <td>0.00</td>\n",
       "      <td>91.92</td>\n",
       "      <td>0.00</td>\n",
       "      <td>0.00</td>\n",
       "      <td>50.00</td>\n",
       "    </tr>\n",
       "    <tr>\n",
       "      <th>1</th>\n",
       "      <td>Baseline Model</td>\n",
       "      <td>41.58</td>\n",
       "      <td>77.76</td>\n",
       "      <td>19.79</td>\n",
       "      <td>57.37</td>\n",
       "      <td>78.01</td>\n",
       "    </tr>\n",
       "  </tbody>\n",
       "</table>\n",
       "</div>"
      ],
      "text/plain": [
       "             name     f2  accuracy  precision  recall  roc_auc\n",
       "0     Dummy Model   0.00     91.92       0.00    0.00    50.00\n",
       "1  Baseline Model  41.58     77.76      19.79   57.37    78.01"
      ]
     },
     "execution_count": 22,
     "metadata": {},
     "output_type": "execute_result"
    }
   ],
   "source": [
    "# Creating and scoring our baseline model.\n",
    "pipe = Pipeline(steps=[('ct', ct), ('dm', GaussianNB())])\n",
    "baseline_model = pipe.fit(X_train, y_train)\n",
    "ml, mdf = model_scores(baseline_model, X_train, y_train, model_list=ml, model_name='Baseline Model')\n",
    "mdf"
   ]
  },
  {
   "cell_type": "markdown",
   "id": "adf2cae6",
   "metadata": {},
   "source": [
    "### Model Iteration\n",
    "\n",
    "Next, I want to look two ensemble methods to help me which to use for our final model."
   ]
  },
  {
   "cell_type": "code",
   "execution_count": 17,
   "id": "e7c0febc",
   "metadata": {
    "ExecuteTime": {
     "end_time": "2023-09-14T20:04:16.736566Z",
     "start_time": "2023-09-14T20:01:47.717651Z"
    }
   },
   "outputs": [
    {
     "data": {
      "text/html": [
       "<div>\n",
       "<style scoped>\n",
       "    .dataframe tbody tr th:only-of-type {\n",
       "        vertical-align: middle;\n",
       "    }\n",
       "\n",
       "    .dataframe tbody tr th {\n",
       "        vertical-align: top;\n",
       "    }\n",
       "\n",
       "    .dataframe thead th {\n",
       "        text-align: right;\n",
       "    }\n",
       "</style>\n",
       "<table border=\"1\" class=\"dataframe\">\n",
       "  <thead>\n",
       "    <tr style=\"text-align: right;\">\n",
       "      <th></th>\n",
       "      <th>name</th>\n",
       "      <th>f2</th>\n",
       "      <th>accuracy</th>\n",
       "      <th>precision</th>\n",
       "      <th>recall</th>\n",
       "      <th>roc_auc</th>\n",
       "    </tr>\n",
       "  </thead>\n",
       "  <tbody>\n",
       "    <tr>\n",
       "      <th>0</th>\n",
       "      <td>RandomForestClassifier</td>\n",
       "      <td>5.34</td>\n",
       "      <td>91.81</td>\n",
       "      <td>43.76</td>\n",
       "      <td>4.38</td>\n",
       "      <td>80.85</td>\n",
       "    </tr>\n",
       "    <tr>\n",
       "      <th>1</th>\n",
       "      <td>XGBClassifier</td>\n",
       "      <td>6.22</td>\n",
       "      <td>91.89</td>\n",
       "      <td>48.57</td>\n",
       "      <td>5.10</td>\n",
       "      <td>82.99</td>\n",
       "    </tr>\n",
       "  </tbody>\n",
       "</table>\n",
       "</div>"
      ],
      "text/plain": [
       "                     name    f2  accuracy  precision  recall  roc_auc\n",
       "0  RandomForestClassifier  5.34     91.81      43.76    4.38    80.85\n",
       "1           XGBClassifier  6.22     91.89      48.57    5.10    82.99"
      ]
     },
     "execution_count": 17,
     "metadata": {},
     "output_type": "execute_result"
    }
   ],
   "source": [
    "classifiers = {\n",
    "    'RandomForestClassifier': RandomForestClassifier(random_state=12),\n",
    "    'XGBClassifier': XGBClassifier(random_state=12)\n",
    "}\n",
    "ml3 = []\n",
    "for key in classifiers:\n",
    "    classifier = classifiers[key]\n",
    "    pipe = Pipeline(steps=[('ct', ct), (key, classifier)])\n",
    "\n",
    "    model = pipe.fit(X_train, y_train)\n",
    "    ml3, mdf3 = model_scores(model, X_train, y_train, model_list=ml3, model_name=key)\n",
    "mdf3"
   ]
  },
  {
   "cell_type": "markdown",
   "id": "bbb1a55d",
   "metadata": {},
   "source": [
    "XGBClassifier has slightly better metrics. Additionally it ran much more quickly, which will be helpful when hypertuning.\n",
    "\n",
    "Next, I want to try three different methods for handling our target imbalance and compare them to a basic model. "
   ]
  },
  {
   "cell_type": "code",
   "execution_count": 18,
   "id": "5427cc10",
   "metadata": {
    "ExecuteTime": {
     "end_time": "2023-09-14T20:11:56.454840Z",
     "start_time": "2023-09-14T20:04:16.741027Z"
    }
   },
   "outputs": [
    {
     "data": {
      "text/html": [
       "<div>\n",
       "<style scoped>\n",
       "    .dataframe tbody tr th:only-of-type {\n",
       "        vertical-align: middle;\n",
       "    }\n",
       "\n",
       "    .dataframe tbody tr th {\n",
       "        vertical-align: top;\n",
       "    }\n",
       "\n",
       "    .dataframe thead th {\n",
       "        text-align: right;\n",
       "    }\n",
       "</style>\n",
       "<table border=\"1\" class=\"dataframe\">\n",
       "  <thead>\n",
       "    <tr style=\"text-align: right;\">\n",
       "      <th></th>\n",
       "      <th>name</th>\n",
       "      <th>f2</th>\n",
       "      <th>accuracy</th>\n",
       "      <th>precision</th>\n",
       "      <th>recall</th>\n",
       "      <th>roc_auc</th>\n",
       "    </tr>\n",
       "  </thead>\n",
       "  <tbody>\n",
       "    <tr>\n",
       "      <th>0</th>\n",
       "      <td>Dummy Model</td>\n",
       "      <td>0.00</td>\n",
       "      <td>91.92</td>\n",
       "      <td>0.00</td>\n",
       "      <td>0.00</td>\n",
       "      <td>50.00</td>\n",
       "    </tr>\n",
       "    <tr>\n",
       "      <th>1</th>\n",
       "      <td>Baseline Model</td>\n",
       "      <td>41.58</td>\n",
       "      <td>77.76</td>\n",
       "      <td>19.79</td>\n",
       "      <td>57.37</td>\n",
       "      <td>78.01</td>\n",
       "    </tr>\n",
       "    <tr>\n",
       "      <th>2</th>\n",
       "      <td>Basic XGB</td>\n",
       "      <td>6.22</td>\n",
       "      <td>91.89</td>\n",
       "      <td>48.57</td>\n",
       "      <td>5.10</td>\n",
       "      <td>82.99</td>\n",
       "    </tr>\n",
       "    <tr>\n",
       "      <th>3</th>\n",
       "      <td>Weighted XGB</td>\n",
       "      <td>49.27</td>\n",
       "      <td>74.52</td>\n",
       "      <td>20.62</td>\n",
       "      <td>75.49</td>\n",
       "      <td>82.41</td>\n",
       "    </tr>\n",
       "    <tr>\n",
       "      <th>4</th>\n",
       "      <td>SMOTE XGB</td>\n",
       "      <td>6.75</td>\n",
       "      <td>91.81</td>\n",
       "      <td>44.54</td>\n",
       "      <td>5.57</td>\n",
       "      <td>82.81</td>\n",
       "    </tr>\n",
       "    <tr>\n",
       "      <th>5</th>\n",
       "      <td>ADASYN XGB</td>\n",
       "      <td>6.03</td>\n",
       "      <td>91.79</td>\n",
       "      <td>43.35</td>\n",
       "      <td>4.97</td>\n",
       "      <td>82.85</td>\n",
       "    </tr>\n",
       "  </tbody>\n",
       "</table>\n",
       "</div>"
      ],
      "text/plain": [
       "             name     f2  accuracy  precision  recall  roc_auc\n",
       "0     Dummy Model   0.00     91.92       0.00    0.00    50.00\n",
       "1  Baseline Model  41.58     77.76      19.79   57.37    78.01\n",
       "2       Basic XGB   6.22     91.89      48.57    5.10    82.99\n",
       "3    Weighted XGB  49.27     74.52      20.62   75.49    82.41\n",
       "4       SMOTE XGB   6.75     91.81      44.54    5.57    82.81\n",
       "5      ADASYN XGB   6.03     91.79      43.35    4.97    82.85"
      ]
     },
     "execution_count": 18,
     "metadata": {},
     "output_type": "execute_result"
    }
   ],
   "source": [
    "# Choose between XGBClassifier Variants\n",
    "\n",
    "# Basic model for comparison\n",
    "pipe = Pipeline(steps=[('ct', ct), ('xgb', XGBClassifier(random_state=12))])\n",
    "xgb_model = pipe.fit(X_train, y_train)\n",
    "ml4, mdf4 = model_scores(xgb_model, X_train, y_train, model_name=\"Basic XGB\")\n",
    "\n",
    "# Using the scale_pos_weight parameter to add weight to the minority class.\n",
    "# The specific number used is the ratio of negative class to the positive class.\n",
    "num_negatives = (y_train==0).sum()\n",
    "num_positives = (y_train==1).sum()\n",
    "neg_pos_ratio = num_negatives / num_positives\n",
    "neg_pos_ratio\n",
    "\n",
    "pipe = Pipeline(steps=[('ct',ct), \n",
    "                       ('xgb', XGBClassifier(random_state=12, scale_pos_weight=neg_pos_ratio))])\n",
    "xgb_weighted = pipe.fit(X_train, y_train)\n",
    "ml4, mdf4 = model_scores(xgb_weighted, X_train, y_train, model_list=ml4, model_name=\"Weighted XGB\")\n",
    "\n",
    "# Using SMOTE to oversample the positive class.\n",
    "pipe = ImPipeline(steps=[('ct', ct), \n",
    "                         ('ss', StandardScaler()), \n",
    "                         ('sm', SMOTE(random_state=12)), \n",
    "                         ('xgb', XGBClassifier(random_state=12))])\n",
    "xgb_smote = pipe.fit(X_train, y_train)\n",
    "ml4, mdf4 = model_scores(xgb_smote, X_train, y_train, model_list=ml4,  model_name=\"SMOTE XGB\")\n",
    "\n",
    "# Using ADASYN to oversample the positive class.\n",
    "pipe = ImPipeline(steps=[('ct', ct), \n",
    "                         ('ss', StandardScaler()), \n",
    "                         ('sm', ADASYN(random_state=12)), \n",
    "                         ('xgb', XGBClassifier(random_state=12))])\n",
    "xgb_adasyn = pipe.fit(X_train, y_train)\n",
    "ml4, mdf4 = model_scores(xgb_adasyn, X_train, y_train, model_list=ml4, model_name=\"ADASYN XGB\")\n",
    "mdf4"
   ]
  },
  {
   "cell_type": "markdown",
   "id": "4b3e70c1",
   "metadata": {},
   "source": [
    "The Weighted XGBClassifier siginicantly outperformed the others in both metrics and speed. "
   ]
  },
  {
   "cell_type": "markdown",
   "id": "37a9a34f",
   "metadata": {},
   "source": [
    "#### Hyperparameter Tuning\n",
    "I will start by using RandomizedSearchCV to randomly select parameters within ranges, scoring them, then searching for the parameters which produce the best f2-score. \n",
    "\n",
    "To save computation time I've pickled the results from the best model the search found. For more information, you can find the [code here.](./code/my_module.py)"
   ]
  },
  {
   "cell_type": "code",
   "execution_count": 26,
   "id": "aea72575",
   "metadata": {
    "ExecuteTime": {
     "end_time": "2023-09-14T20:18:00.726910Z",
     "start_time": "2023-09-14T20:18:00.703761Z"
    }
   },
   "outputs": [
    {
     "name": "stdout",
     "output_type": "stream",
     "text": [
      "Parameters for Best Model:\n"
     ]
    },
    {
     "data": {
      "text/plain": [
       "xbg__reg_lambda           10.000000\n",
       "xbg__reg_alpha             0.100000\n",
       "xbg__n_estimators        650.000000\n",
       "xbg__min_child_weight      1.000000\n",
       "xbg__max_depth             4.000000\n",
       "xbg__gamma                10.000000\n",
       "xbg__eta                   0.150000\n",
       "xbg__colsample_bytree      0.428571\n",
       "dtype: float64"
      ]
     },
     "metadata": {},
     "output_type": "display_data"
    },
    {
     "name": "stdout",
     "output_type": "stream",
     "text": [
      "\n",
      "Best Model Scores:\n"
     ]
    },
    {
     "data": {
      "text/html": [
       "<div>\n",
       "<style scoped>\n",
       "    .dataframe tbody tr th:only-of-type {\n",
       "        vertical-align: middle;\n",
       "    }\n",
       "\n",
       "    .dataframe tbody tr th {\n",
       "        vertical-align: top;\n",
       "    }\n",
       "\n",
       "    .dataframe thead th {\n",
       "        text-align: right;\n",
       "    }\n",
       "</style>\n",
       "<table border=\"1\" class=\"dataframe\">\n",
       "  <thead>\n",
       "    <tr style=\"text-align: right;\">\n",
       "      <th></th>\n",
       "      <th>name</th>\n",
       "      <th>f2</th>\n",
       "      <th>accuracy</th>\n",
       "      <th>precision</th>\n",
       "      <th>recall</th>\n",
       "      <th>roc_auc</th>\n",
       "    </tr>\n",
       "  </thead>\n",
       "  <tbody>\n",
       "    <tr>\n",
       "      <th>0</th>\n",
       "      <td>Best Estimator from RS</td>\n",
       "      <td>50.32</td>\n",
       "      <td>72.72</td>\n",
       "      <td>20.18</td>\n",
       "      <td>80.33</td>\n",
       "      <td>83.63</td>\n",
       "    </tr>\n",
       "  </tbody>\n",
       "</table>\n",
       "</div>"
      ],
      "text/plain": [
       "                     name     f2  accuracy  precision  recall  roc_auc\n",
       "0  Best Estimator from RS  50.32     72.72      20.18   80.33    83.63"
      ]
     },
     "metadata": {},
     "output_type": "display_data"
    }
   ],
   "source": [
    "# pipe and parameter ranges used in RandomizedSearchCV\n",
    "pipe = Pipeline(steps=[('ct', ct),\n",
    "                       ('xbg', XGBClassifier(random_state=12,\n",
    "                                             tree_method='hist',\n",
    "                                             scale_pos_weight=neg_pos_ratio))])\n",
    "\n",
    "params = {\n",
    "    'xbg__n_estimators': range(50, 1000, 50),\n",
    "    'xbg__max_depth': range(1, 15),\n",
    "    'xbg__eta': [0.001, 0.005, 0.01, 0.05, 0.1, 0.15, 0.2, 0.25, 0.3],\n",
    "    'xbg__colsample_bytree': np.linspace(0, 1, 50),\n",
    "    'xbg__min_child_weight': range(1, 10),\n",
    "    'xbg__gamma': [0, 0.1, 1, 10, 100, 1000],\n",
    "    'xbg__reg_alpha': [0, 0.01, 0.1, 1, 10],\n",
    "    'xbg__reg_lambda': [0, 0.01, 0.1, 1, 10]\n",
    "}\n",
    "\n",
    "# parameters for best estimator\n",
    "with open('pickles/rs_params.pkl', 'rb') as h:\n",
    "    rs_params = pickle.load(h)\n",
    "\n",
    "# scores best estimators from searches\n",
    "with open('pickles/df5.pkl', 'rb') as g:\n",
    "    search_scores_df = pickle.load(g)\n",
    "\n",
    "print('Parameters for Best Model:')\n",
    "display(pd.Series(rs_params))\n",
    "print('')\n",
    "print('Best Model Scores:')\n",
    "display(search_scores_df.head(1))"
   ]
  },
  {
   "cell_type": "markdown",
   "id": "1990a036",
   "metadata": {
    "ExecuteTime": {
     "end_time": "2023-09-14T16:37:36.395404Z",
     "start_time": "2023-09-14T16:37:36.318642Z"
    }
   },
   "source": [
    "Lastly, I will use these parameters and see if I can improve the f2-score by manipulating n_estimators, max_depth, and learning rate parameters and using GridSearchCV to score every combination of parameters from the options given. \n",
    "\n",
    "Once again, I've pickled the results from the best model the search found. For more information, you can find the [code here.](./code/my_module.py)"
   ]
  },
  {
   "cell_type": "code",
   "execution_count": 27,
   "id": "28649aa7",
   "metadata": {
    "ExecuteTime": {
     "end_time": "2023-09-14T20:18:26.562973Z",
     "start_time": "2023-09-14T20:18:26.516956Z"
    }
   },
   "outputs": [
    {
     "name": "stdout",
     "output_type": "stream",
     "text": [
      "Parameters for Best Model:\n"
     ]
    },
    {
     "data": {
      "text/plain": [
       "xbg__eta               0.1\n",
       "xbg__max_depth         2.0\n",
       "xbg__n_estimators    400.0\n",
       "dtype: float64"
      ]
     },
     "metadata": {},
     "output_type": "display_data"
    },
    {
     "name": "stdout",
     "output_type": "stream",
     "text": [
      "\n",
      "Best Model Scores:\n"
     ]
    },
    {
     "data": {
      "text/html": [
       "<div>\n",
       "<style scoped>\n",
       "    .dataframe tbody tr th:only-of-type {\n",
       "        vertical-align: middle;\n",
       "    }\n",
       "\n",
       "    .dataframe tbody tr th {\n",
       "        vertical-align: top;\n",
       "    }\n",
       "\n",
       "    .dataframe thead th {\n",
       "        text-align: right;\n",
       "    }\n",
       "</style>\n",
       "<table border=\"1\" class=\"dataframe\">\n",
       "  <thead>\n",
       "    <tr style=\"text-align: right;\">\n",
       "      <th></th>\n",
       "      <th>name</th>\n",
       "      <th>f2</th>\n",
       "      <th>accuracy</th>\n",
       "      <th>precision</th>\n",
       "      <th>recall</th>\n",
       "      <th>roc_auc</th>\n",
       "    </tr>\n",
       "  </thead>\n",
       "  <tbody>\n",
       "    <tr>\n",
       "      <th>0</th>\n",
       "      <td>Best Estimator from RS</td>\n",
       "      <td>50.32</td>\n",
       "      <td>72.72</td>\n",
       "      <td>20.18</td>\n",
       "      <td>80.33</td>\n",
       "      <td>83.63</td>\n",
       "    </tr>\n",
       "    <tr>\n",
       "      <th>1</th>\n",
       "      <td>Best Estimator from GS</td>\n",
       "      <td>50.46</td>\n",
       "      <td>72.82</td>\n",
       "      <td>20.26</td>\n",
       "      <td>80.44</td>\n",
       "      <td>83.65</td>\n",
       "    </tr>\n",
       "  </tbody>\n",
       "</table>\n",
       "</div>"
      ],
      "text/plain": [
       "                     name     f2  accuracy  precision  recall  roc_auc\n",
       "0  Best Estimator from RS  50.32     72.72      20.18   80.33    83.63\n",
       "1  Best Estimator from GS  50.46     72.82      20.26   80.44    83.65"
      ]
     },
     "metadata": {},
     "output_type": "display_data"
    }
   ],
   "source": [
    "# Classifier, pipe, and parameter ranges used in the GridSearchCV\n",
    "xgb = XGBClassifier(reg_lambda=10,\n",
    "                    reg_alpha=0.1,\n",
    "                    min_child_weight=1,\n",
    "                    gamma=10,\n",
    "                    colsample_bytree=3 / 7,\n",
    "                    tree_method=\"hist\",\n",
    "                    scale_pos_weight=neg_pos_ratio,\n",
    "                    random_state=12)\n",
    "\n",
    "pipe = Pipeline(steps=[('ct', ct), ('xbg', xgb)])\n",
    "\n",
    "params = {\n",
    "    'xbg__n_estimators': np.linspace(400, 800, 10, dtype=int),\n",
    "    'xbg__max_depth': [2, 3, 4, 5, 6, 7],\n",
    "    'xbg__eta': np.linspace(0.1, 0.2, 10)\n",
    "}\n",
    "\n",
    "# parameters for best estimator\n",
    "with open('pickles/gs_params.pkl', 'rb') as h:\n",
    "    gs_params = pickle.load(h)\n",
    "\n",
    "# loading the saved best model found during the grid search\n",
    "with open('pickles/gs_model.pkl', 'rb') as h:\n",
    "    gs_model = joblib.load(h)\n",
    "\n",
    "print('Parameters for Best Model:')\n",
    "display(pd.Series(gs_params))\n",
    "print('')\n",
    "print('Best Model Scores:')\n",
    "display(search_scores_df)"
   ]
  },
  {
   "cell_type": "markdown",
   "id": "5de129c6",
   "metadata": {},
   "source": [
    "Grid searching helped improve metrics across the board. I will use this as the final model. "
   ]
  },
  {
   "cell_type": "markdown",
   "id": "38835df1",
   "metadata": {},
   "source": [
    "## Evaluation\n",
    "***\n",
    "Now that we have found the final model, I will score each of our models on the test data. "
   ]
  },
  {
   "cell_type": "code",
   "execution_count": 28,
   "id": "ceda6172",
   "metadata": {
    "ExecuteTime": {
     "end_time": "2023-09-14T20:18:34.036905Z",
     "start_time": "2023-09-14T20:18:32.927362Z"
    }
   },
   "outputs": [
    {
     "data": {
      "text/html": [
       "<div>\n",
       "<style scoped>\n",
       "    .dataframe tbody tr th:only-of-type {\n",
       "        vertical-align: middle;\n",
       "    }\n",
       "\n",
       "    .dataframe tbody tr th {\n",
       "        vertical-align: top;\n",
       "    }\n",
       "\n",
       "    .dataframe thead th {\n",
       "        text-align: right;\n",
       "    }\n",
       "</style>\n",
       "<table border=\"1\" class=\"dataframe\">\n",
       "  <thead>\n",
       "    <tr style=\"text-align: right;\">\n",
       "      <th></th>\n",
       "      <th>name</th>\n",
       "      <th>f2</th>\n",
       "      <th>accuracy</th>\n",
       "      <th>precision</th>\n",
       "      <th>recall</th>\n",
       "      <th>roc_auc</th>\n",
       "    </tr>\n",
       "  </thead>\n",
       "  <tbody>\n",
       "    <tr>\n",
       "      <th>0</th>\n",
       "      <td>Dummy Model</td>\n",
       "      <td>0.00</td>\n",
       "      <td>91.91</td>\n",
       "      <td>0.00</td>\n",
       "      <td>0.00</td>\n",
       "      <td>50.00</td>\n",
       "    </tr>\n",
       "    <tr>\n",
       "      <th>1</th>\n",
       "      <td>Baseline Model</td>\n",
       "      <td>41.54</td>\n",
       "      <td>77.72</td>\n",
       "      <td>19.76</td>\n",
       "      <td>57.34</td>\n",
       "      <td>68.43</td>\n",
       "    </tr>\n",
       "    <tr>\n",
       "      <th>2</th>\n",
       "      <td>Final Model</td>\n",
       "      <td>50.59</td>\n",
       "      <td>72.71</td>\n",
       "      <td>20.26</td>\n",
       "      <td>80.87</td>\n",
       "      <td>76.43</td>\n",
       "    </tr>\n",
       "  </tbody>\n",
       "</table>\n",
       "</div>"
      ],
      "text/plain": [
       "             name     f2  accuracy  precision  recall  roc_auc\n",
       "0     Dummy Model   0.00     91.91       0.00    0.00    50.00\n",
       "1  Baseline Model  41.54     77.72      19.76   57.34    68.43\n",
       "2     Final Model  50.59     72.71      20.26   80.87    76.43"
      ]
     },
     "execution_count": 28,
     "metadata": {},
     "output_type": "execute_result"
    }
   ],
   "source": [
    "models_dic = {\n",
    "    'Dummy Model': dummy_model,\n",
    "    'Baseline Model': baseline_model,\n",
    "    'Final Model': gs_model\n",
    "}\n",
    "ml = []\n",
    "for key in models_dic:\n",
    "    model = models_dic[key]\n",
    "    ml, mdf = model_scores(model, X_test, y_test, model_list=ml, cv=0, model_name=key)\n",
    "mdf"
   ]
  },
  {
   "cell_type": "markdown",
   "id": "99ce65df",
   "metadata": {},
   "source": [
    "The final model was the best performing model on the test data, capturing almost 81% of all of the positive cases. Given the over 300,000 data entries, lack of data leakage, and cross-validation done during training, I'm confident that this model would generalize. "
   ]
  },
  {
   "cell_type": "code",
   "execution_count": 29,
   "id": "7726d252",
   "metadata": {
    "ExecuteTime": {
     "end_time": "2023-09-14T20:18:36.188325Z",
     "start_time": "2023-09-14T20:18:35.665136Z"
    }
   },
   "outputs": [
    {
     "data": {
      "image/png": "[encoded data removed]",
      "text/plain": [
       "<Figure size 640x480 with 2 Axes>"
      ]
     },
     "metadata": {},
     "output_type": "display_data"
    }
   ],
   "source": [
    "ConfusionMatrixDisplay.from_predictions(y_test, gs_model.predict(X_test), normalize='true');"
   ]
  },
  {
   "cell_type": "markdown",
   "id": "7bba4cdd",
   "metadata": {},
   "source": [
    "Based on this confusion matrix our model would correctly predict 81% of positive cases and 72% of negative cases. It would incorrectly predict 28% of negative cases as positive and 19% of positive cases as negative. \n",
    "\n",
    "Next we can look at the ROC curve to view the relationship between the true positive rate and false positve rate across all classification thresholds. "
   ]
  },
  {
   "cell_type": "code",
   "execution_count": 30,
   "id": "d4e93d3b",
   "metadata": {
    "ExecuteTime": {
     "end_time": "2023-09-14T20:18:37.216110Z",
     "start_time": "2023-09-14T20:18:36.703308Z"
    }
   },
   "outputs": [
    {
     "data": {
      "image/png": "[encoded data removed]",
      "text/plain": [
       "<Figure size 640x480 with 1 Axes>"
      ]
     },
     "metadata": {},
     "output_type": "display_data"
    }
   ],
   "source": [
    "RocCurveDisplay.from_estimator(gs_model, X_test, y_test);"
   ]
  },
  {
   "cell_type": "markdown",
   "id": "3bfdbc34",
   "metadata": {},
   "source": [
    "We may adjust the the classification threshold to meet the hospital's needs. \n",
    "\n",
    "For example, say we needed to correctly identify at least 90% of the positve cases. "
   ]
  },
  {
   "cell_type": "code",
   "execution_count": 31,
   "id": "1472a0bb",
   "metadata": {
    "ExecuteTime": {
     "end_time": "2023-09-14T20:18:38.077745Z",
     "start_time": "2023-09-14T20:18:37.546300Z"
    },
    "scrolled": true
   },
   "outputs": [
    {
     "data": {
      "image/png": "[encoded data removed]",
      "text/plain": [
       "<Figure size 640x480 with 2 Axes>"
      ]
     },
     "metadata": {},
     "output_type": "display_data"
    }
   ],
   "source": [
    "# setting classification threshold to 0.37\n",
    "probabilities = gs_model.predict_proba(X_test)[:, 1]\n",
    "new_threshold = 0.37\n",
    "predicted_labels = (probabilities > new_threshold).astype(int)\n",
    "ConfusionMatrixDisplay.from_predictions(y_test, predicted_labels, normalize='true');"
   ]
  },
  {
   "cell_type": "markdown",
   "id": "1fcf823d",
   "metadata": {},
   "source": [
    "Now we are correctly predicting 90% of positive cases. This change decreased the rate that we correctly identify negative cases from 72% to 61% and increased the rate of incorrectly predicting negative cases as positive from 28% to 39%."
   ]
  },
  {
   "cell_type": "markdown",
   "id": "d8e6ff80",
   "metadata": {},
   "source": [
    "## Conclusions"
   ]
  },
  {
   "cell_type": "markdown",
   "id": "74277957",
   "metadata": {},
   "source": [
    "### Recommendations\n",
    "- Based on our final model I would recommend that the hospital develop a questionaire to gather the appropriate information and to use the model to inform medical decisions. \n",
    "- Depending on the needs and resources of the hospital, we could adjust the classification threshold to increase our true positive rate or decrease our false positive rate. "
   ]
  },
  {
   "cell_type": "markdown",
   "id": "02e5a583",
   "metadata": {},
   "source": [
    "### Limitations\n",
    "- This model would not be as helpful in cases where the cost of a positve identification is increased, such as recommending a more invasive procedure, medication, or otherwise more expenive or cumbersome consequence.  \n",
    "- It may be difficult to get 18 pieces of data from a patient. "
   ]
  },
  {
   "cell_type": "markdown",
   "id": "b6be55db",
   "metadata": {},
   "source": [
    "### Next Steps\n",
    "- It could be helpful to look at feature importance. Eliminating features in the model may make it easier for the hospital to collect data without sacrificing the model's performance. \n",
    "- It could also be helpful to research if there are other features which may help predict having a heart condition."
   ]
  }
 ],
 "metadata": {
  "kernelspec": {
   "display_name": "Python 3 (ipykernel)",
   "language": "python",
   "name": "python3"
  },
  "language_info": {
   "codemirror_mode": {
    "name": "ipython",
    "version": 3
   },
   "file_extension": ".py",
   "mimetype": "text/x-python",
   "name": "python",
   "nbconvert_exporter": "python",
   "pygments_lexer": "ipython3",
   "version": "3.11.3"
  },
  "notify_time": "5",
  "varInspector": {
   "cols": {
    "lenName": 16,
    "lenType": 16,
    "lenVar": 40
   },
   "kernels_config": {
    "python": {
     "delete_cmd_postfix": "",
     "delete_cmd_prefix": "del ",
     "library": "var_list.py",
     "varRefreshCmd": "print(var_dic_list())"
    },
    "r": {
     "delete_cmd_postfix": ") ",
     "delete_cmd_prefix": "rm(",
     "library": "var_list.r",
     "varRefreshCmd": "cat(var_dic_list()) "
    }
   },
   "types_to_exclude": [
    "module",
    "function",
    "builtin_function_or_method",
    "instance",
    "_Feature"
   ],
   "window_display": false
  }
 },
 "nbformat": 4,
 "nbformat_minor": 5
}
