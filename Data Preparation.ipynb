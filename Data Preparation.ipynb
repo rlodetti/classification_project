{
 "cells": [
  {
   "cell_type": "code",
   "execution_count": 2,
   "metadata": {
    "ExecuteTime": {
     "end_time": "2023-08-04T01:03:44.413307Z",
     "start_time": "2023-08-04T01:03:43.086158Z"
    }
   },
   "outputs": [],
   "source": [
    "import pandas as pd\n",
    "df = pd.read_csv('data/Cardiovascular_Diseases_Risk_Prediction_Dataset.csv')"
   ]
  },
  {
   "cell_type": "code",
   "execution_count": 10,
   "metadata": {
    "ExecuteTime": {
     "end_time": "2023-08-04T01:21:40.320720Z",
     "start_time": "2023-08-04T01:21:39.851755Z"
    }
   },
   "outputs": [],
   "source": [
    "from sklearn.model_selection import train_test_split\n",
    "y = df['Heart_Disease']\n",
    "X = df.drop('Heart_Disease',axis=1)\n",
    "X_train, X_test, y_train, y_test = train_test_split(\n",
    "    X, y, random_state=12, stratify= y)"
   ]
  },
  {
   "cell_type": "code",
   "execution_count": 27,
   "metadata": {
    "ExecuteTime": {
     "end_time": "2023-08-04T14:02:12.185856Z",
     "start_time": "2023-08-04T14:02:12.176571Z"
    }
   },
   "outputs": [
    {
     "data": {
      "text/plain": [
       "235074     No\n",
       "153001     No\n",
       "70548      No\n",
       "193357     No\n",
       "168127     No\n",
       "70544      No\n",
       "39462      No\n",
       "57228      No\n",
       "11658      No\n",
       "167965     No\n",
       "225784     No\n",
       "9467       No\n",
       "71178      No\n",
       "261145    Yes\n",
       "48497      No\n",
       "Name: Heart_Disease, dtype: object"
      ]
     },
     "execution_count": 27,
     "metadata": {},
     "output_type": "execute_result"
    }
   ],
   "source": [
    "y_test[:15]"
   ]
  },
  {
   "cell_type": "code",
   "execution_count": 29,
   "metadata": {
    "ExecuteTime": {
     "end_time": "2023-08-04T14:03:08.656547Z",
     "start_time": "2023-08-04T14:03:08.602304Z"
    }
   },
   "outputs": [],
   "source": [
    "# Transforming the target variable into 1's and 0's\n",
    "from sklearn.preprocessing import LabelEncoder\n",
    "le = LabelEncoder()\n",
    "y_train = le.fit_transform(y_train)\n",
    "y_test = le.transform(y_test)"
   ]
  },
  {
   "cell_type": "code",
   "execution_count": 30,
   "metadata": {
    "ExecuteTime": {
     "end_time": "2023-08-04T14:08:38.639476Z",
     "start_time": "2023-08-04T14:08:38.345121Z"
    }
   },
   "outputs": [
    {
     "data": {
      "text/html": [
       "<div>\n",
       "<style scoped>\n",
       "    .dataframe tbody tr th:only-of-type {\n",
       "        vertical-align: middle;\n",
       "    }\n",
       "\n",
       "    .dataframe tbody tr th {\n",
       "        vertical-align: top;\n",
       "    }\n",
       "\n",
       "    .dataframe thead th {\n",
       "        text-align: right;\n",
       "    }\n",
       "</style>\n",
       "<table border=\"1\" class=\"dataframe\">\n",
       "  <thead>\n",
       "    <tr style=\"text-align: right;\">\n",
       "      <th></th>\n",
       "      <th>0</th>\n",
       "      <th>1</th>\n",
       "      <th>2</th>\n",
       "      <th>3</th>\n",
       "      <th>4</th>\n",
       "    </tr>\n",
       "  </thead>\n",
       "  <tbody>\n",
       "    <tr>\n",
       "      <th>0</th>\n",
       "      <td>44.0</td>\n",
       "      <td>0.0</td>\n",
       "      <td>4.0</td>\n",
       "      <td>4.0</td>\n",
       "      <td>10.0</td>\n",
       "    </tr>\n",
       "    <tr>\n",
       "      <th>1</th>\n",
       "      <td>47.0</td>\n",
       "      <td>0.0</td>\n",
       "      <td>1.0</td>\n",
       "      <td>4.0</td>\n",
       "      <td>4.0</td>\n",
       "    </tr>\n",
       "    <tr>\n",
       "      <th>2</th>\n",
       "      <td>57.0</td>\n",
       "      <td>1.0</td>\n",
       "      <td>4.0</td>\n",
       "      <td>4.0</td>\n",
       "      <td>11.0</td>\n",
       "    </tr>\n",
       "    <tr>\n",
       "      <th>3</th>\n",
       "      <td>32.0</td>\n",
       "      <td>0.0</td>\n",
       "      <td>2.0</td>\n",
       "      <td>4.0</td>\n",
       "      <td>12.0</td>\n",
       "    </tr>\n",
       "    <tr>\n",
       "      <th>4</th>\n",
       "      <td>67.0</td>\n",
       "      <td>1.0</td>\n",
       "      <td>4.0</td>\n",
       "      <td>2.0</td>\n",
       "      <td>1.0</td>\n",
       "    </tr>\n",
       "  </tbody>\n",
       "</table>\n",
       "</div>"
      ],
      "text/plain": [
       "      0    1    2    3     4\n",
       "0  44.0  0.0  4.0  4.0  10.0\n",
       "1  47.0  0.0  1.0  4.0   4.0\n",
       "2  57.0  1.0  4.0  4.0  11.0\n",
       "3  32.0  0.0  2.0  4.0  12.0\n",
       "4  67.0  1.0  4.0  2.0   1.0"
      ]
     },
     "execution_count": 30,
     "metadata": {},
     "output_type": "execute_result"
    }
   ],
   "source": [
    "from sklearn.preprocessing import OrdinalEncoder\n",
    "test = X_train[['Height_(cm)', 'Sex', 'General_Health', 'Checkup', 'Age_Category']].copy()\n",
    "oe = OrdinalEncoder()\n",
    "test_encoded = oe.fit_transform(test)\n",
    "test_df = pd.DataFrame(test_encoded)\n",
    "test_df.head()"
   ]
  },
  {
   "cell_type": "code",
   "execution_count": 32,
   "metadata": {
    "ExecuteTime": {
     "end_time": "2023-08-04T14:09:49.615830Z",
     "start_time": "2023-08-04T14:09:49.609973Z"
    }
   },
   "outputs": [
    {
     "data": {
      "text/plain": [
       "[array([ 91.,  94.,  96.,  97.,  99., 100., 102., 103., 104., 105., 106.,\n",
       "        107., 108., 110., 115., 117., 119., 120., 122., 124., 125., 127.,\n",
       "        130., 132., 135., 137., 140., 142., 143., 144., 145., 146., 147.,\n",
       "        149., 150., 151., 152., 153., 154., 155., 156., 157., 158., 159.,\n",
       "        160., 161., 162., 163., 164., 165., 166., 167., 168., 169., 170.,\n",
       "        171., 172., 173., 174., 175., 176., 177., 178., 179., 180., 181.,\n",
       "        182., 183., 184., 185., 186., 187., 188., 189., 190., 191., 193.,\n",
       "        195., 196., 198., 200., 201., 203., 205., 206., 208., 211., 213.,\n",
       "        216., 218., 221., 224., 226., 229., 234.]),\n",
       " array(['Female', 'Male'], dtype=object),\n",
       " array(['Excellent', 'Fair', 'Good', 'Poor', 'Very Good'], dtype=object),\n",
       " array(['5 or more years ago', 'Never', 'Within the past 2 years',\n",
       "        'Within the past 5 years', 'Within the past year'], dtype=object),\n",
       " array(['18-24', '25-29', '30-34', '35-39', '40-44', '45-49', '50-54',\n",
       "        '55-59', '60-64', '65-69', '70-74', '75-79', '80+'], dtype=object)]"
      ]
     },
     "execution_count": 32,
     "metadata": {},
     "output_type": "execute_result"
    }
   ],
   "source": [
    "oe.categories_\n"
   ]
  },
  {
   "cell_type": "code",
   "execution_count": null,
   "metadata": {},
   "outputs": [],
   "source": [
    "from sklearn.preprocessing import OneHotEncoder\n",
    "ohe = OneHotEncoder(drop='first',handle_unknown='ignore')\n",
    "X_train= ohe.fit_transform(X_train)\n",
    "X_test= ohe.transform(X_test)"
   ]
  },
  {
   "cell_type": "code",
   "execution_count": 32,
   "metadata": {
    "ExecuteTime": {
     "end_time": "2023-08-03T01:25:14.322075Z",
     "start_time": "2023-08-03T01:25:13.987899Z"
    }
   },
   "outputs": [
    {
     "data": {
      "text/plain": [
       "Index(['Height_(cm)', 'Weight_(kg)', 'BMI', 'Alcohol_Consumption',\n",
       "       'Fruit_Consumption', 'Green_Vegetables_Consumption',\n",
       "       'FriedPotato_Consumption', 'General_Health_Excellent',\n",
       "       'General_Health_Fair', 'General_Health_Good', 'General_Health_Poor',\n",
       "       'General_Health_Very Good', 'Checkup_5 or more years ago',\n",
       "       'Checkup_Never', 'Checkup_Within the past 2 years',\n",
       "       'Checkup_Within the past 5 years', 'Checkup_Within the past year',\n",
       "       'Exercise_No', 'Exercise_Yes', 'Heart_Disease_No', 'Heart_Disease_Yes',\n",
       "       'Skin_Cancer_No', 'Skin_Cancer_Yes', 'Other_Cancer_No',\n",
       "       'Other_Cancer_Yes', 'Depression_No', 'Depression_Yes', 'Diabetes_No',\n",
       "       'Diabetes_No, pre-diabetes or borderline diabetes', 'Diabetes_Yes',\n",
       "       'Diabetes_Yes, but female told only during pregnancy', 'Arthritis_No',\n",
       "       'Arthritis_Yes', 'Sex_Female', 'Sex_Male', 'Age_Category_18-24',\n",
       "       'Age_Category_25-29', 'Age_Category_30-34', 'Age_Category_35-39',\n",
       "       'Age_Category_40-44', 'Age_Category_45-49', 'Age_Category_50-54',\n",
       "       'Age_Category_55-59', 'Age_Category_60-64', 'Age_Category_65-69',\n",
       "       'Age_Category_70-74', 'Age_Category_75-79', 'Age_Category_80+',\n",
       "       'Smoking_History_No', 'Smoking_History_Yes'],\n",
       "      dtype='object')"
      ]
     },
     "execution_count": 32,
     "metadata": {},
     "output_type": "execute_result"
    }
   ],
   "source": [
    "pd.get_dummies(df).columns"
   ]
  },
  {
   "cell_type": "code",
   "execution_count": null,
   "metadata": {},
   "outputs": [],
   "source": []
  },
  {
   "cell_type": "code",
   "execution_count": null,
   "metadata": {},
   "outputs": [],
   "source": []
  },
  {
   "cell_type": "code",
   "execution_count": null,
   "metadata": {},
   "outputs": [],
   "source": []
  },
  {
   "cell_type": "code",
   "execution_count": null,
   "metadata": {},
   "outputs": [],
   "source": []
  },
  {
   "cell_type": "code",
   "execution_count": null,
   "metadata": {},
   "outputs": [],
   "source": []
  },
  {
   "cell_type": "code",
   "execution_count": null,
   "metadata": {},
   "outputs": [],
   "source": []
  },
  {
   "cell_type": "code",
   "execution_count": null,
   "metadata": {},
   "outputs": [],
   "source": []
  },
  {
   "cell_type": "code",
   "execution_count": null,
   "metadata": {},
   "outputs": [],
   "source": []
  },
  {
   "cell_type": "code",
   "execution_count": null,
   "metadata": {},
   "outputs": [],
   "source": [
    "from sklearn.dummy import DummyClassifier\n",
    "dummy_model = DummyClassifier(strategy=\"most_frequent\")"
   ]
  },
  {
   "cell_type": "code",
   "execution_count": null,
   "metadata": {},
   "outputs": [],
   "source": []
  },
  {
   "cell_type": "code",
   "execution_count": null,
   "metadata": {},
   "outputs": [],
   "source": []
  },
  {
   "cell_type": "code",
   "execution_count": null,
   "metadata": {},
   "outputs": [],
   "source": []
  }
 ],
 "metadata": {
  "kernelspec": {
   "display_name": "Python (learn-env3)",
   "language": "python",
   "name": "learn-env3"
  },
  "language_info": {
   "codemirror_mode": {
    "name": "ipython",
    "version": 3
   },
   "file_extension": ".py",
   "mimetype": "text/x-python",
   "name": "python",
   "nbconvert_exporter": "python",
   "pygments_lexer": "ipython3",
   "version": "3.8.5"
  },
  "varInspector": {
   "cols": {
    "lenName": 16,
    "lenType": 16,
    "lenVar": 40
   },
   "kernels_config": {
    "python": {
     "delete_cmd_postfix": "",
     "delete_cmd_prefix": "del ",
     "library": "var_list.py",
     "varRefreshCmd": "print(var_dic_list())"
    },
    "r": {
     "delete_cmd_postfix": ") ",
     "delete_cmd_prefix": "rm(",
     "library": "var_list.r",
     "varRefreshCmd": "cat(var_dic_list()) "
    }
   },
   "types_to_exclude": [
    "module",
    "function",
    "builtin_function_or_method",
    "instance",
    "_Feature"
   ],
   "window_display": false
  }
 },
 "nbformat": 4,
 "nbformat_minor": 4
}
